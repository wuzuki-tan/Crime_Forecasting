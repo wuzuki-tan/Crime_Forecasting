{
  "metadata": {
    "kernelspec": {
      "language": "python",
      "display_name": "Python 3",
      "name": "python3"
    },
    "language_info": {
      "name": "python",
      "version": "3.10.13",
      "mimetype": "text/x-python",
      "codemirror_mode": {
        "name": "ipython",
        "version": 3
      },
      "pygments_lexer": "ipython3",
      "nbconvert_exporter": "python",
      "file_extension": ".py"
    },
    "kaggle": {
      "accelerator": "none",
      "dataSources": [
        {
          "sourceId": 77420,
          "databundleVersionId": 8446444,
          "sourceType": "competition"
        }
      ],
      "dockerImageVersionId": 30732,
      "isInternetEnabled": false,
      "language": "python",
      "sourceType": "notebook",
      "isGpuEnabled": false
    },
    "colab": {
      "name": "22f1001208-notebook-t22024",
      "provenance": [],
      "include_colab_link": true
    }
  },
  "nbformat_minor": 0,
  "nbformat": 4,
  "cells": [
    {
      "cell_type": "markdown",
      "metadata": {
        "id": "view-in-github",
        "colab_type": "text"
      },
      "source": [
        "<a href=\"https://colab.research.google.com/github/wuzuki-tan/Crime_Forecasting/blob/main/Crime_Forecasting.ipynb\" target=\"_parent\"><img src=\"https://colab.research.google.com/assets/colab-badge.svg\" alt=\"Open In Colab\"/></a>"
      ]
    },
    {
      "cell_type": "code",
      "source": [
        "# importing necessary libraries\n",
        "import pandas as pd\n",
        "import numpy as np\n",
        "import matplotlib.pyplot as plt\n",
        "import seaborn as sns"
      ],
      "metadata": {
        "execution": {
          "iopub.status.busy": "2024-07-30T18:59:52.894956Z",
          "iopub.execute_input": "2024-07-30T18:59:52.896062Z",
          "iopub.status.idle": "2024-07-30T18:59:53.64915Z",
          "shell.execute_reply.started": "2024-07-30T18:59:52.896012Z",
          "shell.execute_reply": "2024-07-30T18:59:53.647579Z"
        },
        "trusted": true,
        "id": "NK0XWS-GcaQo"
      },
      "execution_count": 3,
      "outputs": []
    },
    {
      "cell_type": "code",
      "source": [
        "traindf=pd.read_csv(\"/kaggle/input/crime-cast-forecasting-crime-categories/train.csv\")\n",
        "print(\"features : \",traindf.columns[:-1])\n",
        "print(\"label : \",[traindf.columns[-1]])"
      ],
      "metadata": {
        "execution": {
          "iopub.status.busy": "2024-07-30T18:59:53.650942Z",
          "iopub.execute_input": "2024-07-30T18:59:53.651411Z",
          "iopub.status.idle": "2024-07-30T18:59:53.888716Z",
          "shell.execute_reply.started": "2024-07-30T18:59:53.65137Z",
          "shell.execute_reply": "2024-07-30T18:59:53.88723Z"
        },
        "trusted": true,
        "id": "jx0ifSFscaQp",
        "outputId": "60483a60-43b3-4c94-dd3d-387cf928974c",
        "colab": {
          "base_uri": "https://localhost:8080/"
        }
      },
      "execution_count": 4,
      "outputs": [
        {
          "output_type": "stream",
          "name": "stdout",
          "text": [
            "features :  Index(['Location', 'Cross_Street', 'Latitude', 'Longitude', 'Date_Reported',\n",
            "       'Date_Occurred', 'Time_Occurred', 'Area_ID', 'Area_Name',\n",
            "       'Reporting_District_no', 'Part 1-2', 'Modus_Operandi', 'Victim_Age',\n",
            "       'Victim_Sex', 'Victim_Descent', 'Premise_Code', 'Premise_Description',\n",
            "       'Weapon_Used_Code', 'Weapon_Description', 'Status',\n",
            "       'Status_Description'],\n",
            "      dtype='object')\n",
            "label :  ['Crime_Category']\n"
          ]
        }
      ]
    },
    {
      "cell_type": "markdown",
      "source": [
        "# Preprocessing of the Data\n",
        "#### The steps I have followed to preprocess the data are as follows:\n",
        "1. Understand the data : This step includes forming a fundamental understanding of the dataset, type of columns, distribution of the target variable and taking appropriate steps.\n",
        "2. Handling missing values.\n",
        "3. Removing redundant features.\n",
        "4. Handling modus operandi column.\n",
        "5. Performing encoding and scaling operations."
      ],
      "metadata": {
        "id": "4HlOxHofcaQp"
      }
    },
    {
      "cell_type": "code",
      "source": [
        "traindf.sample(5)"
      ],
      "metadata": {
        "execution": {
          "iopub.status.busy": "2024-07-30T18:59:53.892751Z",
          "iopub.execute_input": "2024-07-30T18:59:53.893192Z",
          "iopub.status.idle": "2024-07-30T18:59:53.952029Z",
          "shell.execute_reply.started": "2024-07-30T18:59:53.893159Z",
          "shell.execute_reply": "2024-07-30T18:59:53.950741Z"
        },
        "trusted": true,
        "id": "wyj8AWCtcaQs",
        "outputId": "dd2d5c32-99f7-4b82-96e7-750f64b55fbc"
      },
      "execution_count": null,
      "outputs": [
        {
          "execution_count": 4,
          "output_type": "execute_result",
          "data": {
            "text/plain": "                                       Location  \\\n8943   11200 W  VENTURA                      BL   \n5261    1200 W  MAURETANIA                   ST   \n12888           105TH                        ST   \n1541            FIGUEROA                     ST   \n16334   1200 S  COCHRAN                      AV   \n\n                          Cross_Street  Latitude  Longitude  \\\n8943                               NaN   34.1430  -118.3727   \n5261                               NaN   33.7895  -118.2777   \n12888  SAN PEDRO                    ST   33.9470  -118.2684   \n1541   MARTIN LUTHER KING JR        BL   34.0112  -118.2827   \n16334                              NaN   34.0504  -118.3518   \n\n                Date_Reported           Date_Occurred  Time_Occurred  Area_ID  \\\n8943   09/01/2020 12:00:00 AM  08/12/2020 12:00:00 AM         1340.0     15.0   \n5261   03/17/2020 12:00:00 AM  03/17/2020 12:00:00 AM         1030.0      5.0   \n12888  12/19/2020 12:00:00 AM  12/19/2020 12:00:00 AM         1530.0     18.0   \n1541   03/11/2020 12:00:00 AM  03/11/2020 12:00:00 AM         2315.0      3.0   \n16334  10/02/2020 12:00:00 AM  10/02/2020 12:00:00 AM         1300.0      7.0   \n\n         Area_Name  Reporting_District_no  ...  Victim_Age Victim_Sex  \\\n8943   N Hollywood                 1585.0  ...         0.0          M   \n5261        Harbor                  514.0  ...        55.0          M   \n12888    Southeast                 1823.0  ...        33.0          M   \n1541     Southwest                  399.0  ...        41.0          M   \n16334     Wilshire                  755.0  ...        44.0          F   \n\n       Victim_Descent Premise_Code     Premise_Description  Weapon_Used_Code  \\\n8943                O        404.0        DEPARTMENT STORE               NaN   \n5261                H        104.0                DRIVEWAY             500.0   \n12888               H        101.0                  STREET             400.0   \n1541                B        101.0                  STREET             307.0   \n16334               B        501.0  SINGLE FAMILY DWELLING             400.0   \n\n                                   Weapon_Description  Status  \\\n8943                                              NaN      IC   \n5261                      UNKNOWN WEAPON/OTHER WEAPON      IC   \n12888  STRONG-ARM (HANDS, FIST, FEET OR BODILY FORCE)      IC   \n1541                                          VEHICLE      IC   \n16334  STRONG-ARM (HANDS, FIST, FEET OR BODILY FORCE)      IC   \n\n      Status_Description   Crime_Category  \n8943         Invest Cont  Property Crimes  \n5261         Invest Cont   Violent Crimes  \n12888        Invest Cont   Violent Crimes  \n1541         Invest Cont   Violent Crimes  \n16334        Invest Cont   Violent Crimes  \n\n[5 rows x 22 columns]",
            "text/html": "<div>\n<style scoped>\n    .dataframe tbody tr th:only-of-type {\n        vertical-align: middle;\n    }\n\n    .dataframe tbody tr th {\n        vertical-align: top;\n    }\n\n    .dataframe thead th {\n        text-align: right;\n    }\n</style>\n<table border=\"1\" class=\"dataframe\">\n  <thead>\n    <tr style=\"text-align: right;\">\n      <th></th>\n      <th>Location</th>\n      <th>Cross_Street</th>\n      <th>Latitude</th>\n      <th>Longitude</th>\n      <th>Date_Reported</th>\n      <th>Date_Occurred</th>\n      <th>Time_Occurred</th>\n      <th>Area_ID</th>\n      <th>Area_Name</th>\n      <th>Reporting_District_no</th>\n      <th>...</th>\n      <th>Victim_Age</th>\n      <th>Victim_Sex</th>\n      <th>Victim_Descent</th>\n      <th>Premise_Code</th>\n      <th>Premise_Description</th>\n      <th>Weapon_Used_Code</th>\n      <th>Weapon_Description</th>\n      <th>Status</th>\n      <th>Status_Description</th>\n      <th>Crime_Category</th>\n    </tr>\n  </thead>\n  <tbody>\n    <tr>\n      <th>8943</th>\n      <td>11200 W  VENTURA                      BL</td>\n      <td>NaN</td>\n      <td>34.1430</td>\n      <td>-118.3727</td>\n      <td>09/01/2020 12:00:00 AM</td>\n      <td>08/12/2020 12:00:00 AM</td>\n      <td>1340.0</td>\n      <td>15.0</td>\n      <td>N Hollywood</td>\n      <td>1585.0</td>\n      <td>...</td>\n      <td>0.0</td>\n      <td>M</td>\n      <td>O</td>\n      <td>404.0</td>\n      <td>DEPARTMENT STORE</td>\n      <td>NaN</td>\n      <td>NaN</td>\n      <td>IC</td>\n      <td>Invest Cont</td>\n      <td>Property Crimes</td>\n    </tr>\n    <tr>\n      <th>5261</th>\n      <td>1200 W  MAURETANIA                   ST</td>\n      <td>NaN</td>\n      <td>33.7895</td>\n      <td>-118.2777</td>\n      <td>03/17/2020 12:00:00 AM</td>\n      <td>03/17/2020 12:00:00 AM</td>\n      <td>1030.0</td>\n      <td>5.0</td>\n      <td>Harbor</td>\n      <td>514.0</td>\n      <td>...</td>\n      <td>55.0</td>\n      <td>M</td>\n      <td>H</td>\n      <td>104.0</td>\n      <td>DRIVEWAY</td>\n      <td>500.0</td>\n      <td>UNKNOWN WEAPON/OTHER WEAPON</td>\n      <td>IC</td>\n      <td>Invest Cont</td>\n      <td>Violent Crimes</td>\n    </tr>\n    <tr>\n      <th>12888</th>\n      <td>105TH                        ST</td>\n      <td>SAN PEDRO                    ST</td>\n      <td>33.9470</td>\n      <td>-118.2684</td>\n      <td>12/19/2020 12:00:00 AM</td>\n      <td>12/19/2020 12:00:00 AM</td>\n      <td>1530.0</td>\n      <td>18.0</td>\n      <td>Southeast</td>\n      <td>1823.0</td>\n      <td>...</td>\n      <td>33.0</td>\n      <td>M</td>\n      <td>H</td>\n      <td>101.0</td>\n      <td>STREET</td>\n      <td>400.0</td>\n      <td>STRONG-ARM (HANDS, FIST, FEET OR BODILY FORCE)</td>\n      <td>IC</td>\n      <td>Invest Cont</td>\n      <td>Violent Crimes</td>\n    </tr>\n    <tr>\n      <th>1541</th>\n      <td>FIGUEROA                     ST</td>\n      <td>MARTIN LUTHER KING JR        BL</td>\n      <td>34.0112</td>\n      <td>-118.2827</td>\n      <td>03/11/2020 12:00:00 AM</td>\n      <td>03/11/2020 12:00:00 AM</td>\n      <td>2315.0</td>\n      <td>3.0</td>\n      <td>Southwest</td>\n      <td>399.0</td>\n      <td>...</td>\n      <td>41.0</td>\n      <td>M</td>\n      <td>B</td>\n      <td>101.0</td>\n      <td>STREET</td>\n      <td>307.0</td>\n      <td>VEHICLE</td>\n      <td>IC</td>\n      <td>Invest Cont</td>\n      <td>Violent Crimes</td>\n    </tr>\n    <tr>\n      <th>16334</th>\n      <td>1200 S  COCHRAN                      AV</td>\n      <td>NaN</td>\n      <td>34.0504</td>\n      <td>-118.3518</td>\n      <td>10/02/2020 12:00:00 AM</td>\n      <td>10/02/2020 12:00:00 AM</td>\n      <td>1300.0</td>\n      <td>7.0</td>\n      <td>Wilshire</td>\n      <td>755.0</td>\n      <td>...</td>\n      <td>44.0</td>\n      <td>F</td>\n      <td>B</td>\n      <td>501.0</td>\n      <td>SINGLE FAMILY DWELLING</td>\n      <td>400.0</td>\n      <td>STRONG-ARM (HANDS, FIST, FEET OR BODILY FORCE)</td>\n      <td>IC</td>\n      <td>Invest Cont</td>\n      <td>Violent Crimes</td>\n    </tr>\n  </tbody>\n</table>\n<p>5 rows × 22 columns</p>\n</div>"
          },
          "metadata": {}
        }
      ]
    },
    {
      "cell_type": "code",
      "source": [
        "traindf.shape"
      ],
      "metadata": {
        "execution": {
          "iopub.status.busy": "2024-07-30T18:59:53.953449Z",
          "iopub.execute_input": "2024-07-30T18:59:53.953787Z",
          "iopub.status.idle": "2024-07-30T18:59:53.962486Z",
          "shell.execute_reply.started": "2024-07-30T18:59:53.95376Z",
          "shell.execute_reply": "2024-07-30T18:59:53.960736Z"
        },
        "trusted": true,
        "id": "3vyfvmU6caQt",
        "outputId": "17f51230-c36a-42fb-a021-0e6648163b3c"
      },
      "execution_count": null,
      "outputs": [
        {
          "execution_count": 5,
          "output_type": "execute_result",
          "data": {
            "text/plain": "(20000, 22)"
          },
          "metadata": {}
        }
      ]
    },
    {
      "cell_type": "code",
      "source": [
        "traindf.info()"
      ],
      "metadata": {
        "execution": {
          "iopub.status.busy": "2024-07-30T18:59:53.964423Z",
          "iopub.execute_input": "2024-07-30T18:59:53.964891Z",
          "iopub.status.idle": "2024-07-30T18:59:54.025807Z",
          "shell.execute_reply.started": "2024-07-30T18:59:53.964808Z",
          "shell.execute_reply": "2024-07-30T18:59:54.024346Z"
        },
        "trusted": true,
        "id": "WZ8h5oeQcaQu",
        "outputId": "eeee50af-b351-4ebc-af3d-f9a6affa9f7a"
      },
      "execution_count": null,
      "outputs": [
        {
          "name": "stdout",
          "text": "<class 'pandas.core.frame.DataFrame'>\nRangeIndex: 20000 entries, 0 to 19999\nData columns (total 22 columns):\n #   Column                 Non-Null Count  Dtype  \n---  ------                 --------------  -----  \n 0   Location               20000 non-null  object \n 1   Cross_Street           3448 non-null   object \n 2   Latitude               20000 non-null  float64\n 3   Longitude              20000 non-null  float64\n 4   Date_Reported          20000 non-null  object \n 5   Date_Occurred          20000 non-null  object \n 6   Time_Occurred          20000 non-null  float64\n 7   Area_ID                20000 non-null  float64\n 8   Area_Name              20000 non-null  object \n 9   Reporting_District_no  20000 non-null  float64\n 10  Part 1-2               20000 non-null  float64\n 11  Modus_Operandi         17259 non-null  object \n 12  Victim_Age             20000 non-null  float64\n 13  Victim_Sex             17376 non-null  object \n 14  Victim_Descent         17376 non-null  object \n 15  Premise_Code           20000 non-null  float64\n 16  Premise_Description    19995 non-null  object \n 17  Weapon_Used_Code       7335 non-null   float64\n 18  Weapon_Description     7335 non-null   object \n 19  Status                 20000 non-null  object \n 20  Status_Description     20000 non-null  object \n 21  Crime_Category         20000 non-null  object \ndtypes: float64(9), object(13)\nmemory usage: 3.4+ MB\n",
          "output_type": "stream"
        }
      ]
    },
    {
      "cell_type": "markdown",
      "source": [
        "#### Let us visualize the frequency distribution of our target variable which is \"Crime_Category\""
      ],
      "metadata": {
        "id": "fM9BsJP0caQw"
      }
    },
    {
      "cell_type": "code",
      "source": [
        "traindf['Crime_Category'].value_counts()"
      ],
      "metadata": {
        "execution": {
          "iopub.status.busy": "2024-07-30T18:59:54.027606Z",
          "iopub.execute_input": "2024-07-30T18:59:54.028054Z",
          "iopub.status.idle": "2024-07-30T18:59:54.043605Z",
          "shell.execute_reply.started": "2024-07-30T18:59:54.028018Z",
          "shell.execute_reply": "2024-07-30T18:59:54.041955Z"
        },
        "trusted": true,
        "id": "7kCogZaicaQw",
        "outputId": "72ed881b-fe11-45e7-e991-171aa94ef297"
      },
      "execution_count": null,
      "outputs": [
        {
          "execution_count": 7,
          "output_type": "execute_result",
          "data": {
            "text/plain": "Crime_Category\nProperty Crimes                  11666\nViolent Crimes                    4767\nCrimes against Public Order       1808\nFraud and White-Collar Crimes     1355\nCrimes against Persons             225\nOther Crimes                       179\nName: count, dtype: int64"
          },
          "metadata": {}
        }
      ]
    },
    {
      "cell_type": "code",
      "source": [
        "#the following code creates a bar chart of each category in \"Crime_Category\" label.\n",
        "traindf[\"Crime_Category\"].hist(xrot=45,)\n",
        "plt.xlabel(\"category\")\n",
        "plt.ylabel('count')\n"
      ],
      "metadata": {
        "execution": {
          "iopub.status.busy": "2024-07-30T18:59:54.045976Z",
          "iopub.execute_input": "2024-07-30T18:59:54.047539Z",
          "iopub.status.idle": "2024-07-30T18:59:54.520934Z",
          "shell.execute_reply.started": "2024-07-30T18:59:54.047488Z",
          "shell.execute_reply": "2024-07-30T18:59:54.519498Z"
        },
        "trusted": true,
        "id": "4dzt-ZWUcaQx",
        "outputId": "ad96a6d3-ded5-420c-deb6-3b962e17146b"
      },
      "execution_count": null,
      "outputs": [
        {
          "execution_count": 8,
          "output_type": "execute_result",
          "data": {
            "text/plain": "Text(0, 0.5, 'count')"
          },
          "metadata": {}
        },
        {
          "output_type": "display_data",
          "data": {
            "text/plain": "<Figure size 640x480 with 1 Axes>",
            "image/png": "[encoded data removed]"
          },
          "metadata": {}
        }
      ]
    },
    {
      "cell_type": "markdown",
      "source": [
        "#### From the above graph, a significant observation we can get is a slight imbalance of the categories where \"Property Crimes\" has the highest frequency. This observation should make us consider the scope of using balancing techniques like oversampling through SMOTE in case where model becomes biased towards \"Property Crimes\" category."
      ],
      "metadata": {
        "id": "Q-mkNsW7caQx"
      }
    },
    {
      "cell_type": "markdown",
      "source": [
        "#### Now, let us analyze number of unique and missing values in each column."
      ],
      "metadata": {
        "id": "2PDmdnbUcaQy"
      }
    },
    {
      "cell_type": "code",
      "source": [
        "traindf.isnull().sum()"
      ],
      "metadata": {
        "execution": {
          "iopub.status.busy": "2024-07-30T18:59:54.52281Z",
          "iopub.execute_input": "2024-07-30T18:59:54.523259Z",
          "iopub.status.idle": "2024-07-30T18:59:54.56247Z",
          "shell.execute_reply.started": "2024-07-30T18:59:54.523221Z",
          "shell.execute_reply": "2024-07-30T18:59:54.560708Z"
        },
        "trusted": true,
        "id": "q811el9ZcaQy",
        "outputId": "db4b4f67-003e-4d09-e2e8-2e9ae7147dc9"
      },
      "execution_count": null,
      "outputs": [
        {
          "execution_count": 9,
          "output_type": "execute_result",
          "data": {
            "text/plain": "Location                     0\nCross_Street             16552\nLatitude                     0\nLongitude                    0\nDate_Reported                0\nDate_Occurred                0\nTime_Occurred                0\nArea_ID                      0\nArea_Name                    0\nReporting_District_no        0\nPart 1-2                     0\nModus_Operandi            2741\nVictim_Age                   0\nVictim_Sex                2624\nVictim_Descent            2624\nPremise_Code                 0\nPremise_Description          5\nWeapon_Used_Code         12665\nWeapon_Description       12665\nStatus                       0\nStatus_Description           0\nCrime_Category               0\ndtype: int64"
          },
          "metadata": {}
        }
      ]
    },
    {
      "cell_type": "markdown",
      "source": [
        "#### We can observe that the columns having missing values are categorical in nature which can be handled by using SimpleImputer with \"most_frequent\" strategy."
      ],
      "metadata": {
        "id": "8dBjWcQ5caQz"
      }
    },
    {
      "cell_type": "code",
      "source": [
        "from sklearn.impute import SimpleImputer\n",
        "si=SimpleImputer(strategy='most_frequent')\n",
        "traindf[traindf.columns]=si.fit_transform(traindf[traindf.columns])"
      ],
      "metadata": {
        "execution": {
          "iopub.status.busy": "2024-07-30T18:59:54.564939Z",
          "iopub.execute_input": "2024-07-30T18:59:54.565393Z",
          "iopub.status.idle": "2024-07-30T18:59:55.182517Z",
          "shell.execute_reply.started": "2024-07-30T18:59:54.565359Z",
          "shell.execute_reply": "2024-07-30T18:59:55.180903Z"
        },
        "trusted": true,
        "id": "C3uQxHKwcaQz"
      },
      "execution_count": null,
      "outputs": []
    },
    {
      "cell_type": "code",
      "source": [
        "#code to find the number of unique values in each columns\n",
        "traindf.nunique()"
      ],
      "metadata": {
        "execution": {
          "iopub.status.busy": "2024-07-30T18:59:55.184485Z",
          "iopub.execute_input": "2024-07-30T18:59:55.185049Z",
          "iopub.status.idle": "2024-07-30T18:59:55.257404Z",
          "shell.execute_reply.started": "2024-07-30T18:59:55.185006Z",
          "shell.execute_reply": "2024-07-30T18:59:55.25584Z"
        },
        "trusted": true,
        "id": "mD5-IuaTcaQz",
        "outputId": "0bf682fa-2541-49d8-abb7-49f0a5dbb2f6"
      },
      "execution_count": null,
      "outputs": [
        {
          "execution_count": 11,
          "output_type": "execute_result",
          "data": {
            "text/plain": "Location                 12399\nCross_Street              1495\nLatitude                  3622\nLongitude                 3578\nDate_Reported              811\nDate_Occurred              366\nTime_Occurred              996\nArea_ID                     21\nArea_Name                   21\nReporting_District_no     1120\nPart 1-2                     2\nModus_Operandi           10489\nVictim_Age                 100\nVictim_Sex                   4\nVictim_Descent              17\nPremise_Code               217\nPremise_Description        216\nWeapon_Used_Code            57\nWeapon_Description          57\nStatus                       5\nStatus_Description           5\nCrime_Category               6\ndtype: int64"
          },
          "metadata": {}
        }
      ]
    },
    {
      "cell_type": "markdown",
      "source": [
        "### These are the following observations:\n",
        "#### 1. From the above result, we can observe that columns like \"Location\",\"Cross_Street\",\"Modus_Operandi\" have huge number of unique number with them being categorical in nature.\n",
        "##### One Hot Encoding should not be a wise choice as due to high cardinality, it may lead to huge number of columns ultimately leading to sparse dataset.\n",
        "##### As \"Cross_Street\" has anyways large number of missing values, we can consider to drop the column.\n",
        "   ##### We can encode \"Location\" based on frequency.\n",
        "#### 2. \"Area_Name\" is redundant with \"Area_ID\", \"Weapon_Used_Code\" is redundant with \"Weapon_Description\", \"Status_Description\" is redundant with \"Status\", \"Premise_Description\" is redundant with \"Premise_Code\". So we can consider to drop the columns with object data type."
      ],
      "metadata": {
        "id": "qamPJlcEcaQz"
      }
    },
    {
      "cell_type": "code",
      "source": [
        "#code to drop the redundant features as mentioned earlier\n",
        "traindf=traindf.drop(['Weapon_Description','Premise_Description','Status_Description','Area_Name'],axis=1)"
      ],
      "metadata": {
        "execution": {
          "iopub.status.busy": "2024-07-30T18:59:55.258938Z",
          "iopub.execute_input": "2024-07-30T18:59:55.259292Z",
          "iopub.status.idle": "2024-07-30T18:59:55.276642Z",
          "shell.execute_reply.started": "2024-07-30T18:59:55.259263Z",
          "shell.execute_reply": "2024-07-30T18:59:55.275138Z"
        },
        "trusted": true,
        "id": "5QjhuokYcaQ0"
      },
      "execution_count": null,
      "outputs": []
    },
    {
      "cell_type": "code",
      "source": [
        "#code to encode \"Location\" based on frequency\n",
        "address_freq = traindf['Location'].value_counts().to_dict() #takes the value_counts of the Location and converts into a dictionary\n",
        "traindf['Location'] = traindf['Location'].map(address_freq)#the dictionary is used to map the dictionary on \"Location\" column\n",
        "traindf"
      ],
      "metadata": {
        "execution": {
          "iopub.status.busy": "2024-07-30T18:59:55.282264Z",
          "iopub.execute_input": "2024-07-30T18:59:55.28343Z",
          "iopub.status.idle": "2024-07-30T18:59:55.346757Z",
          "shell.execute_reply.started": "2024-07-30T18:59:55.283392Z",
          "shell.execute_reply": "2024-07-30T18:59:55.345363Z"
        },
        "trusted": true,
        "id": "pYi9aZY0caQ0",
        "outputId": "a38e6aa9-906a-4839-a9ca-d6224690f4b2"
      },
      "execution_count": null,
      "outputs": [
        {
          "execution_count": 13,
          "output_type": "execute_result",
          "data": {
            "text/plain": "       Location                     Cross_Street Latitude Longitude  \\\n0             1                         BROADWAY  34.1522  -118.391   \n1             2  ALAMEDA                      ST  34.0028 -118.2391   \n2             3                         BROADWAY  34.0111 -118.2653   \n3             1                         BROADWAY  34.2953  -118.459   \n4             1                         BROADWAY  33.9787 -118.2918   \n...         ...                              ...      ...       ...   \n19995         1                         BROADWAY  34.0334 -118.3523   \n19996         3                         BROADWAY  34.2212 -118.5011   \n19997         3                         BROADWAY  34.0571 -118.3815   \n19998         2                         BROADWAY  33.7451 -118.2835   \n19999         1  VERNON                       AV  34.0037 -118.3034   \n\n                Date_Reported           Date_Occurred Time_Occurred Area_ID  \\\n0      03/09/2020 12:00:00 AM  03/06/2020 12:00:00 AM        1800.0    15.0   \n1      02/27/2020 12:00:00 AM  02/27/2020 12:00:00 AM        1345.0    13.0   \n2      08/21/2020 12:00:00 AM  08/21/2020 12:00:00 AM         605.0    13.0   \n3      11/08/2020 12:00:00 AM  11/06/2020 12:00:00 AM        1800.0    19.0   \n4      02/25/2020 12:00:00 AM  02/25/2020 12:00:00 AM        1130.0    12.0   \n...                       ...                     ...           ...     ...   \n19995  05/24/2020 12:00:00 AM  05/24/2020 12:00:00 AM         700.0     3.0   \n19996  12/25/2020 12:00:00 AM  12/25/2020 12:00:00 AM         259.0    10.0   \n19997  09/25/2020 12:00:00 AM  09/25/2020 12:00:00 AM        1400.0     8.0   \n19998  06/10/2020 12:00:00 AM  06/10/2020 12:00:00 AM         600.0     5.0   \n19999  02/18/2020 12:00:00 AM  02/17/2020 12:00:00 AM        1800.0     3.0   \n\n      Reporting_District_no Part 1-2                           Modus_Operandi  \\\n0                    1563.0      1.0                                     0385   \n1                    1367.0      1.0  0906 0352 0371 0446 1822 0344 0416 0417   \n2                    1343.0      2.0                                0329 1202   \n3                    1924.0      1.0                                0329 1300   \n4                    1245.0      1.0            0416 0945 1822 0400 0417 0344   \n...                     ...      ...                                      ...   \n19995                 303.0      2.0                      0416 0446 2004 0913   \n19996                1008.0      1.0                 1822 0209 0344 1414 1420   \n19997                 849.0      1.0                           0344 1822 1420   \n19998                 558.0      2.0            1202 2038 0913 0602 1242 0553   \n19999                 397.0      1.0                                     0344   \n\n      Victim_Age Victim_Sex Victim_Descent Premise_Code Weapon_Used_Code  \\\n0           75.0          M              W        101.0            400.0   \n1           41.0          M              H        216.0            400.0   \n2           67.0          M              B        501.0            400.0   \n3           61.0          M              H        101.0            400.0   \n4            0.0          X              X        401.0            400.0   \n...          ...        ...            ...          ...              ...   \n19995       51.0          M              H        501.0            400.0   \n19996        0.0          M              W        301.0            400.0   \n19997       42.0          M              H        102.0            400.0   \n19998       76.0          F              H        501.0            400.0   \n19999        0.0          M              H        101.0            400.0   \n\n      Status               Crime_Category  \n0         IC              Property Crimes  \n1         IC              Property Crimes  \n2         IC              Property Crimes  \n3         IC              Property Crimes  \n4         IC              Property Crimes  \n...      ...                          ...  \n19995     IC               Violent Crimes  \n19996     IC              Property Crimes  \n19997     IC              Property Crimes  \n19998     IC  Crimes against Public Order  \n19999     IC              Property Crimes  \n\n[20000 rows x 18 columns]",
            "text/html": "<div>\n<style scoped>\n    .dataframe tbody tr th:only-of-type {\n        vertical-align: middle;\n    }\n\n    .dataframe tbody tr th {\n        vertical-align: top;\n    }\n\n    .dataframe thead th {\n        text-align: right;\n    }\n</style>\n<table border=\"1\" class=\"dataframe\">\n  <thead>\n    <tr style=\"text-align: right;\">\n      <th></th>\n      <th>Location</th>\n      <th>Cross_Street</th>\n      <th>Latitude</th>\n      <th>Longitude</th>\n      <th>Date_Reported</th>\n      <th>Date_Occurred</th>\n      <th>Time_Occurred</th>\n      <th>Area_ID</th>\n      <th>Reporting_District_no</th>\n      <th>Part 1-2</th>\n      <th>Modus_Operandi</th>\n      <th>Victim_Age</th>\n      <th>Victim_Sex</th>\n      <th>Victim_Descent</th>\n      <th>Premise_Code</th>\n      <th>Weapon_Used_Code</th>\n      <th>Status</th>\n      <th>Crime_Category</th>\n    </tr>\n  </thead>\n  <tbody>\n    <tr>\n      <th>0</th>\n      <td>1</td>\n      <td>BROADWAY</td>\n      <td>34.1522</td>\n      <td>-118.391</td>\n      <td>03/09/2020 12:00:00 AM</td>\n      <td>03/06/2020 12:00:00 AM</td>\n      <td>1800.0</td>\n      <td>15.0</td>\n      <td>1563.0</td>\n      <td>1.0</td>\n      <td>0385</td>\n      <td>75.0</td>\n      <td>M</td>\n      <td>W</td>\n      <td>101.0</td>\n      <td>400.0</td>\n      <td>IC</td>\n      <td>Property Crimes</td>\n    </tr>\n    <tr>\n      <th>1</th>\n      <td>2</td>\n      <td>ALAMEDA                      ST</td>\n      <td>34.0028</td>\n      <td>-118.2391</td>\n      <td>02/27/2020 12:00:00 AM</td>\n      <td>02/27/2020 12:00:00 AM</td>\n      <td>1345.0</td>\n      <td>13.0</td>\n      <td>1367.0</td>\n      <td>1.0</td>\n      <td>0906 0352 0371 0446 1822 0344 0416 0417</td>\n      <td>41.0</td>\n      <td>M</td>\n      <td>H</td>\n      <td>216.0</td>\n      <td>400.0</td>\n      <td>IC</td>\n      <td>Property Crimes</td>\n    </tr>\n    <tr>\n      <th>2</th>\n      <td>3</td>\n      <td>BROADWAY</td>\n      <td>34.0111</td>\n      <td>-118.2653</td>\n      <td>08/21/2020 12:00:00 AM</td>\n      <td>08/21/2020 12:00:00 AM</td>\n      <td>605.0</td>\n      <td>13.0</td>\n      <td>1343.0</td>\n      <td>2.0</td>\n      <td>0329 1202</td>\n      <td>67.0</td>\n      <td>M</td>\n      <td>B</td>\n      <td>501.0</td>\n      <td>400.0</td>\n      <td>IC</td>\n      <td>Property Crimes</td>\n    </tr>\n    <tr>\n      <th>3</th>\n      <td>1</td>\n      <td>BROADWAY</td>\n      <td>34.2953</td>\n      <td>-118.459</td>\n      <td>11/08/2020 12:00:00 AM</td>\n      <td>11/06/2020 12:00:00 AM</td>\n      <td>1800.0</td>\n      <td>19.0</td>\n      <td>1924.0</td>\n      <td>1.0</td>\n      <td>0329 1300</td>\n      <td>61.0</td>\n      <td>M</td>\n      <td>H</td>\n      <td>101.0</td>\n      <td>400.0</td>\n      <td>IC</td>\n      <td>Property Crimes</td>\n    </tr>\n    <tr>\n      <th>4</th>\n      <td>1</td>\n      <td>BROADWAY</td>\n      <td>33.9787</td>\n      <td>-118.2918</td>\n      <td>02/25/2020 12:00:00 AM</td>\n      <td>02/25/2020 12:00:00 AM</td>\n      <td>1130.0</td>\n      <td>12.0</td>\n      <td>1245.0</td>\n      <td>1.0</td>\n      <td>0416 0945 1822 0400 0417 0344</td>\n      <td>0.0</td>\n      <td>X</td>\n      <td>X</td>\n      <td>401.0</td>\n      <td>400.0</td>\n      <td>IC</td>\n      <td>Property Crimes</td>\n    </tr>\n    <tr>\n      <th>...</th>\n      <td>...</td>\n      <td>...</td>\n      <td>...</td>\n      <td>...</td>\n      <td>...</td>\n      <td>...</td>\n      <td>...</td>\n      <td>...</td>\n      <td>...</td>\n      <td>...</td>\n      <td>...</td>\n      <td>...</td>\n      <td>...</td>\n      <td>...</td>\n      <td>...</td>\n      <td>...</td>\n      <td>...</td>\n      <td>...</td>\n    </tr>\n    <tr>\n      <th>19995</th>\n      <td>1</td>\n      <td>BROADWAY</td>\n      <td>34.0334</td>\n      <td>-118.3523</td>\n      <td>05/24/2020 12:00:00 AM</td>\n      <td>05/24/2020 12:00:00 AM</td>\n      <td>700.0</td>\n      <td>3.0</td>\n      <td>303.0</td>\n      <td>2.0</td>\n      <td>0416 0446 2004 0913</td>\n      <td>51.0</td>\n      <td>M</td>\n      <td>H</td>\n      <td>501.0</td>\n      <td>400.0</td>\n      <td>IC</td>\n      <td>Violent Crimes</td>\n    </tr>\n    <tr>\n      <th>19996</th>\n      <td>3</td>\n      <td>BROADWAY</td>\n      <td>34.2212</td>\n      <td>-118.5011</td>\n      <td>12/25/2020 12:00:00 AM</td>\n      <td>12/25/2020 12:00:00 AM</td>\n      <td>259.0</td>\n      <td>10.0</td>\n      <td>1008.0</td>\n      <td>1.0</td>\n      <td>1822 0209 0344 1414 1420</td>\n      <td>0.0</td>\n      <td>M</td>\n      <td>W</td>\n      <td>301.0</td>\n      <td>400.0</td>\n      <td>IC</td>\n      <td>Property Crimes</td>\n    </tr>\n    <tr>\n      <th>19997</th>\n      <td>3</td>\n      <td>BROADWAY</td>\n      <td>34.0571</td>\n      <td>-118.3815</td>\n      <td>09/25/2020 12:00:00 AM</td>\n      <td>09/25/2020 12:00:00 AM</td>\n      <td>1400.0</td>\n      <td>8.0</td>\n      <td>849.0</td>\n      <td>1.0</td>\n      <td>0344 1822 1420</td>\n      <td>42.0</td>\n      <td>M</td>\n      <td>H</td>\n      <td>102.0</td>\n      <td>400.0</td>\n      <td>IC</td>\n      <td>Property Crimes</td>\n    </tr>\n    <tr>\n      <th>19998</th>\n      <td>2</td>\n      <td>BROADWAY</td>\n      <td>33.7451</td>\n      <td>-118.2835</td>\n      <td>06/10/2020 12:00:00 AM</td>\n      <td>06/10/2020 12:00:00 AM</td>\n      <td>600.0</td>\n      <td>5.0</td>\n      <td>558.0</td>\n      <td>2.0</td>\n      <td>1202 2038 0913 0602 1242 0553</td>\n      <td>76.0</td>\n      <td>F</td>\n      <td>H</td>\n      <td>501.0</td>\n      <td>400.0</td>\n      <td>IC</td>\n      <td>Crimes against Public Order</td>\n    </tr>\n    <tr>\n      <th>19999</th>\n      <td>1</td>\n      <td>VERNON                       AV</td>\n      <td>34.0037</td>\n      <td>-118.3034</td>\n      <td>02/18/2020 12:00:00 AM</td>\n      <td>02/17/2020 12:00:00 AM</td>\n      <td>1800.0</td>\n      <td>3.0</td>\n      <td>397.0</td>\n      <td>1.0</td>\n      <td>0344</td>\n      <td>0.0</td>\n      <td>M</td>\n      <td>H</td>\n      <td>101.0</td>\n      <td>400.0</td>\n      <td>IC</td>\n      <td>Property Crimes</td>\n    </tr>\n  </tbody>\n</table>\n<p>20000 rows × 18 columns</p>\n</div>"
          },
          "metadata": {}
        }
      ]
    },
    {
      "cell_type": "code",
      "source": [
        "#code to drop \"Cross_Street\" column\n",
        "traindf.drop(['Cross_Street'],axis=1,inplace=True)\n",
        "traindf"
      ],
      "metadata": {
        "execution": {
          "iopub.status.busy": "2024-07-30T18:59:55.348681Z",
          "iopub.execute_input": "2024-07-30T18:59:55.349119Z",
          "iopub.status.idle": "2024-07-30T18:59:55.388468Z",
          "shell.execute_reply.started": "2024-07-30T18:59:55.349084Z",
          "shell.execute_reply": "2024-07-30T18:59:55.387125Z"
        },
        "trusted": true,
        "id": "1_PEAWA0caQ0",
        "outputId": "4d02abb6-ce19-4612-e587-e633b81e935c"
      },
      "execution_count": null,
      "outputs": [
        {
          "execution_count": 14,
          "output_type": "execute_result",
          "data": {
            "text/plain": "       Location Latitude Longitude           Date_Reported  \\\n0             1  34.1522  -118.391  03/09/2020 12:00:00 AM   \n1             2  34.0028 -118.2391  02/27/2020 12:00:00 AM   \n2             3  34.0111 -118.2653  08/21/2020 12:00:00 AM   \n3             1  34.2953  -118.459  11/08/2020 12:00:00 AM   \n4             1  33.9787 -118.2918  02/25/2020 12:00:00 AM   \n...         ...      ...       ...                     ...   \n19995         1  34.0334 -118.3523  05/24/2020 12:00:00 AM   \n19996         3  34.2212 -118.5011  12/25/2020 12:00:00 AM   \n19997         3  34.0571 -118.3815  09/25/2020 12:00:00 AM   \n19998         2  33.7451 -118.2835  06/10/2020 12:00:00 AM   \n19999         1  34.0037 -118.3034  02/18/2020 12:00:00 AM   \n\n                Date_Occurred Time_Occurred Area_ID Reporting_District_no  \\\n0      03/06/2020 12:00:00 AM        1800.0    15.0                1563.0   \n1      02/27/2020 12:00:00 AM        1345.0    13.0                1367.0   \n2      08/21/2020 12:00:00 AM         605.0    13.0                1343.0   \n3      11/06/2020 12:00:00 AM        1800.0    19.0                1924.0   \n4      02/25/2020 12:00:00 AM        1130.0    12.0                1245.0   \n...                       ...           ...     ...                   ...   \n19995  05/24/2020 12:00:00 AM         700.0     3.0                 303.0   \n19996  12/25/2020 12:00:00 AM         259.0    10.0                1008.0   \n19997  09/25/2020 12:00:00 AM        1400.0     8.0                 849.0   \n19998  06/10/2020 12:00:00 AM         600.0     5.0                 558.0   \n19999  02/17/2020 12:00:00 AM        1800.0     3.0                 397.0   \n\n      Part 1-2                           Modus_Operandi Victim_Age Victim_Sex  \\\n0          1.0                                     0385       75.0          M   \n1          1.0  0906 0352 0371 0446 1822 0344 0416 0417       41.0          M   \n2          2.0                                0329 1202       67.0          M   \n3          1.0                                0329 1300       61.0          M   \n4          1.0            0416 0945 1822 0400 0417 0344        0.0          X   \n...        ...                                      ...        ...        ...   \n19995      2.0                      0416 0446 2004 0913       51.0          M   \n19996      1.0                 1822 0209 0344 1414 1420        0.0          M   \n19997      1.0                           0344 1822 1420       42.0          M   \n19998      2.0            1202 2038 0913 0602 1242 0553       76.0          F   \n19999      1.0                                     0344        0.0          M   \n\n      Victim_Descent Premise_Code Weapon_Used_Code Status  \\\n0                  W        101.0            400.0     IC   \n1                  H        216.0            400.0     IC   \n2                  B        501.0            400.0     IC   \n3                  H        101.0            400.0     IC   \n4                  X        401.0            400.0     IC   \n...              ...          ...              ...    ...   \n19995              H        501.0            400.0     IC   \n19996              W        301.0            400.0     IC   \n19997              H        102.0            400.0     IC   \n19998              H        501.0            400.0     IC   \n19999              H        101.0            400.0     IC   \n\n                    Crime_Category  \n0                  Property Crimes  \n1                  Property Crimes  \n2                  Property Crimes  \n3                  Property Crimes  \n4                  Property Crimes  \n...                            ...  \n19995               Violent Crimes  \n19996              Property Crimes  \n19997              Property Crimes  \n19998  Crimes against Public Order  \n19999              Property Crimes  \n\n[20000 rows x 17 columns]",
            "text/html": "<div>\n<style scoped>\n    .dataframe tbody tr th:only-of-type {\n        vertical-align: middle;\n    }\n\n    .dataframe tbody tr th {\n        vertical-align: top;\n    }\n\n    .dataframe thead th {\n        text-align: right;\n    }\n</style>\n<table border=\"1\" class=\"dataframe\">\n  <thead>\n    <tr style=\"text-align: right;\">\n      <th></th>\n      <th>Location</th>\n      <th>Latitude</th>\n      <th>Longitude</th>\n      <th>Date_Reported</th>\n      <th>Date_Occurred</th>\n      <th>Time_Occurred</th>\n      <th>Area_ID</th>\n      <th>Reporting_District_no</th>\n      <th>Part 1-2</th>\n      <th>Modus_Operandi</th>\n      <th>Victim_Age</th>\n      <th>Victim_Sex</th>\n      <th>Victim_Descent</th>\n      <th>Premise_Code</th>\n      <th>Weapon_Used_Code</th>\n      <th>Status</th>\n      <th>Crime_Category</th>\n    </tr>\n  </thead>\n  <tbody>\n    <tr>\n      <th>0</th>\n      <td>1</td>\n      <td>34.1522</td>\n      <td>-118.391</td>\n      <td>03/09/2020 12:00:00 AM</td>\n      <td>03/06/2020 12:00:00 AM</td>\n      <td>1800.0</td>\n      <td>15.0</td>\n      <td>1563.0</td>\n      <td>1.0</td>\n      <td>0385</td>\n      <td>75.0</td>\n      <td>M</td>\n      <td>W</td>\n      <td>101.0</td>\n      <td>400.0</td>\n      <td>IC</td>\n      <td>Property Crimes</td>\n    </tr>\n    <tr>\n      <th>1</th>\n      <td>2</td>\n      <td>34.0028</td>\n      <td>-118.2391</td>\n      <td>02/27/2020 12:00:00 AM</td>\n      <td>02/27/2020 12:00:00 AM</td>\n      <td>1345.0</td>\n      <td>13.0</td>\n      <td>1367.0</td>\n      <td>1.0</td>\n      <td>0906 0352 0371 0446 1822 0344 0416 0417</td>\n      <td>41.0</td>\n      <td>M</td>\n      <td>H</td>\n      <td>216.0</td>\n      <td>400.0</td>\n      <td>IC</td>\n      <td>Property Crimes</td>\n    </tr>\n    <tr>\n      <th>2</th>\n      <td>3</td>\n      <td>34.0111</td>\n      <td>-118.2653</td>\n      <td>08/21/2020 12:00:00 AM</td>\n      <td>08/21/2020 12:00:00 AM</td>\n      <td>605.0</td>\n      <td>13.0</td>\n      <td>1343.0</td>\n      <td>2.0</td>\n      <td>0329 1202</td>\n      <td>67.0</td>\n      <td>M</td>\n      <td>B</td>\n      <td>501.0</td>\n      <td>400.0</td>\n      <td>IC</td>\n      <td>Property Crimes</td>\n    </tr>\n    <tr>\n      <th>3</th>\n      <td>1</td>\n      <td>34.2953</td>\n      <td>-118.459</td>\n      <td>11/08/2020 12:00:00 AM</td>\n      <td>11/06/2020 12:00:00 AM</td>\n      <td>1800.0</td>\n      <td>19.0</td>\n      <td>1924.0</td>\n      <td>1.0</td>\n      <td>0329 1300</td>\n      <td>61.0</td>\n      <td>M</td>\n      <td>H</td>\n      <td>101.0</td>\n      <td>400.0</td>\n      <td>IC</td>\n      <td>Property Crimes</td>\n    </tr>\n    <tr>\n      <th>4</th>\n      <td>1</td>\n      <td>33.9787</td>\n      <td>-118.2918</td>\n      <td>02/25/2020 12:00:00 AM</td>\n      <td>02/25/2020 12:00:00 AM</td>\n      <td>1130.0</td>\n      <td>12.0</td>\n      <td>1245.0</td>\n      <td>1.0</td>\n      <td>0416 0945 1822 0400 0417 0344</td>\n      <td>0.0</td>\n      <td>X</td>\n      <td>X</td>\n      <td>401.0</td>\n      <td>400.0</td>\n      <td>IC</td>\n      <td>Property Crimes</td>\n    </tr>\n    <tr>\n      <th>...</th>\n      <td>...</td>\n      <td>...</td>\n      <td>...</td>\n      <td>...</td>\n      <td>...</td>\n      <td>...</td>\n      <td>...</td>\n      <td>...</td>\n      <td>...</td>\n      <td>...</td>\n      <td>...</td>\n      <td>...</td>\n      <td>...</td>\n      <td>...</td>\n      <td>...</td>\n      <td>...</td>\n      <td>...</td>\n    </tr>\n    <tr>\n      <th>19995</th>\n      <td>1</td>\n      <td>34.0334</td>\n      <td>-118.3523</td>\n      <td>05/24/2020 12:00:00 AM</td>\n      <td>05/24/2020 12:00:00 AM</td>\n      <td>700.0</td>\n      <td>3.0</td>\n      <td>303.0</td>\n      <td>2.0</td>\n      <td>0416 0446 2004 0913</td>\n      <td>51.0</td>\n      <td>M</td>\n      <td>H</td>\n      <td>501.0</td>\n      <td>400.0</td>\n      <td>IC</td>\n      <td>Violent Crimes</td>\n    </tr>\n    <tr>\n      <th>19996</th>\n      <td>3</td>\n      <td>34.2212</td>\n      <td>-118.5011</td>\n      <td>12/25/2020 12:00:00 AM</td>\n      <td>12/25/2020 12:00:00 AM</td>\n      <td>259.0</td>\n      <td>10.0</td>\n      <td>1008.0</td>\n      <td>1.0</td>\n      <td>1822 0209 0344 1414 1420</td>\n      <td>0.0</td>\n      <td>M</td>\n      <td>W</td>\n      <td>301.0</td>\n      <td>400.0</td>\n      <td>IC</td>\n      <td>Property Crimes</td>\n    </tr>\n    <tr>\n      <th>19997</th>\n      <td>3</td>\n      <td>34.0571</td>\n      <td>-118.3815</td>\n      <td>09/25/2020 12:00:00 AM</td>\n      <td>09/25/2020 12:00:00 AM</td>\n      <td>1400.0</td>\n      <td>8.0</td>\n      <td>849.0</td>\n      <td>1.0</td>\n      <td>0344 1822 1420</td>\n      <td>42.0</td>\n      <td>M</td>\n      <td>H</td>\n      <td>102.0</td>\n      <td>400.0</td>\n      <td>IC</td>\n      <td>Property Crimes</td>\n    </tr>\n    <tr>\n      <th>19998</th>\n      <td>2</td>\n      <td>33.7451</td>\n      <td>-118.2835</td>\n      <td>06/10/2020 12:00:00 AM</td>\n      <td>06/10/2020 12:00:00 AM</td>\n      <td>600.0</td>\n      <td>5.0</td>\n      <td>558.0</td>\n      <td>2.0</td>\n      <td>1202 2038 0913 0602 1242 0553</td>\n      <td>76.0</td>\n      <td>F</td>\n      <td>H</td>\n      <td>501.0</td>\n      <td>400.0</td>\n      <td>IC</td>\n      <td>Crimes against Public Order</td>\n    </tr>\n    <tr>\n      <th>19999</th>\n      <td>1</td>\n      <td>34.0037</td>\n      <td>-118.3034</td>\n      <td>02/18/2020 12:00:00 AM</td>\n      <td>02/17/2020 12:00:00 AM</td>\n      <td>1800.0</td>\n      <td>3.0</td>\n      <td>397.0</td>\n      <td>1.0</td>\n      <td>0344</td>\n      <td>0.0</td>\n      <td>M</td>\n      <td>H</td>\n      <td>101.0</td>\n      <td>400.0</td>\n      <td>IC</td>\n      <td>Property Crimes</td>\n    </tr>\n  </tbody>\n</table>\n<p>20000 rows × 17 columns</p>\n</div>"
          },
          "metadata": {}
        }
      ]
    },
    {
      "cell_type": "markdown",
      "source": [
        "#### Let us analyze \"Modus_Operandi\" column."
      ],
      "metadata": {
        "id": "-AF_aLcCcaQ0"
      }
    },
    {
      "cell_type": "code",
      "source": [
        "traindf['Modus_Operandi']"
      ],
      "metadata": {
        "execution": {
          "iopub.status.busy": "2024-07-30T18:59:55.390456Z",
          "iopub.execute_input": "2024-07-30T18:59:55.391015Z",
          "iopub.status.idle": "2024-07-30T18:59:55.402821Z",
          "shell.execute_reply.started": "2024-07-30T18:59:55.390966Z",
          "shell.execute_reply": "2024-07-30T18:59:55.401296Z"
        },
        "trusted": true,
        "id": "sN5mJ6JkcaQ0",
        "outputId": "6c6b75e8-6950-4a42-fffe-e43e58b1c29f"
      },
      "execution_count": null,
      "outputs": [
        {
          "execution_count": 15,
          "output_type": "execute_result",
          "data": {
            "text/plain": "0                                           0385\n1        0906 0352 0371 0446 1822 0344 0416 0417\n2                                      0329 1202\n3                                      0329 1300\n4                  0416 0945 1822 0400 0417 0344\n                          ...                   \n19995                        0416 0446 2004 0913\n19996                   1822 0209 0344 1414 1420\n19997                             0344 1822 1420\n19998              1202 2038 0913 0602 1242 0553\n19999                                       0344\nName: Modus_Operandi, Length: 20000, dtype: object"
          },
          "metadata": {}
        }
      ]
    },
    {
      "cell_type": "markdown",
      "source": [
        "#### As we can see \"Modus_Operandi\" has multiple labels in a row which can be handled by using MultiLabelBinarizer"
      ],
      "metadata": {
        "id": "mncxD13hcaQ1"
      }
    },
    {
      "cell_type": "code",
      "source": [
        "traindf[\"Part 1-2\"]"
      ],
      "metadata": {
        "execution": {
          "iopub.status.busy": "2024-07-30T18:59:55.404789Z",
          "iopub.execute_input": "2024-07-30T18:59:55.405318Z",
          "iopub.status.idle": "2024-07-30T18:59:55.419281Z",
          "shell.execute_reply.started": "2024-07-30T18:59:55.405273Z",
          "shell.execute_reply": "2024-07-30T18:59:55.417671Z"
        },
        "trusted": true,
        "id": "GF13HEyDcaQ1",
        "outputId": "7b62aa0f-978c-46ad-98ea-ada1e5c00447"
      },
      "execution_count": null,
      "outputs": [
        {
          "execution_count": 16,
          "output_type": "execute_result",
          "data": {
            "text/plain": "0        1.0\n1        1.0\n2        2.0\n3        1.0\n4        1.0\n        ... \n19995    2.0\n19996    1.0\n19997    1.0\n19998    2.0\n19999    1.0\nName: Part 1-2, Length: 20000, dtype: object"
          },
          "metadata": {}
        }
      ]
    },
    {
      "cell_type": "code",
      "source": [
        "def modus_list(x): #this function takes value and returns a list after splitting on \" \"\n",
        "    return x.split(\" \")\n",
        "\n",
        "#applying the function on \"Modus_Operandi\" in order to apply MultiLabelBinarizer eventually\n",
        "traindf['Modus_Operandi']=traindf['Modus_Operandi'].apply(modus_list)\n",
        "traindf"
      ],
      "metadata": {
        "execution": {
          "iopub.status.busy": "2024-07-30T18:59:55.421372Z",
          "iopub.execute_input": "2024-07-30T18:59:55.421988Z",
          "iopub.status.idle": "2024-07-30T18:59:55.477773Z",
          "shell.execute_reply.started": "2024-07-30T18:59:55.421941Z",
          "shell.execute_reply": "2024-07-30T18:59:55.476213Z"
        },
        "trusted": true,
        "id": "Hn4zD5XEcaQ1",
        "outputId": "c668fa45-f6c0-4658-96dd-36dad7fd72cb"
      },
      "execution_count": null,
      "outputs": [
        {
          "execution_count": 17,
          "output_type": "execute_result",
          "data": {
            "text/plain": "       Location Latitude Longitude           Date_Reported  \\\n0             1  34.1522  -118.391  03/09/2020 12:00:00 AM   \n1             2  34.0028 -118.2391  02/27/2020 12:00:00 AM   \n2             3  34.0111 -118.2653  08/21/2020 12:00:00 AM   \n3             1  34.2953  -118.459  11/08/2020 12:00:00 AM   \n4             1  33.9787 -118.2918  02/25/2020 12:00:00 AM   \n...         ...      ...       ...                     ...   \n19995         1  34.0334 -118.3523  05/24/2020 12:00:00 AM   \n19996         3  34.2212 -118.5011  12/25/2020 12:00:00 AM   \n19997         3  34.0571 -118.3815  09/25/2020 12:00:00 AM   \n19998         2  33.7451 -118.2835  06/10/2020 12:00:00 AM   \n19999         1  34.0037 -118.3034  02/18/2020 12:00:00 AM   \n\n                Date_Occurred Time_Occurred Area_ID Reporting_District_no  \\\n0      03/06/2020 12:00:00 AM        1800.0    15.0                1563.0   \n1      02/27/2020 12:00:00 AM        1345.0    13.0                1367.0   \n2      08/21/2020 12:00:00 AM         605.0    13.0                1343.0   \n3      11/06/2020 12:00:00 AM        1800.0    19.0                1924.0   \n4      02/25/2020 12:00:00 AM        1130.0    12.0                1245.0   \n...                       ...           ...     ...                   ...   \n19995  05/24/2020 12:00:00 AM         700.0     3.0                 303.0   \n19996  12/25/2020 12:00:00 AM         259.0    10.0                1008.0   \n19997  09/25/2020 12:00:00 AM        1400.0     8.0                 849.0   \n19998  06/10/2020 12:00:00 AM         600.0     5.0                 558.0   \n19999  02/17/2020 12:00:00 AM        1800.0     3.0                 397.0   \n\n      Part 1-2                                    Modus_Operandi Victim_Age  \\\n0          1.0                                            [0385]       75.0   \n1          1.0  [0906, 0352, 0371, 0446, 1822, 0344, 0416, 0417]       41.0   \n2          2.0                                      [0329, 1202]       67.0   \n3          1.0                                      [0329, 1300]       61.0   \n4          1.0              [0416, 0945, 1822, 0400, 0417, 0344]        0.0   \n...        ...                                               ...        ...   \n19995      2.0                          [0416, 0446, 2004, 0913]       51.0   \n19996      1.0                    [1822, 0209, 0344, 1414, 1420]        0.0   \n19997      1.0                                [0344, 1822, 1420]       42.0   \n19998      2.0              [1202, 2038, 0913, 0602, 1242, 0553]       76.0   \n19999      1.0                                            [0344]        0.0   \n\n      Victim_Sex Victim_Descent Premise_Code Weapon_Used_Code Status  \\\n0              M              W        101.0            400.0     IC   \n1              M              H        216.0            400.0     IC   \n2              M              B        501.0            400.0     IC   \n3              M              H        101.0            400.0     IC   \n4              X              X        401.0            400.0     IC   \n...          ...            ...          ...              ...    ...   \n19995          M              H        501.0            400.0     IC   \n19996          M              W        301.0            400.0     IC   \n19997          M              H        102.0            400.0     IC   \n19998          F              H        501.0            400.0     IC   \n19999          M              H        101.0            400.0     IC   \n\n                    Crime_Category  \n0                  Property Crimes  \n1                  Property Crimes  \n2                  Property Crimes  \n3                  Property Crimes  \n4                  Property Crimes  \n...                            ...  \n19995               Violent Crimes  \n19996              Property Crimes  \n19997              Property Crimes  \n19998  Crimes against Public Order  \n19999              Property Crimes  \n\n[20000 rows x 17 columns]",
            "text/html": "<div>\n<style scoped>\n    .dataframe tbody tr th:only-of-type {\n        vertical-align: middle;\n    }\n\n    .dataframe tbody tr th {\n        vertical-align: top;\n    }\n\n    .dataframe thead th {\n        text-align: right;\n    }\n</style>\n<table border=\"1\" class=\"dataframe\">\n  <thead>\n    <tr style=\"text-align: right;\">\n      <th></th>\n      <th>Location</th>\n      <th>Latitude</th>\n      <th>Longitude</th>\n      <th>Date_Reported</th>\n      <th>Date_Occurred</th>\n      <th>Time_Occurred</th>\n      <th>Area_ID</th>\n      <th>Reporting_District_no</th>\n      <th>Part 1-2</th>\n      <th>Modus_Operandi</th>\n      <th>Victim_Age</th>\n      <th>Victim_Sex</th>\n      <th>Victim_Descent</th>\n      <th>Premise_Code</th>\n      <th>Weapon_Used_Code</th>\n      <th>Status</th>\n      <th>Crime_Category</th>\n    </tr>\n  </thead>\n  <tbody>\n    <tr>\n      <th>0</th>\n      <td>1</td>\n      <td>34.1522</td>\n      <td>-118.391</td>\n      <td>03/09/2020 12:00:00 AM</td>\n      <td>03/06/2020 12:00:00 AM</td>\n      <td>1800.0</td>\n      <td>15.0</td>\n      <td>1563.0</td>\n      <td>1.0</td>\n      <td>[0385]</td>\n      <td>75.0</td>\n      <td>M</td>\n      <td>W</td>\n      <td>101.0</td>\n      <td>400.0</td>\n      <td>IC</td>\n      <td>Property Crimes</td>\n    </tr>\n    <tr>\n      <th>1</th>\n      <td>2</td>\n      <td>34.0028</td>\n      <td>-118.2391</td>\n      <td>02/27/2020 12:00:00 AM</td>\n      <td>02/27/2020 12:00:00 AM</td>\n      <td>1345.0</td>\n      <td>13.0</td>\n      <td>1367.0</td>\n      <td>1.0</td>\n      <td>[0906, 0352, 0371, 0446, 1822, 0344, 0416, 0417]</td>\n      <td>41.0</td>\n      <td>M</td>\n      <td>H</td>\n      <td>216.0</td>\n      <td>400.0</td>\n      <td>IC</td>\n      <td>Property Crimes</td>\n    </tr>\n    <tr>\n      <th>2</th>\n      <td>3</td>\n      <td>34.0111</td>\n      <td>-118.2653</td>\n      <td>08/21/2020 12:00:00 AM</td>\n      <td>08/21/2020 12:00:00 AM</td>\n      <td>605.0</td>\n      <td>13.0</td>\n      <td>1343.0</td>\n      <td>2.0</td>\n      <td>[0329, 1202]</td>\n      <td>67.0</td>\n      <td>M</td>\n      <td>B</td>\n      <td>501.0</td>\n      <td>400.0</td>\n      <td>IC</td>\n      <td>Property Crimes</td>\n    </tr>\n    <tr>\n      <th>3</th>\n      <td>1</td>\n      <td>34.2953</td>\n      <td>-118.459</td>\n      <td>11/08/2020 12:00:00 AM</td>\n      <td>11/06/2020 12:00:00 AM</td>\n      <td>1800.0</td>\n      <td>19.0</td>\n      <td>1924.0</td>\n      <td>1.0</td>\n      <td>[0329, 1300]</td>\n      <td>61.0</td>\n      <td>M</td>\n      <td>H</td>\n      <td>101.0</td>\n      <td>400.0</td>\n      <td>IC</td>\n      <td>Property Crimes</td>\n    </tr>\n    <tr>\n      <th>4</th>\n      <td>1</td>\n      <td>33.9787</td>\n      <td>-118.2918</td>\n      <td>02/25/2020 12:00:00 AM</td>\n      <td>02/25/2020 12:00:00 AM</td>\n      <td>1130.0</td>\n      <td>12.0</td>\n      <td>1245.0</td>\n      <td>1.0</td>\n      <td>[0416, 0945, 1822, 0400, 0417, 0344]</td>\n      <td>0.0</td>\n      <td>X</td>\n      <td>X</td>\n      <td>401.0</td>\n      <td>400.0</td>\n      <td>IC</td>\n      <td>Property Crimes</td>\n    </tr>\n    <tr>\n      <th>...</th>\n      <td>...</td>\n      <td>...</td>\n      <td>...</td>\n      <td>...</td>\n      <td>...</td>\n      <td>...</td>\n      <td>...</td>\n      <td>...</td>\n      <td>...</td>\n      <td>...</td>\n      <td>...</td>\n      <td>...</td>\n      <td>...</td>\n      <td>...</td>\n      <td>...</td>\n      <td>...</td>\n      <td>...</td>\n    </tr>\n    <tr>\n      <th>19995</th>\n      <td>1</td>\n      <td>34.0334</td>\n      <td>-118.3523</td>\n      <td>05/24/2020 12:00:00 AM</td>\n      <td>05/24/2020 12:00:00 AM</td>\n      <td>700.0</td>\n      <td>3.0</td>\n      <td>303.0</td>\n      <td>2.0</td>\n      <td>[0416, 0446, 2004, 0913]</td>\n      <td>51.0</td>\n      <td>M</td>\n      <td>H</td>\n      <td>501.0</td>\n      <td>400.0</td>\n      <td>IC</td>\n      <td>Violent Crimes</td>\n    </tr>\n    <tr>\n      <th>19996</th>\n      <td>3</td>\n      <td>34.2212</td>\n      <td>-118.5011</td>\n      <td>12/25/2020 12:00:00 AM</td>\n      <td>12/25/2020 12:00:00 AM</td>\n      <td>259.0</td>\n      <td>10.0</td>\n      <td>1008.0</td>\n      <td>1.0</td>\n      <td>[1822, 0209, 0344, 1414, 1420]</td>\n      <td>0.0</td>\n      <td>M</td>\n      <td>W</td>\n      <td>301.0</td>\n      <td>400.0</td>\n      <td>IC</td>\n      <td>Property Crimes</td>\n    </tr>\n    <tr>\n      <th>19997</th>\n      <td>3</td>\n      <td>34.0571</td>\n      <td>-118.3815</td>\n      <td>09/25/2020 12:00:00 AM</td>\n      <td>09/25/2020 12:00:00 AM</td>\n      <td>1400.0</td>\n      <td>8.0</td>\n      <td>849.0</td>\n      <td>1.0</td>\n      <td>[0344, 1822, 1420]</td>\n      <td>42.0</td>\n      <td>M</td>\n      <td>H</td>\n      <td>102.0</td>\n      <td>400.0</td>\n      <td>IC</td>\n      <td>Property Crimes</td>\n    </tr>\n    <tr>\n      <th>19998</th>\n      <td>2</td>\n      <td>33.7451</td>\n      <td>-118.2835</td>\n      <td>06/10/2020 12:00:00 AM</td>\n      <td>06/10/2020 12:00:00 AM</td>\n      <td>600.0</td>\n      <td>5.0</td>\n      <td>558.0</td>\n      <td>2.0</td>\n      <td>[1202, 2038, 0913, 0602, 1242, 0553]</td>\n      <td>76.0</td>\n      <td>F</td>\n      <td>H</td>\n      <td>501.0</td>\n      <td>400.0</td>\n      <td>IC</td>\n      <td>Crimes against Public Order</td>\n    </tr>\n    <tr>\n      <th>19999</th>\n      <td>1</td>\n      <td>34.0037</td>\n      <td>-118.3034</td>\n      <td>02/18/2020 12:00:00 AM</td>\n      <td>02/17/2020 12:00:00 AM</td>\n      <td>1800.0</td>\n      <td>3.0</td>\n      <td>397.0</td>\n      <td>1.0</td>\n      <td>[0344]</td>\n      <td>0.0</td>\n      <td>M</td>\n      <td>H</td>\n      <td>101.0</td>\n      <td>400.0</td>\n      <td>IC</td>\n      <td>Property Crimes</td>\n    </tr>\n  </tbody>\n</table>\n<p>20000 rows × 17 columns</p>\n</div>"
          },
          "metadata": {}
        }
      ]
    },
    {
      "cell_type": "markdown",
      "source": [
        "##### I am trying to make a dataframe \"mo\" which will have encoded values of the modus operandi and eventually will be concatenated to the original traindf dataframe"
      ],
      "metadata": {
        "id": "GiynFfvBcaQ1"
      }
    },
    {
      "cell_type": "code",
      "source": [
        "from sklearn.preprocessing import MultiLabelBinarizer #importing MultiLabelBinarizer\n",
        "mlb=MultiLabelBinarizer() #creating object\n",
        "mo_transformed=mlb.fit_transform(traindf['Modus_Operandi'])#transforming the \"Modus_Operandi\" into muliple columns\n",
        "mo=pd.DataFrame(mo_transformed,columns=\"modus_\"+mlb.classes_)#converting the transformation into a pandas DataFrame \"mo\"\n",
        "mo"
      ],
      "metadata": {
        "execution": {
          "iopub.status.busy": "2024-07-30T18:59:55.479216Z",
          "iopub.execute_input": "2024-07-30T18:59:55.479621Z",
          "iopub.status.idle": "2024-07-30T18:59:55.650048Z",
          "shell.execute_reply.started": "2024-07-30T18:59:55.479587Z",
          "shell.execute_reply": "2024-07-30T18:59:55.648403Z"
        },
        "trusted": true,
        "id": "Y2YEJhcrcaQ1",
        "outputId": "5902c93f-3a39-4161-f7cb-d7387cef96d5"
      },
      "execution_count": null,
      "outputs": [
        {
          "execution_count": 18,
          "output_type": "execute_result",
          "data": {
            "text/plain": "       modus_0100  modus_0104  modus_0105  modus_0110  modus_0112  modus_0113  \\\n0               0           0           0           0           0           0   \n1               0           0           0           0           0           0   \n2               0           0           0           0           0           0   \n3               0           0           0           0           0           0   \n4               0           0           0           0           0           0   \n...           ...         ...         ...         ...         ...         ...   \n19995           0           0           0           0           0           0   \n19996           0           0           0           0           0           0   \n19997           0           0           0           0           0           0   \n19998           0           0           0           0           0           0   \n19999           0           0           0           0           0           0   \n\n       modus_0114  modus_0115  modus_0117  modus_0120  ...  modus_2126  \\\n0               0           0           0           0  ...           0   \n1               0           0           0           0  ...           0   \n2               0           0           0           0  ...           0   \n3               0           0           0           0  ...           0   \n4               0           0           0           0  ...           0   \n...           ...         ...         ...         ...  ...         ...   \n19995           0           0           0           0  ...           0   \n19996           0           0           0           0  ...           0   \n19997           0           0           0           0  ...           0   \n19998           0           0           0           0  ...           0   \n19999           0           0           0           0  ...           0   \n\n       modus_2157  modus_2201  modus_2204  modus_2303  modus_2304  modus_3003  \\\n0               0           0           0           0           0           0   \n1               0           0           0           0           0           0   \n2               0           0           0           0           0           0   \n3               0           0           0           0           0           0   \n4               0           0           0           0           0           0   \n...           ...         ...         ...         ...         ...         ...   \n19995           0           0           0           0           0           0   \n19996           0           0           0           0           0           0   \n19997           0           0           0           0           0           0   \n19998           0           0           0           0           0           0   \n19999           0           0           0           0           0           0   \n\n       modus_3004  modus_4025  modus_9999  \n0               0           0           0  \n1               0           0           0  \n2               0           0           0  \n3               0           0           0  \n4               0           0           0  \n...           ...         ...         ...  \n19995           0           0           0  \n19996           0           0           0  \n19997           0           0           0  \n19998           0           0           0  \n19999           0           0           0  \n\n[20000 rows x 481 columns]",
            "text/html": "<div>\n<style scoped>\n    .dataframe tbody tr th:only-of-type {\n        vertical-align: middle;\n    }\n\n    .dataframe tbody tr th {\n        vertical-align: top;\n    }\n\n    .dataframe thead th {\n        text-align: right;\n    }\n</style>\n<table border=\"1\" class=\"dataframe\">\n  <thead>\n    <tr style=\"text-align: right;\">\n      <th></th>\n      <th>modus_0100</th>\n      <th>modus_0104</th>\n      <th>modus_0105</th>\n      <th>modus_0110</th>\n      <th>modus_0112</th>\n      <th>modus_0113</th>\n      <th>modus_0114</th>\n      <th>modus_0115</th>\n      <th>modus_0117</th>\n      <th>modus_0120</th>\n      <th>...</th>\n      <th>modus_2126</th>\n      <th>modus_2157</th>\n      <th>modus_2201</th>\n      <th>modus_2204</th>\n      <th>modus_2303</th>\n      <th>modus_2304</th>\n      <th>modus_3003</th>\n      <th>modus_3004</th>\n      <th>modus_4025</th>\n      <th>modus_9999</th>\n    </tr>\n  </thead>\n  <tbody>\n    <tr>\n      <th>0</th>\n      <td>0</td>\n      <td>0</td>\n      <td>0</td>\n      <td>0</td>\n      <td>0</td>\n      <td>0</td>\n      <td>0</td>\n      <td>0</td>\n      <td>0</td>\n      <td>0</td>\n      <td>...</td>\n      <td>0</td>\n      <td>0</td>\n      <td>0</td>\n      <td>0</td>\n      <td>0</td>\n      <td>0</td>\n      <td>0</td>\n      <td>0</td>\n      <td>0</td>\n      <td>0</td>\n    </tr>\n    <tr>\n      <th>1</th>\n      <td>0</td>\n      <td>0</td>\n      <td>0</td>\n      <td>0</td>\n      <td>0</td>\n      <td>0</td>\n      <td>0</td>\n      <td>0</td>\n      <td>0</td>\n      <td>0</td>\n      <td>...</td>\n      <td>0</td>\n      <td>0</td>\n      <td>0</td>\n      <td>0</td>\n      <td>0</td>\n      <td>0</td>\n      <td>0</td>\n      <td>0</td>\n      <td>0</td>\n      <td>0</td>\n    </tr>\n    <tr>\n      <th>2</th>\n      <td>0</td>\n      <td>0</td>\n      <td>0</td>\n      <td>0</td>\n      <td>0</td>\n      <td>0</td>\n      <td>0</td>\n      <td>0</td>\n      <td>0</td>\n      <td>0</td>\n      <td>...</td>\n      <td>0</td>\n      <td>0</td>\n      <td>0</td>\n      <td>0</td>\n      <td>0</td>\n      <td>0</td>\n      <td>0</td>\n      <td>0</td>\n      <td>0</td>\n      <td>0</td>\n    </tr>\n    <tr>\n      <th>3</th>\n      <td>0</td>\n      <td>0</td>\n      <td>0</td>\n      <td>0</td>\n      <td>0</td>\n      <td>0</td>\n      <td>0</td>\n      <td>0</td>\n      <td>0</td>\n      <td>0</td>\n      <td>...</td>\n      <td>0</td>\n      <td>0</td>\n      <td>0</td>\n      <td>0</td>\n      <td>0</td>\n      <td>0</td>\n      <td>0</td>\n      <td>0</td>\n      <td>0</td>\n      <td>0</td>\n    </tr>\n    <tr>\n      <th>4</th>\n      <td>0</td>\n      <td>0</td>\n      <td>0</td>\n      <td>0</td>\n      <td>0</td>\n      <td>0</td>\n      <td>0</td>\n      <td>0</td>\n      <td>0</td>\n      <td>0</td>\n      <td>...</td>\n      <td>0</td>\n      <td>0</td>\n      <td>0</td>\n      <td>0</td>\n      <td>0</td>\n      <td>0</td>\n      <td>0</td>\n      <td>0</td>\n      <td>0</td>\n      <td>0</td>\n    </tr>\n    <tr>\n      <th>...</th>\n      <td>...</td>\n      <td>...</td>\n      <td>...</td>\n      <td>...</td>\n      <td>...</td>\n      <td>...</td>\n      <td>...</td>\n      <td>...</td>\n      <td>...</td>\n      <td>...</td>\n      <td>...</td>\n      <td>...</td>\n      <td>...</td>\n      <td>...</td>\n      <td>...</td>\n      <td>...</td>\n      <td>...</td>\n      <td>...</td>\n      <td>...</td>\n      <td>...</td>\n      <td>...</td>\n    </tr>\n    <tr>\n      <th>19995</th>\n      <td>0</td>\n      <td>0</td>\n      <td>0</td>\n      <td>0</td>\n      <td>0</td>\n      <td>0</td>\n      <td>0</td>\n      <td>0</td>\n      <td>0</td>\n      <td>0</td>\n      <td>...</td>\n      <td>0</td>\n      <td>0</td>\n      <td>0</td>\n      <td>0</td>\n      <td>0</td>\n      <td>0</td>\n      <td>0</td>\n      <td>0</td>\n      <td>0</td>\n      <td>0</td>\n    </tr>\n    <tr>\n      <th>19996</th>\n      <td>0</td>\n      <td>0</td>\n      <td>0</td>\n      <td>0</td>\n      <td>0</td>\n      <td>0</td>\n      <td>0</td>\n      <td>0</td>\n      <td>0</td>\n      <td>0</td>\n      <td>...</td>\n      <td>0</td>\n      <td>0</td>\n      <td>0</td>\n      <td>0</td>\n      <td>0</td>\n      <td>0</td>\n      <td>0</td>\n      <td>0</td>\n      <td>0</td>\n      <td>0</td>\n    </tr>\n    <tr>\n      <th>19997</th>\n      <td>0</td>\n      <td>0</td>\n      <td>0</td>\n      <td>0</td>\n      <td>0</td>\n      <td>0</td>\n      <td>0</td>\n      <td>0</td>\n      <td>0</td>\n      <td>0</td>\n      <td>...</td>\n      <td>0</td>\n      <td>0</td>\n      <td>0</td>\n      <td>0</td>\n      <td>0</td>\n      <td>0</td>\n      <td>0</td>\n      <td>0</td>\n      <td>0</td>\n      <td>0</td>\n    </tr>\n    <tr>\n      <th>19998</th>\n      <td>0</td>\n      <td>0</td>\n      <td>0</td>\n      <td>0</td>\n      <td>0</td>\n      <td>0</td>\n      <td>0</td>\n      <td>0</td>\n      <td>0</td>\n      <td>0</td>\n      <td>...</td>\n      <td>0</td>\n      <td>0</td>\n      <td>0</td>\n      <td>0</td>\n      <td>0</td>\n      <td>0</td>\n      <td>0</td>\n      <td>0</td>\n      <td>0</td>\n      <td>0</td>\n    </tr>\n    <tr>\n      <th>19999</th>\n      <td>0</td>\n      <td>0</td>\n      <td>0</td>\n      <td>0</td>\n      <td>0</td>\n      <td>0</td>\n      <td>0</td>\n      <td>0</td>\n      <td>0</td>\n      <td>0</td>\n      <td>...</td>\n      <td>0</td>\n      <td>0</td>\n      <td>0</td>\n      <td>0</td>\n      <td>0</td>\n      <td>0</td>\n      <td>0</td>\n      <td>0</td>\n      <td>0</td>\n      <td>0</td>\n    </tr>\n  </tbody>\n</table>\n<p>20000 rows × 481 columns</p>\n</div>"
          },
          "metadata": {}
        }
      ]
    },
    {
      "cell_type": "code",
      "source": [
        "traindf.drop(\"Modus_Operandi\",axis=1,inplace=True)#dropping the original \"Modus_Operandi\" column\n",
        "traindf=pd.concat([traindf,mo],axis=1)#concatenating traindf with new \"mo\" dataframe\n",
        "traindf"
      ],
      "metadata": {
        "execution": {
          "iopub.status.busy": "2024-07-30T18:59:55.65226Z",
          "iopub.execute_input": "2024-07-30T18:59:55.652695Z",
          "iopub.status.idle": "2024-07-30T18:59:55.873805Z",
          "shell.execute_reply.started": "2024-07-30T18:59:55.652663Z",
          "shell.execute_reply": "2024-07-30T18:59:55.872101Z"
        },
        "trusted": true,
        "id": "MqWxV-dFcaQ2",
        "outputId": "3d301a90-7d7c-4c7a-bcae-321c648e32b3"
      },
      "execution_count": null,
      "outputs": [
        {
          "execution_count": 19,
          "output_type": "execute_result",
          "data": {
            "text/plain": "       Location Latitude Longitude           Date_Reported  \\\n0             1  34.1522  -118.391  03/09/2020 12:00:00 AM   \n1             2  34.0028 -118.2391  02/27/2020 12:00:00 AM   \n2             3  34.0111 -118.2653  08/21/2020 12:00:00 AM   \n3             1  34.2953  -118.459  11/08/2020 12:00:00 AM   \n4             1  33.9787 -118.2918  02/25/2020 12:00:00 AM   \n...         ...      ...       ...                     ...   \n19995         1  34.0334 -118.3523  05/24/2020 12:00:00 AM   \n19996         3  34.2212 -118.5011  12/25/2020 12:00:00 AM   \n19997         3  34.0571 -118.3815  09/25/2020 12:00:00 AM   \n19998         2  33.7451 -118.2835  06/10/2020 12:00:00 AM   \n19999         1  34.0037 -118.3034  02/18/2020 12:00:00 AM   \n\n                Date_Occurred Time_Occurred Area_ID Reporting_District_no  \\\n0      03/06/2020 12:00:00 AM        1800.0    15.0                1563.0   \n1      02/27/2020 12:00:00 AM        1345.0    13.0                1367.0   \n2      08/21/2020 12:00:00 AM         605.0    13.0                1343.0   \n3      11/06/2020 12:00:00 AM        1800.0    19.0                1924.0   \n4      02/25/2020 12:00:00 AM        1130.0    12.0                1245.0   \n...                       ...           ...     ...                   ...   \n19995  05/24/2020 12:00:00 AM         700.0     3.0                 303.0   \n19996  12/25/2020 12:00:00 AM         259.0    10.0                1008.0   \n19997  09/25/2020 12:00:00 AM        1400.0     8.0                 849.0   \n19998  06/10/2020 12:00:00 AM         600.0     5.0                 558.0   \n19999  02/17/2020 12:00:00 AM        1800.0     3.0                 397.0   \n\n      Part 1-2 Victim_Age  ... modus_2126 modus_2157 modus_2201 modus_2204  \\\n0          1.0       75.0  ...          0          0          0          0   \n1          1.0       41.0  ...          0          0          0          0   \n2          2.0       67.0  ...          0          0          0          0   \n3          1.0       61.0  ...          0          0          0          0   \n4          1.0        0.0  ...          0          0          0          0   \n...        ...        ...  ...        ...        ...        ...        ...   \n19995      2.0       51.0  ...          0          0          0          0   \n19996      1.0        0.0  ...          0          0          0          0   \n19997      1.0       42.0  ...          0          0          0          0   \n19998      2.0       76.0  ...          0          0          0          0   \n19999      1.0        0.0  ...          0          0          0          0   \n\n      modus_2303 modus_2304  modus_3003  modus_3004  modus_4025  modus_9999  \n0              0          0           0           0           0           0  \n1              0          0           0           0           0           0  \n2              0          0           0           0           0           0  \n3              0          0           0           0           0           0  \n4              0          0           0           0           0           0  \n...          ...        ...         ...         ...         ...         ...  \n19995          0          0           0           0           0           0  \n19996          0          0           0           0           0           0  \n19997          0          0           0           0           0           0  \n19998          0          0           0           0           0           0  \n19999          0          0           0           0           0           0  \n\n[20000 rows x 497 columns]",
            "text/html": "<div>\n<style scoped>\n    .dataframe tbody tr th:only-of-type {\n        vertical-align: middle;\n    }\n\n    .dataframe tbody tr th {\n        vertical-align: top;\n    }\n\n    .dataframe thead th {\n        text-align: right;\n    }\n</style>\n<table border=\"1\" class=\"dataframe\">\n  <thead>\n    <tr style=\"text-align: right;\">\n      <th></th>\n      <th>Location</th>\n      <th>Latitude</th>\n      <th>Longitude</th>\n      <th>Date_Reported</th>\n      <th>Date_Occurred</th>\n      <th>Time_Occurred</th>\n      <th>Area_ID</th>\n      <th>Reporting_District_no</th>\n      <th>Part 1-2</th>\n      <th>Victim_Age</th>\n      <th>...</th>\n      <th>modus_2126</th>\n      <th>modus_2157</th>\n      <th>modus_2201</th>\n      <th>modus_2204</th>\n      <th>modus_2303</th>\n      <th>modus_2304</th>\n      <th>modus_3003</th>\n      <th>modus_3004</th>\n      <th>modus_4025</th>\n      <th>modus_9999</th>\n    </tr>\n  </thead>\n  <tbody>\n    <tr>\n      <th>0</th>\n      <td>1</td>\n      <td>34.1522</td>\n      <td>-118.391</td>\n      <td>03/09/2020 12:00:00 AM</td>\n      <td>03/06/2020 12:00:00 AM</td>\n      <td>1800.0</td>\n      <td>15.0</td>\n      <td>1563.0</td>\n      <td>1.0</td>\n      <td>75.0</td>\n      <td>...</td>\n      <td>0</td>\n      <td>0</td>\n      <td>0</td>\n      <td>0</td>\n      <td>0</td>\n      <td>0</td>\n      <td>0</td>\n      <td>0</td>\n      <td>0</td>\n      <td>0</td>\n    </tr>\n    <tr>\n      <th>1</th>\n      <td>2</td>\n      <td>34.0028</td>\n      <td>-118.2391</td>\n      <td>02/27/2020 12:00:00 AM</td>\n      <td>02/27/2020 12:00:00 AM</td>\n      <td>1345.0</td>\n      <td>13.0</td>\n      <td>1367.0</td>\n      <td>1.0</td>\n      <td>41.0</td>\n      <td>...</td>\n      <td>0</td>\n      <td>0</td>\n      <td>0</td>\n      <td>0</td>\n      <td>0</td>\n      <td>0</td>\n      <td>0</td>\n      <td>0</td>\n      <td>0</td>\n      <td>0</td>\n    </tr>\n    <tr>\n      <th>2</th>\n      <td>3</td>\n      <td>34.0111</td>\n      <td>-118.2653</td>\n      <td>08/21/2020 12:00:00 AM</td>\n      <td>08/21/2020 12:00:00 AM</td>\n      <td>605.0</td>\n      <td>13.0</td>\n      <td>1343.0</td>\n      <td>2.0</td>\n      <td>67.0</td>\n      <td>...</td>\n      <td>0</td>\n      <td>0</td>\n      <td>0</td>\n      <td>0</td>\n      <td>0</td>\n      <td>0</td>\n      <td>0</td>\n      <td>0</td>\n      <td>0</td>\n      <td>0</td>\n    </tr>\n    <tr>\n      <th>3</th>\n      <td>1</td>\n      <td>34.2953</td>\n      <td>-118.459</td>\n      <td>11/08/2020 12:00:00 AM</td>\n      <td>11/06/2020 12:00:00 AM</td>\n      <td>1800.0</td>\n      <td>19.0</td>\n      <td>1924.0</td>\n      <td>1.0</td>\n      <td>61.0</td>\n      <td>...</td>\n      <td>0</td>\n      <td>0</td>\n      <td>0</td>\n      <td>0</td>\n      <td>0</td>\n      <td>0</td>\n      <td>0</td>\n      <td>0</td>\n      <td>0</td>\n      <td>0</td>\n    </tr>\n    <tr>\n      <th>4</th>\n      <td>1</td>\n      <td>33.9787</td>\n      <td>-118.2918</td>\n      <td>02/25/2020 12:00:00 AM</td>\n      <td>02/25/2020 12:00:00 AM</td>\n      <td>1130.0</td>\n      <td>12.0</td>\n      <td>1245.0</td>\n      <td>1.0</td>\n      <td>0.0</td>\n      <td>...</td>\n      <td>0</td>\n      <td>0</td>\n      <td>0</td>\n      <td>0</td>\n      <td>0</td>\n      <td>0</td>\n      <td>0</td>\n      <td>0</td>\n      <td>0</td>\n      <td>0</td>\n    </tr>\n    <tr>\n      <th>...</th>\n      <td>...</td>\n      <td>...</td>\n      <td>...</td>\n      <td>...</td>\n      <td>...</td>\n      <td>...</td>\n      <td>...</td>\n      <td>...</td>\n      <td>...</td>\n      <td>...</td>\n      <td>...</td>\n      <td>...</td>\n      <td>...</td>\n      <td>...</td>\n      <td>...</td>\n      <td>...</td>\n      <td>...</td>\n      <td>...</td>\n      <td>...</td>\n      <td>...</td>\n      <td>...</td>\n    </tr>\n    <tr>\n      <th>19995</th>\n      <td>1</td>\n      <td>34.0334</td>\n      <td>-118.3523</td>\n      <td>05/24/2020 12:00:00 AM</td>\n      <td>05/24/2020 12:00:00 AM</td>\n      <td>700.0</td>\n      <td>3.0</td>\n      <td>303.0</td>\n      <td>2.0</td>\n      <td>51.0</td>\n      <td>...</td>\n      <td>0</td>\n      <td>0</td>\n      <td>0</td>\n      <td>0</td>\n      <td>0</td>\n      <td>0</td>\n      <td>0</td>\n      <td>0</td>\n      <td>0</td>\n      <td>0</td>\n    </tr>\n    <tr>\n      <th>19996</th>\n      <td>3</td>\n      <td>34.2212</td>\n      <td>-118.5011</td>\n      <td>12/25/2020 12:00:00 AM</td>\n      <td>12/25/2020 12:00:00 AM</td>\n      <td>259.0</td>\n      <td>10.0</td>\n      <td>1008.0</td>\n      <td>1.0</td>\n      <td>0.0</td>\n      <td>...</td>\n      <td>0</td>\n      <td>0</td>\n      <td>0</td>\n      <td>0</td>\n      <td>0</td>\n      <td>0</td>\n      <td>0</td>\n      <td>0</td>\n      <td>0</td>\n      <td>0</td>\n    </tr>\n    <tr>\n      <th>19997</th>\n      <td>3</td>\n      <td>34.0571</td>\n      <td>-118.3815</td>\n      <td>09/25/2020 12:00:00 AM</td>\n      <td>09/25/2020 12:00:00 AM</td>\n      <td>1400.0</td>\n      <td>8.0</td>\n      <td>849.0</td>\n      <td>1.0</td>\n      <td>42.0</td>\n      <td>...</td>\n      <td>0</td>\n      <td>0</td>\n      <td>0</td>\n      <td>0</td>\n      <td>0</td>\n      <td>0</td>\n      <td>0</td>\n      <td>0</td>\n      <td>0</td>\n      <td>0</td>\n    </tr>\n    <tr>\n      <th>19998</th>\n      <td>2</td>\n      <td>33.7451</td>\n      <td>-118.2835</td>\n      <td>06/10/2020 12:00:00 AM</td>\n      <td>06/10/2020 12:00:00 AM</td>\n      <td>600.0</td>\n      <td>5.0</td>\n      <td>558.0</td>\n      <td>2.0</td>\n      <td>76.0</td>\n      <td>...</td>\n      <td>0</td>\n      <td>0</td>\n      <td>0</td>\n      <td>0</td>\n      <td>0</td>\n      <td>0</td>\n      <td>0</td>\n      <td>0</td>\n      <td>0</td>\n      <td>0</td>\n    </tr>\n    <tr>\n      <th>19999</th>\n      <td>1</td>\n      <td>34.0037</td>\n      <td>-118.3034</td>\n      <td>02/18/2020 12:00:00 AM</td>\n      <td>02/17/2020 12:00:00 AM</td>\n      <td>1800.0</td>\n      <td>3.0</td>\n      <td>397.0</td>\n      <td>1.0</td>\n      <td>0.0</td>\n      <td>...</td>\n      <td>0</td>\n      <td>0</td>\n      <td>0</td>\n      <td>0</td>\n      <td>0</td>\n      <td>0</td>\n      <td>0</td>\n      <td>0</td>\n      <td>0</td>\n      <td>0</td>\n    </tr>\n  </tbody>\n</table>\n<p>20000 rows × 497 columns</p>\n</div>"
          },
          "metadata": {}
        }
      ]
    },
    {
      "cell_type": "markdown",
      "source": [
        "#### Another important column to handle is \"Date_Reported\" and \"Date_Occured\". This can be handled by converting them into date data type and then creating seperate column for day, month and year for both reported and occured."
      ],
      "metadata": {
        "id": "DkzWDzZEcaQ2"
      }
    },
    {
      "cell_type": "code",
      "source": [
        "#converting \"Date_Reported\" and \"Date_Occurred\" into Date data type\n",
        "traindf['Date_Reported']=pd.to_datetime(traindf['Date_Reported'])\n",
        "traindf['Date_Occurred']=pd.to_datetime(traindf['Date_Occurred'])\n",
        "#extracting day, month and year from the above column and creating new columns for the same\n",
        "traindf['Day_Reported']=traindf['Date_Reported'].dt.day\n",
        "traindf['Month_Reported']=traindf['Date_Reported'].dt.month\n",
        "traindf['Year_Reported']=traindf['Date_Reported'].dt.year\n",
        "traindf['Day_Occurred']=traindf['Date_Occurred'].dt.day\n",
        "traindf['Month_Occurred']=traindf['Date_Occurred'].dt.month\n",
        "traindf['Year_Occurred']=traindf['Date_Occurred'].dt.year\n",
        "#dropping the original columns post handling\n",
        "traindf.drop(['Date_Reported','Date_Occurred'],axis=1,inplace=True)\n",
        "traindf"
      ],
      "metadata": {
        "execution": {
          "iopub.status.busy": "2024-07-30T18:59:55.875749Z",
          "iopub.execute_input": "2024-07-30T18:59:55.876324Z",
          "iopub.status.idle": "2024-07-30T18:59:56.168084Z",
          "shell.execute_reply.started": "2024-07-30T18:59:55.876278Z",
          "shell.execute_reply": "2024-07-30T18:59:56.166949Z"
        },
        "trusted": true,
        "id": "Rwr_w2GycaQ2",
        "outputId": "9df1ee7e-ffb6-41d9-cef2-6a396907a8c5"
      },
      "execution_count": null,
      "outputs": [
        {
          "name": "stderr",
          "text": "/tmp/ipykernel_91/1508811496.py:2: UserWarning: Could not infer format, so each element will be parsed individually, falling back to `dateutil`. To ensure parsing is consistent and as-expected, please specify a format.\n  traindf['Date_Reported']=pd.to_datetime(traindf['Date_Reported'])\n/tmp/ipykernel_91/1508811496.py:3: UserWarning: Could not infer format, so each element will be parsed individually, falling back to `dateutil`. To ensure parsing is consistent and as-expected, please specify a format.\n  traindf['Date_Occurred']=pd.to_datetime(traindf['Date_Occurred'])\n",
          "output_type": "stream"
        },
        {
          "execution_count": 20,
          "output_type": "execute_result",
          "data": {
            "text/plain": "       Location Latitude Longitude Time_Occurred Area_ID  \\\n0             1  34.1522  -118.391        1800.0    15.0   \n1             2  34.0028 -118.2391        1345.0    13.0   \n2             3  34.0111 -118.2653         605.0    13.0   \n3             1  34.2953  -118.459        1800.0    19.0   \n4             1  33.9787 -118.2918        1130.0    12.0   \n...         ...      ...       ...           ...     ...   \n19995         1  34.0334 -118.3523         700.0     3.0   \n19996         3  34.2212 -118.5011         259.0    10.0   \n19997         3  34.0571 -118.3815        1400.0     8.0   \n19998         2  33.7451 -118.2835         600.0     5.0   \n19999         1  34.0037 -118.3034        1800.0     3.0   \n\n      Reporting_District_no Part 1-2 Victim_Age Victim_Sex Victim_Descent  \\\n0                    1563.0      1.0       75.0          M              W   \n1                    1367.0      1.0       41.0          M              H   \n2                    1343.0      2.0       67.0          M              B   \n3                    1924.0      1.0       61.0          M              H   \n4                    1245.0      1.0        0.0          X              X   \n...                     ...      ...        ...        ...            ...   \n19995                 303.0      2.0       51.0          M              H   \n19996                1008.0      1.0        0.0          M              W   \n19997                 849.0      1.0       42.0          M              H   \n19998                 558.0      2.0       76.0          F              H   \n19999                 397.0      1.0        0.0          M              H   \n\n       ... modus_3003 modus_3004 modus_4025 modus_9999  Day_Reported  \\\n0      ...          0          0          0          0             9   \n1      ...          0          0          0          0            27   \n2      ...          0          0          0          0            21   \n3      ...          0          0          0          0             8   \n4      ...          0          0          0          0            25   \n...    ...        ...        ...        ...        ...           ...   \n19995  ...          0          0          0          0            24   \n19996  ...          0          0          0          0            25   \n19997  ...          0          0          0          0            25   \n19998  ...          0          0          0          0            10   \n19999  ...          0          0          0          0            18   \n\n       Month_Reported  Year_Reported  Day_Occurred  Month_Occurred  \\\n0                   3           2020             6               3   \n1                   2           2020            27               2   \n2                   8           2020            21               8   \n3                  11           2020             6              11   \n4                   2           2020            25               2   \n...               ...            ...           ...             ...   \n19995               5           2020            24               5   \n19996              12           2020            25              12   \n19997               9           2020            25               9   \n19998               6           2020            10               6   \n19999               2           2020            17               2   \n\n       Year_Occurred  \n0               2020  \n1               2020  \n2               2020  \n3               2020  \n4               2020  \n...              ...  \n19995           2020  \n19996           2020  \n19997           2020  \n19998           2020  \n19999           2020  \n\n[20000 rows x 501 columns]",
            "text/html": "<div>\n<style scoped>\n    .dataframe tbody tr th:only-of-type {\n        vertical-align: middle;\n    }\n\n    .dataframe tbody tr th {\n        vertical-align: top;\n    }\n\n    .dataframe thead th {\n        text-align: right;\n    }\n</style>\n<table border=\"1\" class=\"dataframe\">\n  <thead>\n    <tr style=\"text-align: right;\">\n      <th></th>\n      <th>Location</th>\n      <th>Latitude</th>\n      <th>Longitude</th>\n      <th>Time_Occurred</th>\n      <th>Area_ID</th>\n      <th>Reporting_District_no</th>\n      <th>Part 1-2</th>\n      <th>Victim_Age</th>\n      <th>Victim_Sex</th>\n      <th>Victim_Descent</th>\n      <th>...</th>\n      <th>modus_3003</th>\n      <th>modus_3004</th>\n      <th>modus_4025</th>\n      <th>modus_9999</th>\n      <th>Day_Reported</th>\n      <th>Month_Reported</th>\n      <th>Year_Reported</th>\n      <th>Day_Occurred</th>\n      <th>Month_Occurred</th>\n      <th>Year_Occurred</th>\n    </tr>\n  </thead>\n  <tbody>\n    <tr>\n      <th>0</th>\n      <td>1</td>\n      <td>34.1522</td>\n      <td>-118.391</td>\n      <td>1800.0</td>\n      <td>15.0</td>\n      <td>1563.0</td>\n      <td>1.0</td>\n      <td>75.0</td>\n      <td>M</td>\n      <td>W</td>\n      <td>...</td>\n      <td>0</td>\n      <td>0</td>\n      <td>0</td>\n      <td>0</td>\n      <td>9</td>\n      <td>3</td>\n      <td>2020</td>\n      <td>6</td>\n      <td>3</td>\n      <td>2020</td>\n    </tr>\n    <tr>\n      <th>1</th>\n      <td>2</td>\n      <td>34.0028</td>\n      <td>-118.2391</td>\n      <td>1345.0</td>\n      <td>13.0</td>\n      <td>1367.0</td>\n      <td>1.0</td>\n      <td>41.0</td>\n      <td>M</td>\n      <td>H</td>\n      <td>...</td>\n      <td>0</td>\n      <td>0</td>\n      <td>0</td>\n      <td>0</td>\n      <td>27</td>\n      <td>2</td>\n      <td>2020</td>\n      <td>27</td>\n      <td>2</td>\n      <td>2020</td>\n    </tr>\n    <tr>\n      <th>2</th>\n      <td>3</td>\n      <td>34.0111</td>\n      <td>-118.2653</td>\n      <td>605.0</td>\n      <td>13.0</td>\n      <td>1343.0</td>\n      <td>2.0</td>\n      <td>67.0</td>\n      <td>M</td>\n      <td>B</td>\n      <td>...</td>\n      <td>0</td>\n      <td>0</td>\n      <td>0</td>\n      <td>0</td>\n      <td>21</td>\n      <td>8</td>\n      <td>2020</td>\n      <td>21</td>\n      <td>8</td>\n      <td>2020</td>\n    </tr>\n    <tr>\n      <th>3</th>\n      <td>1</td>\n      <td>34.2953</td>\n      <td>-118.459</td>\n      <td>1800.0</td>\n      <td>19.0</td>\n      <td>1924.0</td>\n      <td>1.0</td>\n      <td>61.0</td>\n      <td>M</td>\n      <td>H</td>\n      <td>...</td>\n      <td>0</td>\n      <td>0</td>\n      <td>0</td>\n      <td>0</td>\n      <td>8</td>\n      <td>11</td>\n      <td>2020</td>\n      <td>6</td>\n      <td>11</td>\n      <td>2020</td>\n    </tr>\n    <tr>\n      <th>4</th>\n      <td>1</td>\n      <td>33.9787</td>\n      <td>-118.2918</td>\n      <td>1130.0</td>\n      <td>12.0</td>\n      <td>1245.0</td>\n      <td>1.0</td>\n      <td>0.0</td>\n      <td>X</td>\n      <td>X</td>\n      <td>...</td>\n      <td>0</td>\n      <td>0</td>\n      <td>0</td>\n      <td>0</td>\n      <td>25</td>\n      <td>2</td>\n      <td>2020</td>\n      <td>25</td>\n      <td>2</td>\n      <td>2020</td>\n    </tr>\n    <tr>\n      <th>...</th>\n      <td>...</td>\n      <td>...</td>\n      <td>...</td>\n      <td>...</td>\n      <td>...</td>\n      <td>...</td>\n      <td>...</td>\n      <td>...</td>\n      <td>...</td>\n      <td>...</td>\n      <td>...</td>\n      <td>...</td>\n      <td>...</td>\n      <td>...</td>\n      <td>...</td>\n      <td>...</td>\n      <td>...</td>\n      <td>...</td>\n      <td>...</td>\n      <td>...</td>\n      <td>...</td>\n    </tr>\n    <tr>\n      <th>19995</th>\n      <td>1</td>\n      <td>34.0334</td>\n      <td>-118.3523</td>\n      <td>700.0</td>\n      <td>3.0</td>\n      <td>303.0</td>\n      <td>2.0</td>\n      <td>51.0</td>\n      <td>M</td>\n      <td>H</td>\n      <td>...</td>\n      <td>0</td>\n      <td>0</td>\n      <td>0</td>\n      <td>0</td>\n      <td>24</td>\n      <td>5</td>\n      <td>2020</td>\n      <td>24</td>\n      <td>5</td>\n      <td>2020</td>\n    </tr>\n    <tr>\n      <th>19996</th>\n      <td>3</td>\n      <td>34.2212</td>\n      <td>-118.5011</td>\n      <td>259.0</td>\n      <td>10.0</td>\n      <td>1008.0</td>\n      <td>1.0</td>\n      <td>0.0</td>\n      <td>M</td>\n      <td>W</td>\n      <td>...</td>\n      <td>0</td>\n      <td>0</td>\n      <td>0</td>\n      <td>0</td>\n      <td>25</td>\n      <td>12</td>\n      <td>2020</td>\n      <td>25</td>\n      <td>12</td>\n      <td>2020</td>\n    </tr>\n    <tr>\n      <th>19997</th>\n      <td>3</td>\n      <td>34.0571</td>\n      <td>-118.3815</td>\n      <td>1400.0</td>\n      <td>8.0</td>\n      <td>849.0</td>\n      <td>1.0</td>\n      <td>42.0</td>\n      <td>M</td>\n      <td>H</td>\n      <td>...</td>\n      <td>0</td>\n      <td>0</td>\n      <td>0</td>\n      <td>0</td>\n      <td>25</td>\n      <td>9</td>\n      <td>2020</td>\n      <td>25</td>\n      <td>9</td>\n      <td>2020</td>\n    </tr>\n    <tr>\n      <th>19998</th>\n      <td>2</td>\n      <td>33.7451</td>\n      <td>-118.2835</td>\n      <td>600.0</td>\n      <td>5.0</td>\n      <td>558.0</td>\n      <td>2.0</td>\n      <td>76.0</td>\n      <td>F</td>\n      <td>H</td>\n      <td>...</td>\n      <td>0</td>\n      <td>0</td>\n      <td>0</td>\n      <td>0</td>\n      <td>10</td>\n      <td>6</td>\n      <td>2020</td>\n      <td>10</td>\n      <td>6</td>\n      <td>2020</td>\n    </tr>\n    <tr>\n      <th>19999</th>\n      <td>1</td>\n      <td>34.0037</td>\n      <td>-118.3034</td>\n      <td>1800.0</td>\n      <td>3.0</td>\n      <td>397.0</td>\n      <td>1.0</td>\n      <td>0.0</td>\n      <td>M</td>\n      <td>H</td>\n      <td>...</td>\n      <td>0</td>\n      <td>0</td>\n      <td>0</td>\n      <td>0</td>\n      <td>18</td>\n      <td>2</td>\n      <td>2020</td>\n      <td>17</td>\n      <td>2</td>\n      <td>2020</td>\n    </tr>\n  </tbody>\n</table>\n<p>20000 rows × 501 columns</p>\n</div>"
          },
          "metadata": {}
        }
      ]
    },
    {
      "cell_type": "markdown",
      "source": [
        "#### My next step shall be to handle other categorical features like \"Victim_Sex\", \"Victim_Descent\", \"Status\". This can be done by one hot encoding the column followed by Standard Scaling the columns which are non categorical in nature."
      ],
      "metadata": {
        "id": "lvY4R6aZcaQ2"
      }
    },
    {
      "cell_type": "code",
      "source": [
        "#one hot encoding apt columns\n",
        "traindf = pd.get_dummies(traindf, columns=['Victim_Sex', 'Victim_Descent', 'Status'])\n",
        "traindf"
      ],
      "metadata": {
        "execution": {
          "iopub.status.busy": "2024-07-30T18:59:56.169388Z",
          "iopub.execute_input": "2024-07-30T18:59:56.169738Z",
          "iopub.status.idle": "2024-07-30T18:59:56.347521Z",
          "shell.execute_reply.started": "2024-07-30T18:59:56.169707Z",
          "shell.execute_reply": "2024-07-30T18:59:56.346048Z"
        },
        "trusted": true,
        "id": "38M5NnSzcaQ3",
        "outputId": "fbbf86cf-cc14-4bda-b8b9-4a061ce3dee5"
      },
      "execution_count": null,
      "outputs": [
        {
          "execution_count": 21,
          "output_type": "execute_result",
          "data": {
            "text/plain": "       Location Latitude Longitude Time_Occurred Area_ID  \\\n0             1  34.1522  -118.391        1800.0    15.0   \n1             2  34.0028 -118.2391        1345.0    13.0   \n2             3  34.0111 -118.2653         605.0    13.0   \n3             1  34.2953  -118.459        1800.0    19.0   \n4             1  33.9787 -118.2918        1130.0    12.0   \n...         ...      ...       ...           ...     ...   \n19995         1  34.0334 -118.3523         700.0     3.0   \n19996         3  34.2212 -118.5011         259.0    10.0   \n19997         3  34.0571 -118.3815        1400.0     8.0   \n19998         2  33.7451 -118.2835         600.0     5.0   \n19999         1  34.0037 -118.3034        1800.0     3.0   \n\n      Reporting_District_no Part 1-2 Victim_Age Premise_Code Weapon_Used_Code  \\\n0                    1563.0      1.0       75.0        101.0            400.0   \n1                    1367.0      1.0       41.0        216.0            400.0   \n2                    1343.0      2.0       67.0        501.0            400.0   \n3                    1924.0      1.0       61.0        101.0            400.0   \n4                    1245.0      1.0        0.0        401.0            400.0   \n...                     ...      ...        ...          ...              ...   \n19995                 303.0      2.0       51.0        501.0            400.0   \n19996                1008.0      1.0        0.0        301.0            400.0   \n19997                 849.0      1.0       42.0        102.0            400.0   \n19998                 558.0      2.0       76.0        501.0            400.0   \n19999                 397.0      1.0        0.0        101.0            400.0   \n\n       ... Victim_Descent_U  Victim_Descent_V  Victim_Descent_W  \\\n0      ...            False             False              True   \n1      ...            False             False             False   \n2      ...            False             False             False   \n3      ...            False             False             False   \n4      ...            False             False             False   \n...    ...              ...               ...               ...   \n19995  ...            False             False             False   \n19996  ...            False             False              True   \n19997  ...            False             False             False   \n19998  ...            False             False             False   \n19999  ...            False             False             False   \n\n       Victim_Descent_X  Victim_Descent_Z  Status_AA  Status_AO  Status_IC  \\\n0                 False             False      False      False       True   \n1                 False             False      False      False       True   \n2                 False             False      False      False       True   \n3                 False             False      False      False       True   \n4                  True             False      False      False       True   \n...                 ...               ...        ...        ...        ...   \n19995             False             False      False      False       True   \n19996             False             False      False      False       True   \n19997             False             False      False      False       True   \n19998             False             False      False      False       True   \n19999             False             False      False      False       True   \n\n       Status_JA  Status_JO  \n0          False      False  \n1          False      False  \n2          False      False  \n3          False      False  \n4          False      False  \n...          ...        ...  \n19995      False      False  \n19996      False      False  \n19997      False      False  \n19998      False      False  \n19999      False      False  \n\n[20000 rows x 524 columns]",
            "text/html": "<div>\n<style scoped>\n    .dataframe tbody tr th:only-of-type {\n        vertical-align: middle;\n    }\n\n    .dataframe tbody tr th {\n        vertical-align: top;\n    }\n\n    .dataframe thead th {\n        text-align: right;\n    }\n</style>\n<table border=\"1\" class=\"dataframe\">\n  <thead>\n    <tr style=\"text-align: right;\">\n      <th></th>\n      <th>Location</th>\n      <th>Latitude</th>\n      <th>Longitude</th>\n      <th>Time_Occurred</th>\n      <th>Area_ID</th>\n      <th>Reporting_District_no</th>\n      <th>Part 1-2</th>\n      <th>Victim_Age</th>\n      <th>Premise_Code</th>\n      <th>Weapon_Used_Code</th>\n      <th>...</th>\n      <th>Victim_Descent_U</th>\n      <th>Victim_Descent_V</th>\n      <th>Victim_Descent_W</th>\n      <th>Victim_Descent_X</th>\n      <th>Victim_Descent_Z</th>\n      <th>Status_AA</th>\n      <th>Status_AO</th>\n      <th>Status_IC</th>\n      <th>Status_JA</th>\n      <th>Status_JO</th>\n    </tr>\n  </thead>\n  <tbody>\n    <tr>\n      <th>0</th>\n      <td>1</td>\n      <td>34.1522</td>\n      <td>-118.391</td>\n      <td>1800.0</td>\n      <td>15.0</td>\n      <td>1563.0</td>\n      <td>1.0</td>\n      <td>75.0</td>\n      <td>101.0</td>\n      <td>400.0</td>\n      <td>...</td>\n      <td>False</td>\n      <td>False</td>\n      <td>True</td>\n      <td>False</td>\n      <td>False</td>\n      <td>False</td>\n      <td>False</td>\n      <td>True</td>\n      <td>False</td>\n      <td>False</td>\n    </tr>\n    <tr>\n      <th>1</th>\n      <td>2</td>\n      <td>34.0028</td>\n      <td>-118.2391</td>\n      <td>1345.0</td>\n      <td>13.0</td>\n      <td>1367.0</td>\n      <td>1.0</td>\n      <td>41.0</td>\n      <td>216.0</td>\n      <td>400.0</td>\n      <td>...</td>\n      <td>False</td>\n      <td>False</td>\n      <td>False</td>\n      <td>False</td>\n      <td>False</td>\n      <td>False</td>\n      <td>False</td>\n      <td>True</td>\n      <td>False</td>\n      <td>False</td>\n    </tr>\n    <tr>\n      <th>2</th>\n      <td>3</td>\n      <td>34.0111</td>\n      <td>-118.2653</td>\n      <td>605.0</td>\n      <td>13.0</td>\n      <td>1343.0</td>\n      <td>2.0</td>\n      <td>67.0</td>\n      <td>501.0</td>\n      <td>400.0</td>\n      <td>...</td>\n      <td>False</td>\n      <td>False</td>\n      <td>False</td>\n      <td>False</td>\n      <td>False</td>\n      <td>False</td>\n      <td>False</td>\n      <td>True</td>\n      <td>False</td>\n      <td>False</td>\n    </tr>\n    <tr>\n      <th>3</th>\n      <td>1</td>\n      <td>34.2953</td>\n      <td>-118.459</td>\n      <td>1800.0</td>\n      <td>19.0</td>\n      <td>1924.0</td>\n      <td>1.0</td>\n      <td>61.0</td>\n      <td>101.0</td>\n      <td>400.0</td>\n      <td>...</td>\n      <td>False</td>\n      <td>False</td>\n      <td>False</td>\n      <td>False</td>\n      <td>False</td>\n      <td>False</td>\n      <td>False</td>\n      <td>True</td>\n      <td>False</td>\n      <td>False</td>\n    </tr>\n    <tr>\n      <th>4</th>\n      <td>1</td>\n      <td>33.9787</td>\n      <td>-118.2918</td>\n      <td>1130.0</td>\n      <td>12.0</td>\n      <td>1245.0</td>\n      <td>1.0</td>\n      <td>0.0</td>\n      <td>401.0</td>\n      <td>400.0</td>\n      <td>...</td>\n      <td>False</td>\n      <td>False</td>\n      <td>False</td>\n      <td>True</td>\n      <td>False</td>\n      <td>False</td>\n      <td>False</td>\n      <td>True</td>\n      <td>False</td>\n      <td>False</td>\n    </tr>\n    <tr>\n      <th>...</th>\n      <td>...</td>\n      <td>...</td>\n      <td>...</td>\n      <td>...</td>\n      <td>...</td>\n      <td>...</td>\n      <td>...</td>\n      <td>...</td>\n      <td>...</td>\n      <td>...</td>\n      <td>...</td>\n      <td>...</td>\n      <td>...</td>\n      <td>...</td>\n      <td>...</td>\n      <td>...</td>\n      <td>...</td>\n      <td>...</td>\n      <td>...</td>\n      <td>...</td>\n      <td>...</td>\n    </tr>\n    <tr>\n      <th>19995</th>\n      <td>1</td>\n      <td>34.0334</td>\n      <td>-118.3523</td>\n      <td>700.0</td>\n      <td>3.0</td>\n      <td>303.0</td>\n      <td>2.0</td>\n      <td>51.0</td>\n      <td>501.0</td>\n      <td>400.0</td>\n      <td>...</td>\n      <td>False</td>\n      <td>False</td>\n      <td>False</td>\n      <td>False</td>\n      <td>False</td>\n      <td>False</td>\n      <td>False</td>\n      <td>True</td>\n      <td>False</td>\n      <td>False</td>\n    </tr>\n    <tr>\n      <th>19996</th>\n      <td>3</td>\n      <td>34.2212</td>\n      <td>-118.5011</td>\n      <td>259.0</td>\n      <td>10.0</td>\n      <td>1008.0</td>\n      <td>1.0</td>\n      <td>0.0</td>\n      <td>301.0</td>\n      <td>400.0</td>\n      <td>...</td>\n      <td>False</td>\n      <td>False</td>\n      <td>True</td>\n      <td>False</td>\n      <td>False</td>\n      <td>False</td>\n      <td>False</td>\n      <td>True</td>\n      <td>False</td>\n      <td>False</td>\n    </tr>\n    <tr>\n      <th>19997</th>\n      <td>3</td>\n      <td>34.0571</td>\n      <td>-118.3815</td>\n      <td>1400.0</td>\n      <td>8.0</td>\n      <td>849.0</td>\n      <td>1.0</td>\n      <td>42.0</td>\n      <td>102.0</td>\n      <td>400.0</td>\n      <td>...</td>\n      <td>False</td>\n      <td>False</td>\n      <td>False</td>\n      <td>False</td>\n      <td>False</td>\n      <td>False</td>\n      <td>False</td>\n      <td>True</td>\n      <td>False</td>\n      <td>False</td>\n    </tr>\n    <tr>\n      <th>19998</th>\n      <td>2</td>\n      <td>33.7451</td>\n      <td>-118.2835</td>\n      <td>600.0</td>\n      <td>5.0</td>\n      <td>558.0</td>\n      <td>2.0</td>\n      <td>76.0</td>\n      <td>501.0</td>\n      <td>400.0</td>\n      <td>...</td>\n      <td>False</td>\n      <td>False</td>\n      <td>False</td>\n      <td>False</td>\n      <td>False</td>\n      <td>False</td>\n      <td>False</td>\n      <td>True</td>\n      <td>False</td>\n      <td>False</td>\n    </tr>\n    <tr>\n      <th>19999</th>\n      <td>1</td>\n      <td>34.0037</td>\n      <td>-118.3034</td>\n      <td>1800.0</td>\n      <td>3.0</td>\n      <td>397.0</td>\n      <td>1.0</td>\n      <td>0.0</td>\n      <td>101.0</td>\n      <td>400.0</td>\n      <td>...</td>\n      <td>False</td>\n      <td>False</td>\n      <td>False</td>\n      <td>False</td>\n      <td>False</td>\n      <td>False</td>\n      <td>False</td>\n      <td>True</td>\n      <td>False</td>\n      <td>False</td>\n    </tr>\n  </tbody>\n</table>\n<p>20000 rows × 524 columns</p>\n</div>"
          },
          "metadata": {}
        }
      ]
    },
    {
      "cell_type": "code",
      "source": [
        "traindf.replace({True:1,False:0},inplace=True)"
      ],
      "metadata": {
        "execution": {
          "iopub.status.busy": "2024-07-30T18:59:56.349024Z",
          "iopub.execute_input": "2024-07-30T18:59:56.349394Z",
          "iopub.status.idle": "2024-07-30T18:59:56.825508Z",
          "shell.execute_reply.started": "2024-07-30T18:59:56.349364Z",
          "shell.execute_reply": "2024-07-30T18:59:56.824436Z"
        },
        "trusted": true,
        "id": "x3ZVQxONcaQ3",
        "outputId": "e998e4e3-848a-403b-a1c7-1ad90e01aa87"
      },
      "execution_count": null,
      "outputs": [
        {
          "name": "stderr",
          "text": "/tmp/ipykernel_91/2061394491.py:1: FutureWarning: Downcasting behavior in `replace` is deprecated and will be removed in a future version. To retain the old behavior, explicitly call `result.infer_objects(copy=False)`. To opt-in to the future behavior, set `pd.set_option('future.no_silent_downcasting', True)`\n  traindf.replace({True:1,False:0},inplace=True)\n",
          "output_type": "stream"
        }
      ]
    },
    {
      "cell_type": "code",
      "source": [
        "traindf"
      ],
      "metadata": {
        "execution": {
          "iopub.status.busy": "2024-07-30T18:59:56.827112Z",
          "iopub.execute_input": "2024-07-30T18:59:56.82758Z",
          "iopub.status.idle": "2024-07-30T18:59:56.866628Z",
          "shell.execute_reply.started": "2024-07-30T18:59:56.82754Z",
          "shell.execute_reply": "2024-07-30T18:59:56.865391Z"
        },
        "trusted": true,
        "id": "rGD7sQH0caQ3",
        "outputId": "89a6edb1-2f92-4078-d236-05669b0db326"
      },
      "execution_count": null,
      "outputs": [
        {
          "execution_count": 23,
          "output_type": "execute_result",
          "data": {
            "text/plain": "       Location  Latitude  Longitude  Time_Occurred  Area_ID  \\\n0             1   34.1522  -118.3910         1800.0     15.0   \n1             2   34.0028  -118.2391         1345.0     13.0   \n2             3   34.0111  -118.2653          605.0     13.0   \n3             1   34.2953  -118.4590         1800.0     19.0   \n4             1   33.9787  -118.2918         1130.0     12.0   \n...         ...       ...        ...            ...      ...   \n19995         1   34.0334  -118.3523          700.0      3.0   \n19996         3   34.2212  -118.5011          259.0     10.0   \n19997         3   34.0571  -118.3815         1400.0      8.0   \n19998         2   33.7451  -118.2835          600.0      5.0   \n19999         1   34.0037  -118.3034         1800.0      3.0   \n\n       Reporting_District_no  Part 1-2  Victim_Age  Premise_Code  \\\n0                     1563.0       1.0        75.0         101.0   \n1                     1367.0       1.0        41.0         216.0   \n2                     1343.0       2.0        67.0         501.0   \n3                     1924.0       1.0        61.0         101.0   \n4                     1245.0       1.0         0.0         401.0   \n...                      ...       ...         ...           ...   \n19995                  303.0       2.0        51.0         501.0   \n19996                 1008.0       1.0         0.0         301.0   \n19997                  849.0       1.0        42.0         102.0   \n19998                  558.0       2.0        76.0         501.0   \n19999                  397.0       1.0         0.0         101.0   \n\n       Weapon_Used_Code  ... Victim_Descent_U  Victim_Descent_V  \\\n0                 400.0  ...                0                 0   \n1                 400.0  ...                0                 0   \n2                 400.0  ...                0                 0   \n3                 400.0  ...                0                 0   \n4                 400.0  ...                0                 0   \n...                 ...  ...              ...               ...   \n19995             400.0  ...                0                 0   \n19996             400.0  ...                0                 0   \n19997             400.0  ...                0                 0   \n19998             400.0  ...                0                 0   \n19999             400.0  ...                0                 0   \n\n       Victim_Descent_W  Victim_Descent_X  Victim_Descent_Z  Status_AA  \\\n0                     1                 0                 0          0   \n1                     0                 0                 0          0   \n2                     0                 0                 0          0   \n3                     0                 0                 0          0   \n4                     0                 1                 0          0   \n...                 ...               ...               ...        ...   \n19995                 0                 0                 0          0   \n19996                 1                 0                 0          0   \n19997                 0                 0                 0          0   \n19998                 0                 0                 0          0   \n19999                 0                 0                 0          0   \n\n       Status_AO  Status_IC  Status_JA  Status_JO  \n0              0          1          0          0  \n1              0          1          0          0  \n2              0          1          0          0  \n3              0          1          0          0  \n4              0          1          0          0  \n...          ...        ...        ...        ...  \n19995          0          1          0          0  \n19996          0          1          0          0  \n19997          0          1          0          0  \n19998          0          1          0          0  \n19999          0          1          0          0  \n\n[20000 rows x 524 columns]",
            "text/html": "<div>\n<style scoped>\n    .dataframe tbody tr th:only-of-type {\n        vertical-align: middle;\n    }\n\n    .dataframe tbody tr th {\n        vertical-align: top;\n    }\n\n    .dataframe thead th {\n        text-align: right;\n    }\n</style>\n<table border=\"1\" class=\"dataframe\">\n  <thead>\n    <tr style=\"text-align: right;\">\n      <th></th>\n      <th>Location</th>\n      <th>Latitude</th>\n      <th>Longitude</th>\n      <th>Time_Occurred</th>\n      <th>Area_ID</th>\n      <th>Reporting_District_no</th>\n      <th>Part 1-2</th>\n      <th>Victim_Age</th>\n      <th>Premise_Code</th>\n      <th>Weapon_Used_Code</th>\n      <th>...</th>\n      <th>Victim_Descent_U</th>\n      <th>Victim_Descent_V</th>\n      <th>Victim_Descent_W</th>\n      <th>Victim_Descent_X</th>\n      <th>Victim_Descent_Z</th>\n      <th>Status_AA</th>\n      <th>Status_AO</th>\n      <th>Status_IC</th>\n      <th>Status_JA</th>\n      <th>Status_JO</th>\n    </tr>\n  </thead>\n  <tbody>\n    <tr>\n      <th>0</th>\n      <td>1</td>\n      <td>34.1522</td>\n      <td>-118.3910</td>\n      <td>1800.0</td>\n      <td>15.0</td>\n      <td>1563.0</td>\n      <td>1.0</td>\n      <td>75.0</td>\n      <td>101.0</td>\n      <td>400.0</td>\n      <td>...</td>\n      <td>0</td>\n      <td>0</td>\n      <td>1</td>\n      <td>0</td>\n      <td>0</td>\n      <td>0</td>\n      <td>0</td>\n      <td>1</td>\n      <td>0</td>\n      <td>0</td>\n    </tr>\n    <tr>\n      <th>1</th>\n      <td>2</td>\n      <td>34.0028</td>\n      <td>-118.2391</td>\n      <td>1345.0</td>\n      <td>13.0</td>\n      <td>1367.0</td>\n      <td>1.0</td>\n      <td>41.0</td>\n      <td>216.0</td>\n      <td>400.0</td>\n      <td>...</td>\n      <td>0</td>\n      <td>0</td>\n      <td>0</td>\n      <td>0</td>\n      <td>0</td>\n      <td>0</td>\n      <td>0</td>\n      <td>1</td>\n      <td>0</td>\n      <td>0</td>\n    </tr>\n    <tr>\n      <th>2</th>\n      <td>3</td>\n      <td>34.0111</td>\n      <td>-118.2653</td>\n      <td>605.0</td>\n      <td>13.0</td>\n      <td>1343.0</td>\n      <td>2.0</td>\n      <td>67.0</td>\n      <td>501.0</td>\n      <td>400.0</td>\n      <td>...</td>\n      <td>0</td>\n      <td>0</td>\n      <td>0</td>\n      <td>0</td>\n      <td>0</td>\n      <td>0</td>\n      <td>0</td>\n      <td>1</td>\n      <td>0</td>\n      <td>0</td>\n    </tr>\n    <tr>\n      <th>3</th>\n      <td>1</td>\n      <td>34.2953</td>\n      <td>-118.4590</td>\n      <td>1800.0</td>\n      <td>19.0</td>\n      <td>1924.0</td>\n      <td>1.0</td>\n      <td>61.0</td>\n      <td>101.0</td>\n      <td>400.0</td>\n      <td>...</td>\n      <td>0</td>\n      <td>0</td>\n      <td>0</td>\n      <td>0</td>\n      <td>0</td>\n      <td>0</td>\n      <td>0</td>\n      <td>1</td>\n      <td>0</td>\n      <td>0</td>\n    </tr>\n    <tr>\n      <th>4</th>\n      <td>1</td>\n      <td>33.9787</td>\n      <td>-118.2918</td>\n      <td>1130.0</td>\n      <td>12.0</td>\n      <td>1245.0</td>\n      <td>1.0</td>\n      <td>0.0</td>\n      <td>401.0</td>\n      <td>400.0</td>\n      <td>...</td>\n      <td>0</td>\n      <td>0</td>\n      <td>0</td>\n      <td>1</td>\n      <td>0</td>\n      <td>0</td>\n      <td>0</td>\n      <td>1</td>\n      <td>0</td>\n      <td>0</td>\n    </tr>\n    <tr>\n      <th>...</th>\n      <td>...</td>\n      <td>...</td>\n      <td>...</td>\n      <td>...</td>\n      <td>...</td>\n      <td>...</td>\n      <td>...</td>\n      <td>...</td>\n      <td>...</td>\n      <td>...</td>\n      <td>...</td>\n      <td>...</td>\n      <td>...</td>\n      <td>...</td>\n      <td>...</td>\n      <td>...</td>\n      <td>...</td>\n      <td>...</td>\n      <td>...</td>\n      <td>...</td>\n      <td>...</td>\n    </tr>\n    <tr>\n      <th>19995</th>\n      <td>1</td>\n      <td>34.0334</td>\n      <td>-118.3523</td>\n      <td>700.0</td>\n      <td>3.0</td>\n      <td>303.0</td>\n      <td>2.0</td>\n      <td>51.0</td>\n      <td>501.0</td>\n      <td>400.0</td>\n      <td>...</td>\n      <td>0</td>\n      <td>0</td>\n      <td>0</td>\n      <td>0</td>\n      <td>0</td>\n      <td>0</td>\n      <td>0</td>\n      <td>1</td>\n      <td>0</td>\n      <td>0</td>\n    </tr>\n    <tr>\n      <th>19996</th>\n      <td>3</td>\n      <td>34.2212</td>\n      <td>-118.5011</td>\n      <td>259.0</td>\n      <td>10.0</td>\n      <td>1008.0</td>\n      <td>1.0</td>\n      <td>0.0</td>\n      <td>301.0</td>\n      <td>400.0</td>\n      <td>...</td>\n      <td>0</td>\n      <td>0</td>\n      <td>1</td>\n      <td>0</td>\n      <td>0</td>\n      <td>0</td>\n      <td>0</td>\n      <td>1</td>\n      <td>0</td>\n      <td>0</td>\n    </tr>\n    <tr>\n      <th>19997</th>\n      <td>3</td>\n      <td>34.0571</td>\n      <td>-118.3815</td>\n      <td>1400.0</td>\n      <td>8.0</td>\n      <td>849.0</td>\n      <td>1.0</td>\n      <td>42.0</td>\n      <td>102.0</td>\n      <td>400.0</td>\n      <td>...</td>\n      <td>0</td>\n      <td>0</td>\n      <td>0</td>\n      <td>0</td>\n      <td>0</td>\n      <td>0</td>\n      <td>0</td>\n      <td>1</td>\n      <td>0</td>\n      <td>0</td>\n    </tr>\n    <tr>\n      <th>19998</th>\n      <td>2</td>\n      <td>33.7451</td>\n      <td>-118.2835</td>\n      <td>600.0</td>\n      <td>5.0</td>\n      <td>558.0</td>\n      <td>2.0</td>\n      <td>76.0</td>\n      <td>501.0</td>\n      <td>400.0</td>\n      <td>...</td>\n      <td>0</td>\n      <td>0</td>\n      <td>0</td>\n      <td>0</td>\n      <td>0</td>\n      <td>0</td>\n      <td>0</td>\n      <td>1</td>\n      <td>0</td>\n      <td>0</td>\n    </tr>\n    <tr>\n      <th>19999</th>\n      <td>1</td>\n      <td>34.0037</td>\n      <td>-118.3034</td>\n      <td>1800.0</td>\n      <td>3.0</td>\n      <td>397.0</td>\n      <td>1.0</td>\n      <td>0.0</td>\n      <td>101.0</td>\n      <td>400.0</td>\n      <td>...</td>\n      <td>0</td>\n      <td>0</td>\n      <td>0</td>\n      <td>0</td>\n      <td>0</td>\n      <td>0</td>\n      <td>0</td>\n      <td>1</td>\n      <td>0</td>\n      <td>0</td>\n    </tr>\n  </tbody>\n</table>\n<p>20000 rows × 524 columns</p>\n</div>"
          },
          "metadata": {}
        }
      ]
    },
    {
      "cell_type": "code",
      "source": [
        "#Standard Scaling apt columns\n",
        "from sklearn.preprocessing import StandardScaler\n",
        "ss=StandardScaler()\n",
        "traindf[[\"Location\",\"Latitude\",\"Longitude\",\"Time_Occurred\",\"Victim_Age\"]]=ss.fit_transform(traindf[[\"Location\",\"Latitude\",\"Longitude\",\"Time_Occurred\",\"Victim_Age\"]])\n",
        "traindf"
      ],
      "metadata": {
        "execution": {
          "iopub.status.busy": "2024-07-30T18:59:56.86804Z",
          "iopub.execute_input": "2024-07-30T18:59:56.868374Z",
          "iopub.status.idle": "2024-07-30T18:59:56.917248Z",
          "shell.execute_reply.started": "2024-07-30T18:59:56.868349Z",
          "shell.execute_reply": "2024-07-30T18:59:56.915973Z"
        },
        "trusted": true,
        "id": "GgE8lS2hcaQ3",
        "outputId": "3177b456-feaf-4bce-e607-f00b78757ea8"
      },
      "execution_count": null,
      "outputs": [
        {
          "execution_count": 24,
          "output_type": "execute_result",
          "data": {
            "text/plain": "       Location  Latitude  Longitude  Time_Occurred  Area_ID  \\\n0     -0.504592  0.099445  -0.067492       0.692819     15.0   \n1     -0.289102  0.029197  -0.046903      -0.011423     13.0   \n2     -0.073611  0.033100  -0.050454      -1.156785     13.0   \n3     -0.504592  0.166731  -0.076710       0.692819     19.0   \n4     -0.504592  0.017866  -0.054046      -0.344197     12.0   \n...         ...       ...        ...            ...      ...   \n19995 -0.504592  0.043585  -0.062247      -1.009745      3.0   \n19996 -0.073611  0.131889  -0.082416      -1.692319     10.0   \n19997 -0.073611  0.054729  -0.066205       0.073705      8.0   \n19998 -0.289102 -0.091973  -0.052921      -1.164524      5.0   \n19999 -0.504592  0.029621  -0.055618       0.692819      3.0   \n\n       Reporting_District_no  Part 1-2  Victim_Age  Premise_Code  \\\n0                     1563.0       1.0    2.052088         101.0   \n1                     1367.0       1.0    0.496956         216.0   \n2                     1343.0       2.0    1.686175         501.0   \n3                     1924.0       1.0    1.411740         101.0   \n4                     1245.0       1.0   -1.378350         401.0   \n...                      ...       ...         ...           ...   \n19995                  303.0       2.0    0.954348         501.0   \n19996                 1008.0       1.0   -1.378350         301.0   \n19997                  849.0       1.0    0.542695         102.0   \n19998                  558.0       2.0    2.097827         501.0   \n19999                  397.0       1.0   -1.378350         101.0   \n\n       Weapon_Used_Code  ... Victim_Descent_U  Victim_Descent_V  \\\n0                 400.0  ...                0                 0   \n1                 400.0  ...                0                 0   \n2                 400.0  ...                0                 0   \n3                 400.0  ...                0                 0   \n4                 400.0  ...                0                 0   \n...                 ...  ...              ...               ...   \n19995             400.0  ...                0                 0   \n19996             400.0  ...                0                 0   \n19997             400.0  ...                0                 0   \n19998             400.0  ...                0                 0   \n19999             400.0  ...                0                 0   \n\n       Victim_Descent_W  Victim_Descent_X  Victim_Descent_Z  Status_AA  \\\n0                     1                 0                 0          0   \n1                     0                 0                 0          0   \n2                     0                 0                 0          0   \n3                     0                 0                 0          0   \n4                     0                 1                 0          0   \n...                 ...               ...               ...        ...   \n19995                 0                 0                 0          0   \n19996                 1                 0                 0          0   \n19997                 0                 0                 0          0   \n19998                 0                 0                 0          0   \n19999                 0                 0                 0          0   \n\n       Status_AO  Status_IC  Status_JA  Status_JO  \n0              0          1          0          0  \n1              0          1          0          0  \n2              0          1          0          0  \n3              0          1          0          0  \n4              0          1          0          0  \n...          ...        ...        ...        ...  \n19995          0          1          0          0  \n19996          0          1          0          0  \n19997          0          1          0          0  \n19998          0          1          0          0  \n19999          0          1          0          0  \n\n[20000 rows x 524 columns]",
            "text/html": "<div>\n<style scoped>\n    .dataframe tbody tr th:only-of-type {\n        vertical-align: middle;\n    }\n\n    .dataframe tbody tr th {\n        vertical-align: top;\n    }\n\n    .dataframe thead th {\n        text-align: right;\n    }\n</style>\n<table border=\"1\" class=\"dataframe\">\n  <thead>\n    <tr style=\"text-align: right;\">\n      <th></th>\n      <th>Location</th>\n      <th>Latitude</th>\n      <th>Longitude</th>\n      <th>Time_Occurred</th>\n      <th>Area_ID</th>\n      <th>Reporting_District_no</th>\n      <th>Part 1-2</th>\n      <th>Victim_Age</th>\n      <th>Premise_Code</th>\n      <th>Weapon_Used_Code</th>\n      <th>...</th>\n      <th>Victim_Descent_U</th>\n      <th>Victim_Descent_V</th>\n      <th>Victim_Descent_W</th>\n      <th>Victim_Descent_X</th>\n      <th>Victim_Descent_Z</th>\n      <th>Status_AA</th>\n      <th>Status_AO</th>\n      <th>Status_IC</th>\n      <th>Status_JA</th>\n      <th>Status_JO</th>\n    </tr>\n  </thead>\n  <tbody>\n    <tr>\n      <th>0</th>\n      <td>-0.504592</td>\n      <td>0.099445</td>\n      <td>-0.067492</td>\n      <td>0.692819</td>\n      <td>15.0</td>\n      <td>1563.0</td>\n      <td>1.0</td>\n      <td>2.052088</td>\n      <td>101.0</td>\n      <td>400.0</td>\n      <td>...</td>\n      <td>0</td>\n      <td>0</td>\n      <td>1</td>\n      <td>0</td>\n      <td>0</td>\n      <td>0</td>\n      <td>0</td>\n      <td>1</td>\n      <td>0</td>\n      <td>0</td>\n    </tr>\n    <tr>\n      <th>1</th>\n      <td>-0.289102</td>\n      <td>0.029197</td>\n      <td>-0.046903</td>\n      <td>-0.011423</td>\n      <td>13.0</td>\n      <td>1367.0</td>\n      <td>1.0</td>\n      <td>0.496956</td>\n      <td>216.0</td>\n      <td>400.0</td>\n      <td>...</td>\n      <td>0</td>\n      <td>0</td>\n      <td>0</td>\n      <td>0</td>\n      <td>0</td>\n      <td>0</td>\n      <td>0</td>\n      <td>1</td>\n      <td>0</td>\n      <td>0</td>\n    </tr>\n    <tr>\n      <th>2</th>\n      <td>-0.073611</td>\n      <td>0.033100</td>\n      <td>-0.050454</td>\n      <td>-1.156785</td>\n      <td>13.0</td>\n      <td>1343.0</td>\n      <td>2.0</td>\n      <td>1.686175</td>\n      <td>501.0</td>\n      <td>400.0</td>\n      <td>...</td>\n      <td>0</td>\n      <td>0</td>\n      <td>0</td>\n      <td>0</td>\n      <td>0</td>\n      <td>0</td>\n      <td>0</td>\n      <td>1</td>\n      <td>0</td>\n      <td>0</td>\n    </tr>\n    <tr>\n      <th>3</th>\n      <td>-0.504592</td>\n      <td>0.166731</td>\n      <td>-0.076710</td>\n      <td>0.692819</td>\n      <td>19.0</td>\n      <td>1924.0</td>\n      <td>1.0</td>\n      <td>1.411740</td>\n      <td>101.0</td>\n      <td>400.0</td>\n      <td>...</td>\n      <td>0</td>\n      <td>0</td>\n      <td>0</td>\n      <td>0</td>\n      <td>0</td>\n      <td>0</td>\n      <td>0</td>\n      <td>1</td>\n      <td>0</td>\n      <td>0</td>\n    </tr>\n    <tr>\n      <th>4</th>\n      <td>-0.504592</td>\n      <td>0.017866</td>\n      <td>-0.054046</td>\n      <td>-0.344197</td>\n      <td>12.0</td>\n      <td>1245.0</td>\n      <td>1.0</td>\n      <td>-1.378350</td>\n      <td>401.0</td>\n      <td>400.0</td>\n      <td>...</td>\n      <td>0</td>\n      <td>0</td>\n      <td>0</td>\n      <td>1</td>\n      <td>0</td>\n      <td>0</td>\n      <td>0</td>\n      <td>1</td>\n      <td>0</td>\n      <td>0</td>\n    </tr>\n    <tr>\n      <th>...</th>\n      <td>...</td>\n      <td>...</td>\n      <td>...</td>\n      <td>...</td>\n      <td>...</td>\n      <td>...</td>\n      <td>...</td>\n      <td>...</td>\n      <td>...</td>\n      <td>...</td>\n      <td>...</td>\n      <td>...</td>\n      <td>...</td>\n      <td>...</td>\n      <td>...</td>\n      <td>...</td>\n      <td>...</td>\n      <td>...</td>\n      <td>...</td>\n      <td>...</td>\n      <td>...</td>\n    </tr>\n    <tr>\n      <th>19995</th>\n      <td>-0.504592</td>\n      <td>0.043585</td>\n      <td>-0.062247</td>\n      <td>-1.009745</td>\n      <td>3.0</td>\n      <td>303.0</td>\n      <td>2.0</td>\n      <td>0.954348</td>\n      <td>501.0</td>\n      <td>400.0</td>\n      <td>...</td>\n      <td>0</td>\n      <td>0</td>\n      <td>0</td>\n      <td>0</td>\n      <td>0</td>\n      <td>0</td>\n      <td>0</td>\n      <td>1</td>\n      <td>0</td>\n      <td>0</td>\n    </tr>\n    <tr>\n      <th>19996</th>\n      <td>-0.073611</td>\n      <td>0.131889</td>\n      <td>-0.082416</td>\n      <td>-1.692319</td>\n      <td>10.0</td>\n      <td>1008.0</td>\n      <td>1.0</td>\n      <td>-1.378350</td>\n      <td>301.0</td>\n      <td>400.0</td>\n      <td>...</td>\n      <td>0</td>\n      <td>0</td>\n      <td>1</td>\n      <td>0</td>\n      <td>0</td>\n      <td>0</td>\n      <td>0</td>\n      <td>1</td>\n      <td>0</td>\n      <td>0</td>\n    </tr>\n    <tr>\n      <th>19997</th>\n      <td>-0.073611</td>\n      <td>0.054729</td>\n      <td>-0.066205</td>\n      <td>0.073705</td>\n      <td>8.0</td>\n      <td>849.0</td>\n      <td>1.0</td>\n      <td>0.542695</td>\n      <td>102.0</td>\n      <td>400.0</td>\n      <td>...</td>\n      <td>0</td>\n      <td>0</td>\n      <td>0</td>\n      <td>0</td>\n      <td>0</td>\n      <td>0</td>\n      <td>0</td>\n      <td>1</td>\n      <td>0</td>\n      <td>0</td>\n    </tr>\n    <tr>\n      <th>19998</th>\n      <td>-0.289102</td>\n      <td>-0.091973</td>\n      <td>-0.052921</td>\n      <td>-1.164524</td>\n      <td>5.0</td>\n      <td>558.0</td>\n      <td>2.0</td>\n      <td>2.097827</td>\n      <td>501.0</td>\n      <td>400.0</td>\n      <td>...</td>\n      <td>0</td>\n      <td>0</td>\n      <td>0</td>\n      <td>0</td>\n      <td>0</td>\n      <td>0</td>\n      <td>0</td>\n      <td>1</td>\n      <td>0</td>\n      <td>0</td>\n    </tr>\n    <tr>\n      <th>19999</th>\n      <td>-0.504592</td>\n      <td>0.029621</td>\n      <td>-0.055618</td>\n      <td>0.692819</td>\n      <td>3.0</td>\n      <td>397.0</td>\n      <td>1.0</td>\n      <td>-1.378350</td>\n      <td>101.0</td>\n      <td>400.0</td>\n      <td>...</td>\n      <td>0</td>\n      <td>0</td>\n      <td>0</td>\n      <td>0</td>\n      <td>0</td>\n      <td>0</td>\n      <td>0</td>\n      <td>1</td>\n      <td>0</td>\n      <td>0</td>\n    </tr>\n  </tbody>\n</table>\n<p>20000 rows × 524 columns</p>\n</div>"
          },
          "metadata": {}
        }
      ]
    },
    {
      "cell_type": "markdown",
      "source": [
        "#### Now as all the preprocessing steps of traindf is done we shall do the same for testdf"
      ],
      "metadata": {
        "id": "GsvHGt01caQ4"
      }
    },
    {
      "cell_type": "code",
      "source": [
        "testdf=pd.read_csv(\"/kaggle/input/crime-cast-forecasting-crime-categories/test.csv\")\n",
        "testdf"
      ],
      "metadata": {
        "execution": {
          "iopub.status.busy": "2024-07-30T18:59:56.91898Z",
          "iopub.execute_input": "2024-07-30T18:59:56.919944Z",
          "iopub.status.idle": "2024-07-30T18:59:57.009161Z",
          "shell.execute_reply.started": "2024-07-30T18:59:56.9199Z",
          "shell.execute_reply": "2024-07-30T18:59:57.00756Z"
        },
        "trusted": true,
        "id": "ZMMb4hIlcaQ4",
        "outputId": "e303ddaf-64b4-450f-e46b-d487de4892fe"
      },
      "execution_count": null,
      "outputs": [
        {
          "execution_count": 25,
          "output_type": "execute_result",
          "data": {
            "text/plain": "                                      Location  \\\n0      1500    LEIGHTON                     AV   \n1       100 S  NORMANDIE                    AV   \n2       300 E  111TH                        ST   \n3      1300 S  LA BREA                      AV   \n4     11000    MORRISON                     ST   \n...                                        ...   \n4995   4600    MASCOT                       ST   \n4996   2200 E  7TH                          ST   \n4997           LANGDON                      AV   \n4998    400 E  5TH                          ST   \n4999  10100 S  SAN PEDRO                    ST   \n\n                         Cross_Street  Latitude  Longitude  \\\n0                                 NaN   34.0128  -118.3045   \n1                                 NaN   34.0726  -118.3029   \n2                                 NaN   33.9348  -118.2695   \n3                                 NaN   34.0497  -118.3442   \n4                                 NaN   34.1611  -118.3704   \n...                               ...       ...        ...   \n4995                              NaN   34.0409  -118.3408   \n4996                              NaN   34.0347  -118.2253   \n4997  TUPPER                       ST   34.2392  -118.4698   \n4998                              NaN   34.0453  -118.2443   \n4999                              NaN   33.9438  -118.2695   \n\n               Date_Reported           Date_Occurred  Time_Occurred  Area_ID  \\\n0     03/03/2020 12:00:00 AM  03/03/2020 12:00:00 AM         2000.0      3.0   \n1     06/01/2020 12:00:00 AM  04/25/2020 12:00:00 AM         1700.0     20.0   \n2     08/28/2020 12:00:00 AM  08/27/2020 12:00:00 AM          900.0     18.0   \n3     12/23/2020 12:00:00 AM  12/03/2020 12:00:00 AM         2200.0      7.0   \n4     08/30/2020 12:00:00 AM  08/29/2020 12:00:00 AM          130.0     15.0   \n...                      ...                     ...            ...      ...   \n4995  06/05/2020 12:00:00 AM  06/04/2020 12:00:00 AM         2100.0      7.0   \n4996  12/02/2020 12:00:00 AM  11/25/2020 12:00:00 AM         1530.0      4.0   \n4997  11/21/2020 12:00:00 AM  11/21/2020 12:00:00 AM         2100.0     19.0   \n4998  03/01/2020 12:00:00 AM  02/29/2020 12:00:00 AM         2335.0      1.0   \n4999  10/09/2020 12:00:00 AM  10/09/2020 12:00:00 AM          320.0     18.0   \n\n        Area_Name  Reporting_District_no  ...                 Modus_Operandi  \\\n0       Southwest                  376.0  ...  0416 1241 1243 1813 1821 2000   \n1         Olympic                 2014.0  ...                      0344 0394   \n2       Southeast                 1844.0  ...  1822 0701 1914 0355 1202 0100   \n3        Wilshire                  765.0  ...                            NaN   \n4     N Hollywood                 1555.0  ...                           1501   \n...           ...                    ...  ...                            ...   \n4995     Wilshire                  775.0  ...                            NaN   \n4996   Hollenbeck                  471.0  ...                      1300 0325   \n4997      Mission                 1961.0  ...                 0913 1817 0416   \n4998      Central                  147.0  ...                           0416   \n4999    Southeast                 1823.0  ...                      1822 0329   \n\n     Victim_Age  Victim_Sex Victim_Descent Premise_Code  \\\n0          28.0           F              H        501.0   \n1          26.0           M              B        502.0   \n2          62.0           F              B        721.0   \n3           0.0         NaN            NaN        108.0   \n4          37.0           F              W        501.0   \n...         ...         ...            ...          ...   \n4995        0.0         NaN            NaN        101.0   \n4996        0.0           X              X        116.0   \n4997       38.0           M              H        101.0   \n4998       41.0           M              B        502.0   \n4999       49.0           M              B        122.0   \n\n                               Premise_Description Weapon_Used_Code  \\\n0                           SINGLE FAMILY DWELLING            400.0   \n1     MULTI-UNIT DWELLING (APARTMENT, DUPLEX, ETC)              NaN   \n2                                      HIGH SCHOOL              NaN   \n3                                      PARKING LOT              NaN   \n4                           SINGLE FAMILY DWELLING              NaN   \n...                                            ...              ...   \n4995                                        STREET              NaN   \n4996                                 OTHER/OUTSIDE              NaN   \n4997                                        STREET            400.0   \n4998  MULTI-UNIT DWELLING (APARTMENT, DUPLEX, ETC)            500.0   \n4999                      VEHICLE, PASSENGER/TRUCK              NaN   \n\n                                  Weapon_Description Status Status_Description  \n0     STRONG-ARM (HANDS, FIST, FEET OR BODILY FORCE)     IC        Invest Cont  \n1                                                NaN     IC        Invest Cont  \n2                                                NaN     IC        Invest Cont  \n3                                                NaN     IC        Invest Cont  \n4                                                NaN     AO        Adult Other  \n...                                              ...    ...                ...  \n4995                                             NaN     IC        Invest Cont  \n4996                                             NaN     IC        Invest Cont  \n4997  STRONG-ARM (HANDS, FIST, FEET OR BODILY FORCE)     AA       Adult Arrest  \n4998                     UNKNOWN WEAPON/OTHER WEAPON     AO        Adult Other  \n4999                                             NaN     IC        Invest Cont  \n\n[5000 rows x 21 columns]",
            "text/html": "<div>\n<style scoped>\n    .dataframe tbody tr th:only-of-type {\n        vertical-align: middle;\n    }\n\n    .dataframe tbody tr th {\n        vertical-align: top;\n    }\n\n    .dataframe thead th {\n        text-align: right;\n    }\n</style>\n<table border=\"1\" class=\"dataframe\">\n  <thead>\n    <tr style=\"text-align: right;\">\n      <th></th>\n      <th>Location</th>\n      <th>Cross_Street</th>\n      <th>Latitude</th>\n      <th>Longitude</th>\n      <th>Date_Reported</th>\n      <th>Date_Occurred</th>\n      <th>Time_Occurred</th>\n      <th>Area_ID</th>\n      <th>Area_Name</th>\n      <th>Reporting_District_no</th>\n      <th>...</th>\n      <th>Modus_Operandi</th>\n      <th>Victim_Age</th>\n      <th>Victim_Sex</th>\n      <th>Victim_Descent</th>\n      <th>Premise_Code</th>\n      <th>Premise_Description</th>\n      <th>Weapon_Used_Code</th>\n      <th>Weapon_Description</th>\n      <th>Status</th>\n      <th>Status_Description</th>\n    </tr>\n  </thead>\n  <tbody>\n    <tr>\n      <th>0</th>\n      <td>1500    LEIGHTON                     AV</td>\n      <td>NaN</td>\n      <td>34.0128</td>\n      <td>-118.3045</td>\n      <td>03/03/2020 12:00:00 AM</td>\n      <td>03/03/2020 12:00:00 AM</td>\n      <td>2000.0</td>\n      <td>3.0</td>\n      <td>Southwest</td>\n      <td>376.0</td>\n      <td>...</td>\n      <td>0416 1241 1243 1813 1821 2000</td>\n      <td>28.0</td>\n      <td>F</td>\n      <td>H</td>\n      <td>501.0</td>\n      <td>SINGLE FAMILY DWELLING</td>\n      <td>400.0</td>\n      <td>STRONG-ARM (HANDS, FIST, FEET OR BODILY FORCE)</td>\n      <td>IC</td>\n      <td>Invest Cont</td>\n    </tr>\n    <tr>\n      <th>1</th>\n      <td>100 S  NORMANDIE                    AV</td>\n      <td>NaN</td>\n      <td>34.0726</td>\n      <td>-118.3029</td>\n      <td>06/01/2020 12:00:00 AM</td>\n      <td>04/25/2020 12:00:00 AM</td>\n      <td>1700.0</td>\n      <td>20.0</td>\n      <td>Olympic</td>\n      <td>2014.0</td>\n      <td>...</td>\n      <td>0344 0394</td>\n      <td>26.0</td>\n      <td>M</td>\n      <td>B</td>\n      <td>502.0</td>\n      <td>MULTI-UNIT DWELLING (APARTMENT, DUPLEX, ETC)</td>\n      <td>NaN</td>\n      <td>NaN</td>\n      <td>IC</td>\n      <td>Invest Cont</td>\n    </tr>\n    <tr>\n      <th>2</th>\n      <td>300 E  111TH                        ST</td>\n      <td>NaN</td>\n      <td>33.9348</td>\n      <td>-118.2695</td>\n      <td>08/28/2020 12:00:00 AM</td>\n      <td>08/27/2020 12:00:00 AM</td>\n      <td>900.0</td>\n      <td>18.0</td>\n      <td>Southeast</td>\n      <td>1844.0</td>\n      <td>...</td>\n      <td>1822 0701 1914 0355 1202 0100</td>\n      <td>62.0</td>\n      <td>F</td>\n      <td>B</td>\n      <td>721.0</td>\n      <td>HIGH SCHOOL</td>\n      <td>NaN</td>\n      <td>NaN</td>\n      <td>IC</td>\n      <td>Invest Cont</td>\n    </tr>\n    <tr>\n      <th>3</th>\n      <td>1300 S  LA BREA                      AV</td>\n      <td>NaN</td>\n      <td>34.0497</td>\n      <td>-118.3442</td>\n      <td>12/23/2020 12:00:00 AM</td>\n      <td>12/03/2020 12:00:00 AM</td>\n      <td>2200.0</td>\n      <td>7.0</td>\n      <td>Wilshire</td>\n      <td>765.0</td>\n      <td>...</td>\n      <td>NaN</td>\n      <td>0.0</td>\n      <td>NaN</td>\n      <td>NaN</td>\n      <td>108.0</td>\n      <td>PARKING LOT</td>\n      <td>NaN</td>\n      <td>NaN</td>\n      <td>IC</td>\n      <td>Invest Cont</td>\n    </tr>\n    <tr>\n      <th>4</th>\n      <td>11000    MORRISON                     ST</td>\n      <td>NaN</td>\n      <td>34.1611</td>\n      <td>-118.3704</td>\n      <td>08/30/2020 12:00:00 AM</td>\n      <td>08/29/2020 12:00:00 AM</td>\n      <td>130.0</td>\n      <td>15.0</td>\n      <td>N Hollywood</td>\n      <td>1555.0</td>\n      <td>...</td>\n      <td>1501</td>\n      <td>37.0</td>\n      <td>F</td>\n      <td>W</td>\n      <td>501.0</td>\n      <td>SINGLE FAMILY DWELLING</td>\n      <td>NaN</td>\n      <td>NaN</td>\n      <td>AO</td>\n      <td>Adult Other</td>\n    </tr>\n    <tr>\n      <th>...</th>\n      <td>...</td>\n      <td>...</td>\n      <td>...</td>\n      <td>...</td>\n      <td>...</td>\n      <td>...</td>\n      <td>...</td>\n      <td>...</td>\n      <td>...</td>\n      <td>...</td>\n      <td>...</td>\n      <td>...</td>\n      <td>...</td>\n      <td>...</td>\n      <td>...</td>\n      <td>...</td>\n      <td>...</td>\n      <td>...</td>\n      <td>...</td>\n      <td>...</td>\n      <td>...</td>\n    </tr>\n    <tr>\n      <th>4995</th>\n      <td>4600    MASCOT                       ST</td>\n      <td>NaN</td>\n      <td>34.0409</td>\n      <td>-118.3408</td>\n      <td>06/05/2020 12:00:00 AM</td>\n      <td>06/04/2020 12:00:00 AM</td>\n      <td>2100.0</td>\n      <td>7.0</td>\n      <td>Wilshire</td>\n      <td>775.0</td>\n      <td>...</td>\n      <td>NaN</td>\n      <td>0.0</td>\n      <td>NaN</td>\n      <td>NaN</td>\n      <td>101.0</td>\n      <td>STREET</td>\n      <td>NaN</td>\n      <td>NaN</td>\n      <td>IC</td>\n      <td>Invest Cont</td>\n    </tr>\n    <tr>\n      <th>4996</th>\n      <td>2200 E  7TH                          ST</td>\n      <td>NaN</td>\n      <td>34.0347</td>\n      <td>-118.2253</td>\n      <td>12/02/2020 12:00:00 AM</td>\n      <td>11/25/2020 12:00:00 AM</td>\n      <td>1530.0</td>\n      <td>4.0</td>\n      <td>Hollenbeck</td>\n      <td>471.0</td>\n      <td>...</td>\n      <td>1300 0325</td>\n      <td>0.0</td>\n      <td>X</td>\n      <td>X</td>\n      <td>116.0</td>\n      <td>OTHER/OUTSIDE</td>\n      <td>NaN</td>\n      <td>NaN</td>\n      <td>IC</td>\n      <td>Invest Cont</td>\n    </tr>\n    <tr>\n      <th>4997</th>\n      <td>LANGDON                      AV</td>\n      <td>TUPPER                       ST</td>\n      <td>34.2392</td>\n      <td>-118.4698</td>\n      <td>11/21/2020 12:00:00 AM</td>\n      <td>11/21/2020 12:00:00 AM</td>\n      <td>2100.0</td>\n      <td>19.0</td>\n      <td>Mission</td>\n      <td>1961.0</td>\n      <td>...</td>\n      <td>0913 1817 0416</td>\n      <td>38.0</td>\n      <td>M</td>\n      <td>H</td>\n      <td>101.0</td>\n      <td>STREET</td>\n      <td>400.0</td>\n      <td>STRONG-ARM (HANDS, FIST, FEET OR BODILY FORCE)</td>\n      <td>AA</td>\n      <td>Adult Arrest</td>\n    </tr>\n    <tr>\n      <th>4998</th>\n      <td>400 E  5TH                          ST</td>\n      <td>NaN</td>\n      <td>34.0453</td>\n      <td>-118.2443</td>\n      <td>03/01/2020 12:00:00 AM</td>\n      <td>02/29/2020 12:00:00 AM</td>\n      <td>2335.0</td>\n      <td>1.0</td>\n      <td>Central</td>\n      <td>147.0</td>\n      <td>...</td>\n      <td>0416</td>\n      <td>41.0</td>\n      <td>M</td>\n      <td>B</td>\n      <td>502.0</td>\n      <td>MULTI-UNIT DWELLING (APARTMENT, DUPLEX, ETC)</td>\n      <td>500.0</td>\n      <td>UNKNOWN WEAPON/OTHER WEAPON</td>\n      <td>AO</td>\n      <td>Adult Other</td>\n    </tr>\n    <tr>\n      <th>4999</th>\n      <td>10100 S  SAN PEDRO                    ST</td>\n      <td>NaN</td>\n      <td>33.9438</td>\n      <td>-118.2695</td>\n      <td>10/09/2020 12:00:00 AM</td>\n      <td>10/09/2020 12:00:00 AM</td>\n      <td>320.0</td>\n      <td>18.0</td>\n      <td>Southeast</td>\n      <td>1823.0</td>\n      <td>...</td>\n      <td>1822 0329</td>\n      <td>49.0</td>\n      <td>M</td>\n      <td>B</td>\n      <td>122.0</td>\n      <td>VEHICLE, PASSENGER/TRUCK</td>\n      <td>NaN</td>\n      <td>NaN</td>\n      <td>IC</td>\n      <td>Invest Cont</td>\n    </tr>\n  </tbody>\n</table>\n<p>5000 rows × 21 columns</p>\n</div>"
          },
          "metadata": {}
        }
      ]
    },
    {
      "cell_type": "code",
      "source": [
        "from sklearn.impute import SimpleImputer\n",
        "si=SimpleImputer(strategy='most_frequent')\n",
        "testdf[testdf.columns]=si.fit_transform(testdf[testdf.columns])\n",
        "\n",
        "testdf=testdf.drop(['Weapon_Description','Premise_Description','Status_Description','Area_Name'],axis=1)\n",
        "#code to encode \"Location\" based on frequency\n",
        "address_freq = testdf['Location'].value_counts().to_dict() #takes the value_counts of the Location and converts into a dictionary\n",
        "testdf['Location'] = testdf['Location'].map(address_freq)#the dictionary is used to map the dictionary on \"Location\" column\n",
        "#code to drop \"Cross_Street\" column\n",
        "testdf.drop(['Cross_Street'],axis=1,inplace=True)\n",
        "\n",
        "testdf['Modus_Operandi']=testdf['Modus_Operandi'].apply(modus_list)\n",
        "from sklearn.preprocessing import MultiLabelBinarizer #importing MultiLabelBinarizer\n",
        "mlb=MultiLabelBinarizer() #creating object\n",
        "mo_transformed=mlb.fit_transform(testdf['Modus_Operandi'])#transforming the \"Modus_Operandi\" into muliple columns\n",
        "mo=pd.DataFrame(mo_transformed,columns=\"modus_\"+mlb.classes_)#converting the transformation into a pandas DataFrame \"mo\"\n",
        "testdf.drop(\"Modus_Operandi\",axis=1,inplace=True)#dropping the original \"Modus_Operandi\" column\n",
        "testdf=pd.concat([testdf,mo],axis=1)#concatenating testdf with new \"mo\" dataframe\n",
        "\n",
        "#converting \"Date_Reported\" and \"Date_Occurred\" into Date data type\n",
        "testdf['Date_Reported']=pd.to_datetime(testdf['Date_Reported'])\n",
        "testdf['Date_Occurred']=pd.to_datetime(testdf['Date_Occurred'])\n",
        "#extracting day, month and year from the above column and creating new columns for the same\n",
        "testdf['Day_Reported']=testdf['Date_Reported'].dt.day\n",
        "testdf['Month_Reported']=testdf['Date_Reported'].dt.month\n",
        "testdf['Year_Reported']=testdf['Date_Reported'].dt.year\n",
        "testdf['Day_Occurred']=testdf['Date_Occurred'].dt.day\n",
        "testdf['Month_Occurred']=testdf['Date_Occurred'].dt.month\n",
        "testdf['Year_Occurred']=testdf['Date_Occurred'].dt.year\n",
        "#dropping the original columns post handling\n",
        "testdf.drop(['Date_Reported','Date_Occurred'],axis=1,inplace=True)\n",
        "\n",
        "#one hot encoding apt columns\n",
        "testdf = pd.get_dummies(testdf, columns=['Victim_Sex', 'Victim_Descent', 'Status'])\n",
        "testdf.replace({True:1,False:0},inplace=True)\n",
        "#Standard Scaling apt columns\n",
        "from sklearn.preprocessing import StandardScaler\n",
        "ss=StandardScaler()\n",
        "testdf[[\"Location\",\"Latitude\",\"Longitude\",\"Time_Occurred\",\"Victim_Age\"]]=ss.fit_transform(testdf[[\"Location\",\"Latitude\",\"Longitude\",\"Time_Occurred\",\"Victim_Age\"]])\n",
        "testdf"
      ],
      "metadata": {
        "execution": {
          "iopub.status.busy": "2024-07-30T18:59:57.386457Z",
          "iopub.execute_input": "2024-07-30T18:59:57.386909Z",
          "iopub.status.idle": "2024-07-30T18:59:57.90982Z",
          "shell.execute_reply.started": "2024-07-30T18:59:57.386855Z",
          "shell.execute_reply": "2024-07-30T18:59:57.908324Z"
        },
        "trusted": true,
        "id": "5uMehub8caQ4",
        "outputId": "bf1e44c5-dde0-415f-87dc-68fde4c1722a"
      },
      "execution_count": null,
      "outputs": [
        {
          "name": "stderr",
          "text": "/tmp/ipykernel_91/1777042694.py:21: UserWarning: Could not infer format, so each element will be parsed individually, falling back to `dateutil`. To ensure parsing is consistent and as-expected, please specify a format.\n  testdf['Date_Reported']=pd.to_datetime(testdf['Date_Reported'])\n/tmp/ipykernel_91/1777042694.py:22: UserWarning: Could not infer format, so each element will be parsed individually, falling back to `dateutil`. To ensure parsing is consistent and as-expected, please specify a format.\n  testdf['Date_Occurred']=pd.to_datetime(testdf['Date_Occurred'])\n/tmp/ipykernel_91/1777042694.py:35: FutureWarning: Downcasting behavior in `replace` is deprecated and will be removed in a future version. To retain the old behavior, explicitly call `result.infer_objects(copy=False)`. To opt-in to the future behavior, set `pd.set_option('future.no_silent_downcasting', True)`\n  testdf.replace({True:1,False:0},inplace=True)\n",
          "output_type": "stream"
        },
        {
          "execution_count": 26,
          "output_type": "execute_result",
          "data": {
            "text/plain": "      Location  Latitude  Longitude  Time_Occurred  Area_ID  \\\n0    -0.430643  0.028004  -0.051063       0.997600      3.0   \n1     1.143344  0.058106  -0.050831       0.545695     20.0   \n2    -0.430643 -0.011260  -0.045983      -0.659386     18.0   \n3     0.356351  0.046579  -0.056825       1.298870      7.0   \n4    -0.430643  0.102656  -0.060627      -1.819277     15.0   \n...        ...       ...        ...            ...      ...   \n4995 -0.430643  0.042149  -0.056331       1.148235      7.0   \n4996  0.356351  0.039028  -0.039568       0.289615      4.0   \n4997 -0.430643  0.141971  -0.075053       1.148235     19.0   \n4998  0.356351  0.044364  -0.042326       1.502228      1.0   \n4999 -0.430643 -0.006730  -0.045983      -1.533070     18.0   \n\n      Reporting_District_no  Part 1-2  Victim_Age  Premise_Code  \\\n0                     376.0       2.0   -0.118379         501.0   \n1                    2014.0       1.0   -0.209721         502.0   \n2                    1844.0       2.0    1.434436         721.0   \n3                     765.0       1.0   -1.397168         108.0   \n4                    1555.0       2.0    0.292660         501.0   \n...                     ...       ...         ...           ...   \n4995                  775.0       1.0   -1.397168         101.0   \n4996                  471.0       1.0   -1.397168         116.0   \n4997                 1961.0       2.0    0.338331         101.0   \n4998                  147.0       2.0    0.475344         502.0   \n4999                 1823.0       2.0    0.840712         122.0   \n\n      Weapon_Used_Code  ...  Victim_Descent_S  Victim_Descent_V  \\\n0                400.0  ...                 0                 0   \n1                400.0  ...                 0                 0   \n2                400.0  ...                 0                 0   \n3                400.0  ...                 0                 0   \n4                400.0  ...                 0                 0   \n...                ...  ...               ...               ...   \n4995             400.0  ...                 0                 0   \n4996             400.0  ...                 0                 0   \n4997             400.0  ...                 0                 0   \n4998             500.0  ...                 0                 0   \n4999             400.0  ...                 0                 0   \n\n      Victim_Descent_W  Victim_Descent_X  Victim_Descent_Z  Status_AA  \\\n0                    0                 0                 0          0   \n1                    0                 0                 0          0   \n2                    0                 0                 0          0   \n3                    0                 0                 0          0   \n4                    1                 0                 0          0   \n...                ...               ...               ...        ...   \n4995                 0                 0                 0          0   \n4996                 0                 1                 0          0   \n4997                 0                 0                 0          1   \n4998                 0                 0                 0          0   \n4999                 0                 0                 0          0   \n\n      Status_AO  Status_IC  Status_JA  Status_JO  \n0             0          1          0          0  \n1             0          1          0          0  \n2             0          1          0          0  \n3             0          1          0          0  \n4             1          0          0          0  \n...         ...        ...        ...        ...  \n4995          0          1          0          0  \n4996          0          1          0          0  \n4997          0          0          0          0  \n4998          1          0          0          0  \n4999          0          1          0          0  \n\n[5000 rows x 409 columns]",
            "text/html": "<div>\n<style scoped>\n    .dataframe tbody tr th:only-of-type {\n        vertical-align: middle;\n    }\n\n    .dataframe tbody tr th {\n        vertical-align: top;\n    }\n\n    .dataframe thead th {\n        text-align: right;\n    }\n</style>\n<table border=\"1\" class=\"dataframe\">\n  <thead>\n    <tr style=\"text-align: right;\">\n      <th></th>\n      <th>Location</th>\n      <th>Latitude</th>\n      <th>Longitude</th>\n      <th>Time_Occurred</th>\n      <th>Area_ID</th>\n      <th>Reporting_District_no</th>\n      <th>Part 1-2</th>\n      <th>Victim_Age</th>\n      <th>Premise_Code</th>\n      <th>Weapon_Used_Code</th>\n      <th>...</th>\n      <th>Victim_Descent_S</th>\n      <th>Victim_Descent_V</th>\n      <th>Victim_Descent_W</th>\n      <th>Victim_Descent_X</th>\n      <th>Victim_Descent_Z</th>\n      <th>Status_AA</th>\n      <th>Status_AO</th>\n      <th>Status_IC</th>\n      <th>Status_JA</th>\n      <th>Status_JO</th>\n    </tr>\n  </thead>\n  <tbody>\n    <tr>\n      <th>0</th>\n      <td>-0.430643</td>\n      <td>0.028004</td>\n      <td>-0.051063</td>\n      <td>0.997600</td>\n      <td>3.0</td>\n      <td>376.0</td>\n      <td>2.0</td>\n      <td>-0.118379</td>\n      <td>501.0</td>\n      <td>400.0</td>\n      <td>...</td>\n      <td>0</td>\n      <td>0</td>\n      <td>0</td>\n      <td>0</td>\n      <td>0</td>\n      <td>0</td>\n      <td>0</td>\n      <td>1</td>\n      <td>0</td>\n      <td>0</td>\n    </tr>\n    <tr>\n      <th>1</th>\n      <td>1.143344</td>\n      <td>0.058106</td>\n      <td>-0.050831</td>\n      <td>0.545695</td>\n      <td>20.0</td>\n      <td>2014.0</td>\n      <td>1.0</td>\n      <td>-0.209721</td>\n      <td>502.0</td>\n      <td>400.0</td>\n      <td>...</td>\n      <td>0</td>\n      <td>0</td>\n      <td>0</td>\n      <td>0</td>\n      <td>0</td>\n      <td>0</td>\n      <td>0</td>\n      <td>1</td>\n      <td>0</td>\n      <td>0</td>\n    </tr>\n    <tr>\n      <th>2</th>\n      <td>-0.430643</td>\n      <td>-0.011260</td>\n      <td>-0.045983</td>\n      <td>-0.659386</td>\n      <td>18.0</td>\n      <td>1844.0</td>\n      <td>2.0</td>\n      <td>1.434436</td>\n      <td>721.0</td>\n      <td>400.0</td>\n      <td>...</td>\n      <td>0</td>\n      <td>0</td>\n      <td>0</td>\n      <td>0</td>\n      <td>0</td>\n      <td>0</td>\n      <td>0</td>\n      <td>1</td>\n      <td>0</td>\n      <td>0</td>\n    </tr>\n    <tr>\n      <th>3</th>\n      <td>0.356351</td>\n      <td>0.046579</td>\n      <td>-0.056825</td>\n      <td>1.298870</td>\n      <td>7.0</td>\n      <td>765.0</td>\n      <td>1.0</td>\n      <td>-1.397168</td>\n      <td>108.0</td>\n      <td>400.0</td>\n      <td>...</td>\n      <td>0</td>\n      <td>0</td>\n      <td>0</td>\n      <td>0</td>\n      <td>0</td>\n      <td>0</td>\n      <td>0</td>\n      <td>1</td>\n      <td>0</td>\n      <td>0</td>\n    </tr>\n    <tr>\n      <th>4</th>\n      <td>-0.430643</td>\n      <td>0.102656</td>\n      <td>-0.060627</td>\n      <td>-1.819277</td>\n      <td>15.0</td>\n      <td>1555.0</td>\n      <td>2.0</td>\n      <td>0.292660</td>\n      <td>501.0</td>\n      <td>400.0</td>\n      <td>...</td>\n      <td>0</td>\n      <td>0</td>\n      <td>1</td>\n      <td>0</td>\n      <td>0</td>\n      <td>0</td>\n      <td>1</td>\n      <td>0</td>\n      <td>0</td>\n      <td>0</td>\n    </tr>\n    <tr>\n      <th>...</th>\n      <td>...</td>\n      <td>...</td>\n      <td>...</td>\n      <td>...</td>\n      <td>...</td>\n      <td>...</td>\n      <td>...</td>\n      <td>...</td>\n      <td>...</td>\n      <td>...</td>\n      <td>...</td>\n      <td>...</td>\n      <td>...</td>\n      <td>...</td>\n      <td>...</td>\n      <td>...</td>\n      <td>...</td>\n      <td>...</td>\n      <td>...</td>\n      <td>...</td>\n      <td>...</td>\n    </tr>\n    <tr>\n      <th>4995</th>\n      <td>-0.430643</td>\n      <td>0.042149</td>\n      <td>-0.056331</td>\n      <td>1.148235</td>\n      <td>7.0</td>\n      <td>775.0</td>\n      <td>1.0</td>\n      <td>-1.397168</td>\n      <td>101.0</td>\n      <td>400.0</td>\n      <td>...</td>\n      <td>0</td>\n      <td>0</td>\n      <td>0</td>\n      <td>0</td>\n      <td>0</td>\n      <td>0</td>\n      <td>0</td>\n      <td>1</td>\n      <td>0</td>\n      <td>0</td>\n    </tr>\n    <tr>\n      <th>4996</th>\n      <td>0.356351</td>\n      <td>0.039028</td>\n      <td>-0.039568</td>\n      <td>0.289615</td>\n      <td>4.0</td>\n      <td>471.0</td>\n      <td>1.0</td>\n      <td>-1.397168</td>\n      <td>116.0</td>\n      <td>400.0</td>\n      <td>...</td>\n      <td>0</td>\n      <td>0</td>\n      <td>0</td>\n      <td>1</td>\n      <td>0</td>\n      <td>0</td>\n      <td>0</td>\n      <td>1</td>\n      <td>0</td>\n      <td>0</td>\n    </tr>\n    <tr>\n      <th>4997</th>\n      <td>-0.430643</td>\n      <td>0.141971</td>\n      <td>-0.075053</td>\n      <td>1.148235</td>\n      <td>19.0</td>\n      <td>1961.0</td>\n      <td>2.0</td>\n      <td>0.338331</td>\n      <td>101.0</td>\n      <td>400.0</td>\n      <td>...</td>\n      <td>0</td>\n      <td>0</td>\n      <td>0</td>\n      <td>0</td>\n      <td>0</td>\n      <td>1</td>\n      <td>0</td>\n      <td>0</td>\n      <td>0</td>\n      <td>0</td>\n    </tr>\n    <tr>\n      <th>4998</th>\n      <td>0.356351</td>\n      <td>0.044364</td>\n      <td>-0.042326</td>\n      <td>1.502228</td>\n      <td>1.0</td>\n      <td>147.0</td>\n      <td>2.0</td>\n      <td>0.475344</td>\n      <td>502.0</td>\n      <td>500.0</td>\n      <td>...</td>\n      <td>0</td>\n      <td>0</td>\n      <td>0</td>\n      <td>0</td>\n      <td>0</td>\n      <td>0</td>\n      <td>1</td>\n      <td>0</td>\n      <td>0</td>\n      <td>0</td>\n    </tr>\n    <tr>\n      <th>4999</th>\n      <td>-0.430643</td>\n      <td>-0.006730</td>\n      <td>-0.045983</td>\n      <td>-1.533070</td>\n      <td>18.0</td>\n      <td>1823.0</td>\n      <td>2.0</td>\n      <td>0.840712</td>\n      <td>122.0</td>\n      <td>400.0</td>\n      <td>...</td>\n      <td>0</td>\n      <td>0</td>\n      <td>0</td>\n      <td>0</td>\n      <td>0</td>\n      <td>0</td>\n      <td>0</td>\n      <td>1</td>\n      <td>0</td>\n      <td>0</td>\n    </tr>\n  </tbody>\n</table>\n<p>5000 rows × 409 columns</p>\n</div>"
          },
          "metadata": {}
        }
      ]
    },
    {
      "cell_type": "code",
      "source": [
        "print(traindf.shape)\n",
        "print(testdf.shape)"
      ],
      "metadata": {
        "execution": {
          "iopub.status.busy": "2024-07-30T19:00:38.190263Z",
          "iopub.execute_input": "2024-07-30T19:00:38.191779Z",
          "iopub.status.idle": "2024-07-30T19:00:38.199403Z",
          "shell.execute_reply.started": "2024-07-30T19:00:38.191724Z",
          "shell.execute_reply": "2024-07-30T19:00:38.197636Z"
        },
        "trusted": true,
        "id": "c4V1uP1UcaQ_",
        "outputId": "00c66e72-cdca-4360-a2b8-a2225747a22c"
      },
      "execution_count": null,
      "outputs": [
        {
          "name": "stdout",
          "text": "(20000, 524)\n(5000, 409)\n",
          "output_type": "stream"
        }
      ]
    },
    {
      "cell_type": "markdown",
      "source": [
        "#### An important conclusion we can get from the above observation is that number of columns in testdf and traindf is not same which clearly implies that certain columns in testdf had more or less or different categories than in traindf. Keeping the number column same in both dataset is mandatory for model training.\n",
        "\n",
        "#### My approach is to train the model based on common column between the traindf and testdf"
      ],
      "metadata": {
        "id": "-MF9v0TQcaQ_"
      }
    },
    {
      "cell_type": "code",
      "source": [
        "#finding the common_columns between traindf and testdf\n",
        "common_columns = set(traindf.columns).intersection(set(testdf.columns))\n"
      ],
      "metadata": {
        "execution": {
          "iopub.status.busy": "2024-07-30T19:04:10.18512Z",
          "iopub.execute_input": "2024-07-30T19:04:10.185583Z",
          "iopub.status.idle": "2024-07-30T19:04:10.192616Z",
          "shell.execute_reply.started": "2024-07-30T19:04:10.18555Z",
          "shell.execute_reply": "2024-07-30T19:04:10.190966Z"
        },
        "trusted": true,
        "id": "ysLuFfIrcaRA"
      },
      "execution_count": null,
      "outputs": []
    },
    {
      "cell_type": "code",
      "source": [
        "#reindexing the testdf based on the common columns\n",
        "testdf = testdf.reindex(columns=common_columns)"
      ],
      "metadata": {
        "execution": {
          "iopub.status.busy": "2024-07-30T19:06:02.37668Z",
          "iopub.execute_input": "2024-07-30T19:06:02.377805Z",
          "iopub.status.idle": "2024-07-30T19:06:02.393007Z",
          "shell.execute_reply.started": "2024-07-30T19:06:02.377762Z",
          "shell.execute_reply": "2024-07-30T19:06:02.391178Z"
        },
        "trusted": true,
        "id": "p2t1GEmrcaRA"
      },
      "execution_count": null,
      "outputs": []
    },
    {
      "cell_type": "code",
      "source": [
        "#making a new dataframe for the target variable\n",
        "crime_category=pd.DataFrame(traindf['Crime_Category'],columns=['Crime_Category'])\n"
      ],
      "metadata": {
        "execution": {
          "iopub.status.busy": "2024-07-30T19:09:13.88197Z",
          "iopub.execute_input": "2024-07-30T19:09:13.882582Z",
          "iopub.status.idle": "2024-07-30T19:09:13.892247Z",
          "shell.execute_reply.started": "2024-07-30T19:09:13.882546Z",
          "shell.execute_reply": "2024-07-30T19:09:13.890785Z"
        },
        "trusted": true,
        "id": "wQaxaK5JcaRA"
      },
      "execution_count": null,
      "outputs": []
    },
    {
      "cell_type": "code",
      "source": [
        "#reindexing traindf based on common columns\n",
        "traindf =traindf.reindex(columns=common_columns)"
      ],
      "metadata": {
        "execution": {
          "iopub.status.busy": "2024-07-30T19:09:15.179858Z",
          "iopub.execute_input": "2024-07-30T19:09:15.18117Z",
          "iopub.status.idle": "2024-07-30T19:09:15.21174Z",
          "shell.execute_reply.started": "2024-07-30T19:09:15.181128Z",
          "shell.execute_reply": "2024-07-30T19:09:15.210323Z"
        },
        "trusted": true,
        "id": "nIFDJrjQcaRA"
      },
      "execution_count": null,
      "outputs": []
    },
    {
      "cell_type": "code",
      "source": [
        "#finally concatenating the features with the target variable\n",
        "traindf=pd.concat([traindf,crime_category],axis=1)"
      ],
      "metadata": {
        "execution": {
          "iopub.status.busy": "2024-07-30T19:09:17.87066Z",
          "iopub.execute_input": "2024-07-30T19:09:17.871152Z",
          "iopub.status.idle": "2024-07-30T19:09:17.925535Z",
          "shell.execute_reply.started": "2024-07-30T19:09:17.871115Z",
          "shell.execute_reply": "2024-07-30T19:09:17.924015Z"
        },
        "trusted": true,
        "id": "h0OUuIB8caRA"
      },
      "execution_count": null,
      "outputs": []
    },
    {
      "cell_type": "code",
      "source": [
        "print(traindf.shape)\n",
        "print(testdf.shape)"
      ],
      "metadata": {
        "execution": {
          "iopub.status.busy": "2024-07-30T19:09:59.122052Z",
          "iopub.execute_input": "2024-07-30T19:09:59.12312Z",
          "iopub.status.idle": "2024-07-30T19:09:59.130465Z",
          "shell.execute_reply.started": "2024-07-30T19:09:59.123073Z",
          "shell.execute_reply": "2024-07-30T19:09:59.128779Z"
        },
        "trusted": true,
        "id": "heYTqL_BcaRB",
        "outputId": "123b45c7-ced1-46eb-f076-764f9d21bfcb"
      },
      "execution_count": null,
      "outputs": [
        {
          "name": "stdout",
          "text": "(20000, 391)\n(5000, 390)\n",
          "output_type": "stream"
        }
      ]
    },
    {
      "cell_type": "markdown",
      "source": [
        "##### Now the number of features are same in both the dataframes"
      ],
      "metadata": {
        "id": "9j4o0BwKcaRB"
      }
    },
    {
      "cell_type": "markdown",
      "source": [
        "### Model Building"
      ],
      "metadata": {
        "id": "ynaX_gGrcaRB"
      }
    },
    {
      "cell_type": "code",
      "source": [
        "#segregating x and y\n",
        "x=traindf.drop(['Crime_Category'],axis=1)\n",
        "y=traindf['Crime_Category']"
      ],
      "metadata": {
        "execution": {
          "iopub.status.busy": "2024-07-30T19:10:44.941176Z",
          "iopub.execute_input": "2024-07-30T19:10:44.942434Z",
          "iopub.status.idle": "2024-07-30T19:10:44.973202Z",
          "shell.execute_reply.started": "2024-07-30T19:10:44.942387Z",
          "shell.execute_reply": "2024-07-30T19:10:44.9717Z"
        },
        "trusted": true,
        "id": "s-eke6QlcaRB"
      },
      "execution_count": null,
      "outputs": []
    },
    {
      "cell_type": "code",
      "source": [
        "#splitting the train and test sets\n",
        "from sklearn.model_selection import train_test_split\n",
        "train_x,test_x,train_y,test_y=train_test_split(x,y,test_size=0.25,random_state=30)"
      ],
      "metadata": {
        "execution": {
          "iopub.status.busy": "2024-07-30T19:11:22.649086Z",
          "iopub.execute_input": "2024-07-30T19:11:22.650423Z",
          "iopub.status.idle": "2024-07-30T19:11:22.71701Z",
          "shell.execute_reply.started": "2024-07-30T19:11:22.650355Z",
          "shell.execute_reply": "2024-07-30T19:11:22.715593Z"
        },
        "trusted": true,
        "id": "fke4UyjtcaRB"
      },
      "execution_count": null,
      "outputs": []
    },
    {
      "cell_type": "code",
      "source": [
        "pip install imbalanced-learn"
      ],
      "metadata": {
        "execution": {
          "iopub.status.busy": "2024-07-30T13:40:25.605239Z",
          "iopub.execute_input": "2024-07-30T13:40:25.606917Z",
          "iopub.status.idle": "2024-07-30T13:41:02.370404Z",
          "shell.execute_reply.started": "2024-07-30T13:40:25.60686Z",
          "shell.execute_reply": "2024-07-30T13:41:02.368836Z"
        },
        "trusted": true,
        "id": "qKIxBuOwcaRB",
        "outputId": "28f019dd-67eb-41bf-822f-e3372edcc334"
      },
      "execution_count": null,
      "outputs": [
        {
          "name": "stdout",
          "text": "Requirement already satisfied: imbalanced-learn in /opt/conda/lib/python3.10/site-packages (0.12.3)\nRequirement already satisfied: numpy>=1.17.3 in /opt/conda/lib/python3.10/site-packages (from imbalanced-learn) (1.26.4)\nRequirement already satisfied: scipy>=1.5.0 in /opt/conda/lib/python3.10/site-packages (from imbalanced-learn) (1.11.4)\nRequirement already satisfied: scikit-learn>=1.0.2 in /opt/conda/lib/python3.10/site-packages (from imbalanced-learn) (1.2.2)\nRequirement already satisfied: joblib>=1.1.1 in /opt/conda/lib/python3.10/site-packages (from imbalanced-learn) (1.4.2)\nRequirement already satisfied: threadpoolctl>=2.0.0 in /opt/conda/lib/python3.10/site-packages (from imbalanced-learn) (3.2.0)\nNote: you may need to restart the kernel to use updated packages.\n",
          "output_type": "stream"
        }
      ]
    },
    {
      "cell_type": "markdown",
      "source": [
        "#### The models I have choosen for testing is:\n",
        "1. RandomForestClassifier\n",
        "2. DecisionTreeClassifier\n",
        "3. GradientBoostingClassifier\n",
        "4. LGBMClassifier"
      ],
      "metadata": {
        "id": "ma0jOXQfcaRC"
      }
    },
    {
      "cell_type": "code",
      "source": [
        "from sklearn.ensemble import RandomForestClassifier\n",
        "rfc=RandomForestClassifier()\n",
        "rfc.fit(train_x,train_y)\n",
        "rfc.score(test_x,test_y)"
      ],
      "metadata": {
        "execution": {
          "iopub.status.busy": "2024-07-30T19:13:19.142607Z",
          "iopub.execute_input": "2024-07-30T19:13:19.1432Z",
          "iopub.status.idle": "2024-07-30T19:13:24.059023Z",
          "shell.execute_reply.started": "2024-07-30T19:13:19.143164Z",
          "shell.execute_reply": "2024-07-30T19:13:24.057425Z"
        },
        "trusted": true,
        "id": "Ff6-KGT_caRC",
        "outputId": "6e6c876d-9ffd-464d-8286-a8437372d265"
      },
      "execution_count": null,
      "outputs": [
        {
          "execution_count": 46,
          "output_type": "execute_result",
          "data": {
            "text/plain": "0.939"
          },
          "metadata": {}
        }
      ]
    },
    {
      "cell_type": "code",
      "source": [
        "from sklearn.tree import DecisionTreeClassifier\n",
        "dtc=DecisionTreeClassifier()\n",
        "dtc.fit(train_x,train_y)\n",
        "dtc.score(test_x,test_y)"
      ],
      "metadata": {
        "execution": {
          "iopub.status.busy": "2024-07-30T19:13:27.84008Z",
          "iopub.execute_input": "2024-07-30T19:13:27.840544Z",
          "iopub.status.idle": "2024-07-30T19:13:28.441026Z",
          "shell.execute_reply.started": "2024-07-30T19:13:27.840509Z",
          "shell.execute_reply": "2024-07-30T19:13:28.439654Z"
        },
        "trusted": true,
        "id": "NRfLBMyocaRC",
        "outputId": "83adea75-4f90-48f5-a8f7-74ac1e205b32"
      },
      "execution_count": null,
      "outputs": [
        {
          "execution_count": 47,
          "output_type": "execute_result",
          "data": {
            "text/plain": "0.9218"
          },
          "metadata": {}
        }
      ]
    },
    {
      "cell_type": "code",
      "source": [
        "from sklearn.ensemble import GradientBoostingClassifier\n",
        "gbc=GradientBoostingClassifier()\n",
        "gbc.fit(train_x,train_y)\n",
        "gbc.score(test_x,test_y)"
      ],
      "metadata": {
        "execution": {
          "iopub.status.busy": "2024-07-30T19:13:31.619331Z",
          "iopub.execute_input": "2024-07-30T19:13:31.619937Z",
          "iopub.status.idle": "2024-07-30T19:14:31.874852Z",
          "shell.execute_reply.started": "2024-07-30T19:13:31.619894Z",
          "shell.execute_reply": "2024-07-30T19:14:31.873119Z"
        },
        "trusted": true,
        "id": "irdUBnKHcaRC",
        "outputId": "f2616e0b-9172-43c4-b3a5-0652da9dc3f4"
      },
      "execution_count": null,
      "outputs": [
        {
          "execution_count": 48,
          "output_type": "execute_result",
          "data": {
            "text/plain": "0.947"
          },
          "metadata": {}
        }
      ]
    },
    {
      "cell_type": "code",
      "source": [
        "from lightgbm import LGBMClassifier\n",
        "lgbm=LGBMClassifier(verbosity=-1)\n",
        "lgbm.fit(train_x,train_y)\n",
        "lgbm.score(test_x,test_y)"
      ],
      "metadata": {
        "execution": {
          "iopub.status.busy": "2024-07-30T20:18:35.779523Z",
          "iopub.execute_input": "2024-07-30T20:18:35.780138Z",
          "iopub.status.idle": "2024-07-30T20:18:39.281081Z",
          "shell.execute_reply.started": "2024-07-30T20:18:35.780099Z",
          "shell.execute_reply": "2024-07-30T20:18:39.279791Z"
        },
        "trusted": true,
        "id": "20duPbsPcaRD",
        "outputId": "86ae753d-64c2-486f-ba5b-8775247e06e2"
      },
      "execution_count": null,
      "outputs": [
        {
          "execution_count": 76,
          "output_type": "execute_result",
          "data": {
            "text/plain": "0.9586"
          },
          "metadata": {}
        }
      ]
    },
    {
      "cell_type": "markdown",
      "source": [
        "#### As we can see, LGBMClassifier is giving us the highest score. Now let us hyperparameter tune LGBMClassifier"
      ],
      "metadata": {
        "id": "oSEmYxCscaRD"
      }
    },
    {
      "cell_type": "markdown",
      "source": [
        "##### The following is the code to hyperparameter tune the LGBMClassifier. Its been commented out to ensure less time to run the notebook while submitting to competition."
      ],
      "metadata": {
        "id": "5KGkyAD5caRD"
      }
    },
    {
      "cell_type": "code",
      "source": [
        "# from sklearn.model_selection import RandomizedSearchCV\n",
        "# param_distributions = {\n",
        "#     'num_leaves': [31, 50, 70],\n",
        "#     'max_depth': [-1, 10, 20, 30],\n",
        "#     'learning_rate': [ 0.1, 0.2,0.25],\n",
        "#     'n_estimators': [50, 100, 200],\n",
        "#     'boosting_type': ['gbdt', 'dart','goss'],\n",
        "#     'subsample': [0.6, 0.7, 0.8, 0.9],\n",
        "#     'feature_fraction':[0.6,0.8,1]\n",
        "\n",
        "# }\n",
        "# rs = RandomizedSearchCV(\n",
        "#     estimator=lgbm,\n",
        "#     param_distributions=param_distributions,\n",
        "#     cv=5,  # Number of folds for cross-validation\n",
        "#     random_state=30\n",
        "# )\n",
        "# rs.fit(train_x, train_y)\n"
      ],
      "metadata": {
        "execution": {
          "iopub.status.busy": "2024-07-30T19:33:31.70922Z",
          "iopub.execute_input": "2024-07-30T19:33:31.709755Z",
          "iopub.status.idle": "2024-07-30T19:39:20.56552Z",
          "shell.execute_reply.started": "2024-07-30T19:33:31.709716Z",
          "shell.execute_reply": "2024-07-30T19:39:20.564164Z"
        },
        "trusted": true,
        "id": "MCPOjCy6caRD",
        "outputId": "2b08954c-77cf-4075-973e-4d0f4e505641"
      },
      "execution_count": null,
      "outputs": [
        {
          "execution_count": 55,
          "output_type": "execute_result",
          "data": {
            "text/plain": "RandomizedSearchCV(cv=5, estimator=LGBMClassifier(verbosity=-1),\n                   param_distributions={'boosting_type': ['gbdt', 'dart',\n                                                          'goss'],\n                                        'feature_fraction': [0.6, 0.8, 1],\n                                        'learning_rate': [0.1, 0.2, 0.25],\n                                        'max_depth': [-1, 10, 20, 30],\n                                        'n_estimators': [50, 100, 200],\n                                        'num_leaves': [31, 50, 70],\n                                        'subsample': [0.6, 0.7, 0.8, 0.9]},\n                   random_state=30)",
            "text/html": "<style>#sk-container-id-1 {color: black;background-color: white;}#sk-container-id-1 pre{padding: 0;}#sk-container-id-1 div.sk-toggleable {background-color: white;}#sk-container-id-1 label.sk-toggleable__label {cursor: pointer;display: block;width: 100%;margin-bottom: 0;padding: 0.3em;box-sizing: border-box;text-align: center;}#sk-container-id-1 label.sk-toggleable__label-arrow:before {content: \"▸\";float: left;margin-right: 0.25em;color: #696969;}#sk-container-id-1 label.sk-toggleable__label-arrow:hover:before {color: black;}#sk-container-id-1 div.sk-estimator:hover label.sk-toggleable__label-arrow:before {color: black;}#sk-container-id-1 div.sk-toggleable__content {max-height: 0;max-width: 0;overflow: hidden;text-align: left;background-color: #f0f8ff;}#sk-container-id-1 div.sk-toggleable__content pre {margin: 0.2em;color: black;border-radius: 0.25em;background-color: #f0f8ff;}#sk-container-id-1 input.sk-toggleable__control:checked~div.sk-toggleable__content {max-height: 200px;max-width: 100%;overflow: auto;}#sk-container-id-1 input.sk-toggleable__control:checked~label.sk-toggleable__label-arrow:before {content: \"▾\";}#sk-container-id-1 div.sk-estimator input.sk-toggleable__control:checked~label.sk-toggleable__label {background-color: #d4ebff;}#sk-container-id-1 div.sk-label input.sk-toggleable__control:checked~label.sk-toggleable__label {background-color: #d4ebff;}#sk-container-id-1 input.sk-hidden--visually {border: 0;clip: rect(1px 1px 1px 1px);clip: rect(1px, 1px, 1px, 1px);height: 1px;margin: -1px;overflow: hidden;padding: 0;position: absolute;width: 1px;}#sk-container-id-1 div.sk-estimator {font-family: monospace;background-color: #f0f8ff;border: 1px dotted black;border-radius: 0.25em;box-sizing: border-box;margin-bottom: 0.5em;}#sk-container-id-1 div.sk-estimator:hover {background-color: #d4ebff;}#sk-container-id-1 div.sk-parallel-item::after {content: \"\";width: 100%;border-bottom: 1px solid gray;flex-grow: 1;}#sk-container-id-1 div.sk-label:hover label.sk-toggleable__label {background-color: #d4ebff;}#sk-container-id-1 div.sk-serial::before {content: \"\";position: absolute;border-left: 1px solid gray;box-sizing: border-box;top: 0;bottom: 0;left: 50%;z-index: 0;}#sk-container-id-1 div.sk-serial {display: flex;flex-direction: column;align-items: center;background-color: white;padding-right: 0.2em;padding-left: 0.2em;position: relative;}#sk-container-id-1 div.sk-item {position: relative;z-index: 1;}#sk-container-id-1 div.sk-parallel {display: flex;align-items: stretch;justify-content: center;background-color: white;position: relative;}#sk-container-id-1 div.sk-item::before, #sk-container-id-1 div.sk-parallel-item::before {content: \"\";position: absolute;border-left: 1px solid gray;box-sizing: border-box;top: 0;bottom: 0;left: 50%;z-index: -1;}#sk-container-id-1 div.sk-parallel-item {display: flex;flex-direction: column;z-index: 1;position: relative;background-color: white;}#sk-container-id-1 div.sk-parallel-item:first-child::after {align-self: flex-end;width: 50%;}#sk-container-id-1 div.sk-parallel-item:last-child::after {align-self: flex-start;width: 50%;}#sk-container-id-1 div.sk-parallel-item:only-child::after {width: 0;}#sk-container-id-1 div.sk-dashed-wrapped {border: 1px dashed gray;margin: 0 0.4em 0.5em 0.4em;box-sizing: border-box;padding-bottom: 0.4em;background-color: white;}#sk-container-id-1 div.sk-label label {font-family: monospace;font-weight: bold;display: inline-block;line-height: 1.2em;}#sk-container-id-1 div.sk-label-container {text-align: center;}#sk-container-id-1 div.sk-container {/* jupyter's `normalize.less` sets `[hidden] { display: none; }` but bootstrap.min.css set `[hidden] { display: none !important; }` so we also need the `!important` here to be able to override the default hidden behavior on the sphinx rendered scikit-learn.org. See: https://github.com/scikit-learn/scikit-learn/issues/21755 */display: inline-block !important;position: relative;}#sk-container-id-1 div.sk-text-repr-fallback {display: none;}</style><div id=\"sk-container-id-1\" class=\"sk-top-container\"><div class=\"sk-text-repr-fallback\"><pre>RandomizedSearchCV(cv=5, estimator=LGBMClassifier(verbosity=-1),\n                   param_distributions={&#x27;boosting_type&#x27;: [&#x27;gbdt&#x27;, &#x27;dart&#x27;,\n                                                          &#x27;goss&#x27;],\n                                        &#x27;feature_fraction&#x27;: [0.6, 0.8, 1],\n                                        &#x27;learning_rate&#x27;: [0.1, 0.2, 0.25],\n                                        &#x27;max_depth&#x27;: [-1, 10, 20, 30],\n                                        &#x27;n_estimators&#x27;: [50, 100, 200],\n                                        &#x27;num_leaves&#x27;: [31, 50, 70],\n                                        &#x27;subsample&#x27;: [0.6, 0.7, 0.8, 0.9]},\n                   random_state=30)</pre><b>In a Jupyter environment, please rerun this cell to show the HTML representation or trust the notebook. <br />On GitHub, the HTML representation is unable to render, please try loading this page with nbviewer.org.</b></div><div class=\"sk-container\" hidden><div class=\"sk-item sk-dashed-wrapped\"><div class=\"sk-label-container\"><div class=\"sk-label sk-toggleable\"><input class=\"sk-toggleable__control sk-hidden--visually\" id=\"sk-estimator-id-1\" type=\"checkbox\" ><label for=\"sk-estimator-id-1\" class=\"sk-toggleable__label sk-toggleable__label-arrow\">RandomizedSearchCV</label><div class=\"sk-toggleable__content\"><pre>RandomizedSearchCV(cv=5, estimator=LGBMClassifier(verbosity=-1),\n                   param_distributions={&#x27;boosting_type&#x27;: [&#x27;gbdt&#x27;, &#x27;dart&#x27;,\n                                                          &#x27;goss&#x27;],\n                                        &#x27;feature_fraction&#x27;: [0.6, 0.8, 1],\n                                        &#x27;learning_rate&#x27;: [0.1, 0.2, 0.25],\n                                        &#x27;max_depth&#x27;: [-1, 10, 20, 30],\n                                        &#x27;n_estimators&#x27;: [50, 100, 200],\n                                        &#x27;num_leaves&#x27;: [31, 50, 70],\n                                        &#x27;subsample&#x27;: [0.6, 0.7, 0.8, 0.9]},\n                   random_state=30)</pre></div></div></div><div class=\"sk-parallel\"><div class=\"sk-parallel-item\"><div class=\"sk-item\"><div class=\"sk-label-container\"><div class=\"sk-label sk-toggleable\"><input class=\"sk-toggleable__control sk-hidden--visually\" id=\"sk-estimator-id-2\" type=\"checkbox\" ><label for=\"sk-estimator-id-2\" class=\"sk-toggleable__label sk-toggleable__label-arrow\">estimator: LGBMClassifier</label><div class=\"sk-toggleable__content\"><pre>LGBMClassifier(verbosity=-1)</pre></div></div></div><div class=\"sk-serial\"><div class=\"sk-item\"><div class=\"sk-estimator sk-toggleable\"><input class=\"sk-toggleable__control sk-hidden--visually\" id=\"sk-estimator-id-3\" type=\"checkbox\" ><label for=\"sk-estimator-id-3\" class=\"sk-toggleable__label sk-toggleable__label-arrow\">LGBMClassifier</label><div class=\"sk-toggleable__content\"><pre>LGBMClassifier(verbosity=-1)</pre></div></div></div></div></div></div></div></div></div></div>"
          },
          "metadata": {}
        }
      ]
    },
    {
      "cell_type": "code",
      "source": [
        "# random_search.best_params_"
      ],
      "metadata": {
        "execution": {
          "iopub.status.busy": "2024-07-30T19:39:30.553425Z",
          "iopub.execute_input": "2024-07-30T19:39:30.554268Z",
          "iopub.status.idle": "2024-07-30T19:39:30.564158Z",
          "shell.execute_reply.started": "2024-07-30T19:39:30.554211Z",
          "shell.execute_reply": "2024-07-30T19:39:30.562317Z"
        },
        "trusted": true,
        "id": "3qS2TrSScaRE",
        "outputId": "9eab3025-e6b6-432c-a8d4-5273ed0e56ab"
      },
      "execution_count": null,
      "outputs": [
        {
          "execution_count": 56,
          "output_type": "execute_result",
          "data": {
            "text/plain": "{'subsample': 0.7,\n 'num_leaves': 50,\n 'n_estimators': 200,\n 'max_depth': 20,\n 'learning_rate': 0.1,\n 'feature_fraction': 0.8,\n 'boosting_type': 'dart'}"
          },
          "metadata": {}
        }
      ]
    },
    {
      "cell_type": "markdown",
      "source": [
        "#### The above tuned parameter are taken to fit train_x,train_y"
      ],
      "metadata": {
        "id": "rk5FJP8xcaRE"
      }
    },
    {
      "cell_type": "code",
      "source": [
        "lg2=LGBMClassifier(subsample= 0.7,\n",
        "                   num_leaves= 50,\n",
        "                   n_estimators= 200,\n",
        "                   max_depth= 20,\n",
        "                   learning_rate= 0.1,\n",
        "                   feature_fraction= 0.8,\n",
        "                   boosting_type= 'dart',verbosity=-1)\n",
        "lg2.fit(train_x,train_y)\n",
        "lg2.score(test_x,test_y)"
      ],
      "metadata": {
        "execution": {
          "iopub.status.busy": "2024-07-30T19:43:51.189323Z",
          "iopub.execute_input": "2024-07-30T19:43:51.189842Z",
          "iopub.status.idle": "2024-07-30T19:44:21.765311Z",
          "shell.execute_reply.started": "2024-07-30T19:43:51.189806Z",
          "shell.execute_reply": "2024-07-30T19:44:21.763921Z"
        },
        "trusted": true,
        "id": "qOouaut6caRE",
        "outputId": "32800ad6-d532-4e5d-c828-56234444e1d4"
      },
      "execution_count": null,
      "outputs": [
        {
          "execution_count": 62,
          "output_type": "execute_result",
          "data": {
            "text/plain": "0.9574"
          },
          "metadata": {}
        }
      ]
    },
    {
      "cell_type": "markdown",
      "source": [
        "#### As we have seen earlier the target variable was slightly imbalanced in nature which could create in a bias. Let us further analyze how our model has performed"
      ],
      "metadata": {
        "id": "XW1fG2gjcaRF"
      }
    },
    {
      "cell_type": "code",
      "source": [
        "#code to find the data points the model has predicted wrong\n",
        "y_pred=lg2.predict(test_x)\n",
        "misclassified = test_x[test_y!= y_pred]\n",
        "misclassified['True_Label'] = test_y[test_y != y_pred]\n",
        "misclassified['Predicted_Label'] = y_pred[test_y != y_pred]\n",
        "misclassified['Predicted_Label'].value_counts()"
      ],
      "metadata": {
        "execution": {
          "iopub.status.busy": "2024-07-30T20:31:06.371414Z",
          "iopub.execute_input": "2024-07-30T20:31:06.37235Z",
          "iopub.status.idle": "2024-07-30T20:31:07.074369Z",
          "shell.execute_reply.started": "2024-07-30T20:31:06.372299Z",
          "shell.execute_reply": "2024-07-30T20:31:07.072706Z"
        },
        "trusted": true,
        "id": "4c8A8SoRcaRF",
        "outputId": "5e6e6324-6854-4ce9-9841-8cfbce83cc13"
      },
      "execution_count": null,
      "outputs": [
        {
          "name": "stderr",
          "text": "/tmp/ipykernel_91/3212309906.py:4: SettingWithCopyWarning: \nA value is trying to be set on a copy of a slice from a DataFrame.\nTry using .loc[row_indexer,col_indexer] = value instead\n\nSee the caveats in the documentation: https://pandas.pydata.org/pandas-docs/stable/user_guide/indexing.html#returning-a-view-versus-a-copy\n  misclassified['True_Label'] = test_y[test_y != y_pred]\n/tmp/ipykernel_91/3212309906.py:5: SettingWithCopyWarning: \nA value is trying to be set on a copy of a slice from a DataFrame.\nTry using .loc[row_indexer,col_indexer] = value instead\n\nSee the caveats in the documentation: https://pandas.pydata.org/pandas-docs/stable/user_guide/indexing.html#returning-a-view-versus-a-copy\n  misclassified['Predicted_Label'] = y_pred[test_y != y_pred]\n",
          "output_type": "stream"
        },
        {
          "execution_count": 79,
          "output_type": "execute_result",
          "data": {
            "text/plain": "Predicted_Label\nViolent Crimes                   106\nCrimes against Public Order       51\nFraud and White-Collar Crimes     33\nProperty Crimes                   28\nOther Crimes                      16\nCrimes against Persons            10\nName: count, dtype: int64"
          },
          "metadata": {}
        }
      ]
    },
    {
      "cell_type": "markdown",
      "source": [
        "#### As we can see the model has wrongly predicted 106 data points as \"Violent Crimes\" which may signal towards a potential bias towards this category. Let us consider using SMOTE to oversample data."
      ],
      "metadata": {
        "id": "xOTRhbZacaRF"
      }
    },
    {
      "cell_type": "code",
      "source": [
        "from imblearn.over_sampling import SMOTE\n",
        "smote=SMOTE(random_state=30)\n",
        "train_x2,train_y2=smote.fit_resample(train_x,train_y)"
      ],
      "metadata": {
        "execution": {
          "iopub.status.busy": "2024-07-30T20:32:39.562165Z",
          "iopub.execute_input": "2024-07-30T20:32:39.562747Z",
          "iopub.status.idle": "2024-07-30T20:32:40.862083Z",
          "shell.execute_reply.started": "2024-07-30T20:32:39.562711Z",
          "shell.execute_reply": "2024-07-30T20:32:40.86077Z"
        },
        "trusted": true,
        "id": "mUh4qqZIcaRG"
      },
      "execution_count": null,
      "outputs": []
    },
    {
      "cell_type": "markdown",
      "source": [
        "##### The following code is to hyperparameter tune LGBMClassifier based on its training on the oversampled data. It is commented out to ensure quick submission to competition"
      ],
      "metadata": {
        "id": "CXTZA5_PcaRG"
      }
    },
    {
      "cell_type": "code",
      "source": [
        "# from sklearn.model_selection import RandomizedSearchCV\n",
        "# param_distributions = {\n",
        "#     'num_leaves': [31, 50, 70],\n",
        "#     'max_depth': [-1, 10, 20, 30],\n",
        "#     'learning_rate': [ 0.1, 0.2,0.25],\n",
        "#     'n_estimators': [50, 100, 200],\n",
        "#     'boosting_type': ['gbdt', 'dart','goss'],\n",
        "#     'subsample': [0.6, 0.7, 0.8, 0.9],\n",
        "#     'feature_fraction':[0.6,0.8,1]\n",
        "\n",
        "# }\n",
        "# rs = RandomizedSearchCV(\n",
        "#     estimator=lgbm,\n",
        "#     param_distributions=param_distributions,\n",
        "#     cv=5,  # Number of folds for cross-validation\n",
        "#     random_state=30\n",
        "# )\n",
        "# rs.fit(train_x2, train_y2)\n"
      ],
      "metadata": {
        "execution": {
          "iopub.status.busy": "2024-07-30T19:56:49.289393Z",
          "iopub.execute_input": "2024-07-30T19:56:49.290228Z",
          "iopub.status.idle": "2024-07-30T20:13:17.21741Z",
          "shell.execute_reply.started": "2024-07-30T19:56:49.290189Z",
          "shell.execute_reply": "2024-07-30T20:13:17.216138Z"
        },
        "trusted": true,
        "id": "yZE4IBJKcaRG",
        "outputId": "603a77db-d703-4069-db81-4f5f1aae0072"
      },
      "execution_count": null,
      "outputs": [
        {
          "execution_count": 70,
          "output_type": "execute_result",
          "data": {
            "text/plain": "RandomizedSearchCV(cv=5, estimator=LGBMClassifier(verbosity=-1),\n                   param_distributions={'boosting_type': ['gbdt', 'dart',\n                                                          'goss'],\n                                        'feature_fraction': [0.6, 0.8, 1],\n                                        'learning_rate': [0.1, 0.2, 0.25],\n                                        'max_depth': [-1, 10, 20, 30],\n                                        'n_estimators': [50, 100, 200],\n                                        'num_leaves': [31, 50, 70],\n                                        'subsample': [0.6, 0.7, 0.8, 0.9]},\n                   random_state=30)",
            "text/html": "<style>#sk-container-id-2 {color: black;background-color: white;}#sk-container-id-2 pre{padding: 0;}#sk-container-id-2 div.sk-toggleable {background-color: white;}#sk-container-id-2 label.sk-toggleable__label {cursor: pointer;display: block;width: 100%;margin-bottom: 0;padding: 0.3em;box-sizing: border-box;text-align: center;}#sk-container-id-2 label.sk-toggleable__label-arrow:before {content: \"▸\";float: left;margin-right: 0.25em;color: #696969;}#sk-container-id-2 label.sk-toggleable__label-arrow:hover:before {color: black;}#sk-container-id-2 div.sk-estimator:hover label.sk-toggleable__label-arrow:before {color: black;}#sk-container-id-2 div.sk-toggleable__content {max-height: 0;max-width: 0;overflow: hidden;text-align: left;background-color: #f0f8ff;}#sk-container-id-2 div.sk-toggleable__content pre {margin: 0.2em;color: black;border-radius: 0.25em;background-color: #f0f8ff;}#sk-container-id-2 input.sk-toggleable__control:checked~div.sk-toggleable__content {max-height: 200px;max-width: 100%;overflow: auto;}#sk-container-id-2 input.sk-toggleable__control:checked~label.sk-toggleable__label-arrow:before {content: \"▾\";}#sk-container-id-2 div.sk-estimator input.sk-toggleable__control:checked~label.sk-toggleable__label {background-color: #d4ebff;}#sk-container-id-2 div.sk-label input.sk-toggleable__control:checked~label.sk-toggleable__label {background-color: #d4ebff;}#sk-container-id-2 input.sk-hidden--visually {border: 0;clip: rect(1px 1px 1px 1px);clip: rect(1px, 1px, 1px, 1px);height: 1px;margin: -1px;overflow: hidden;padding: 0;position: absolute;width: 1px;}#sk-container-id-2 div.sk-estimator {font-family: monospace;background-color: #f0f8ff;border: 1px dotted black;border-radius: 0.25em;box-sizing: border-box;margin-bottom: 0.5em;}#sk-container-id-2 div.sk-estimator:hover {background-color: #d4ebff;}#sk-container-id-2 div.sk-parallel-item::after {content: \"\";width: 100%;border-bottom: 1px solid gray;flex-grow: 1;}#sk-container-id-2 div.sk-label:hover label.sk-toggleable__label {background-color: #d4ebff;}#sk-container-id-2 div.sk-serial::before {content: \"\";position: absolute;border-left: 1px solid gray;box-sizing: border-box;top: 0;bottom: 0;left: 50%;z-index: 0;}#sk-container-id-2 div.sk-serial {display: flex;flex-direction: column;align-items: center;background-color: white;padding-right: 0.2em;padding-left: 0.2em;position: relative;}#sk-container-id-2 div.sk-item {position: relative;z-index: 1;}#sk-container-id-2 div.sk-parallel {display: flex;align-items: stretch;justify-content: center;background-color: white;position: relative;}#sk-container-id-2 div.sk-item::before, #sk-container-id-2 div.sk-parallel-item::before {content: \"\";position: absolute;border-left: 1px solid gray;box-sizing: border-box;top: 0;bottom: 0;left: 50%;z-index: -1;}#sk-container-id-2 div.sk-parallel-item {display: flex;flex-direction: column;z-index: 1;position: relative;background-color: white;}#sk-container-id-2 div.sk-parallel-item:first-child::after {align-self: flex-end;width: 50%;}#sk-container-id-2 div.sk-parallel-item:last-child::after {align-self: flex-start;width: 50%;}#sk-container-id-2 div.sk-parallel-item:only-child::after {width: 0;}#sk-container-id-2 div.sk-dashed-wrapped {border: 1px dashed gray;margin: 0 0.4em 0.5em 0.4em;box-sizing: border-box;padding-bottom: 0.4em;background-color: white;}#sk-container-id-2 div.sk-label label {font-family: monospace;font-weight: bold;display: inline-block;line-height: 1.2em;}#sk-container-id-2 div.sk-label-container {text-align: center;}#sk-container-id-2 div.sk-container {/* jupyter's `normalize.less` sets `[hidden] { display: none; }` but bootstrap.min.css set `[hidden] { display: none !important; }` so we also need the `!important` here to be able to override the default hidden behavior on the sphinx rendered scikit-learn.org. See: https://github.com/scikit-learn/scikit-learn/issues/21755 */display: inline-block !important;position: relative;}#sk-container-id-2 div.sk-text-repr-fallback {display: none;}</style><div id=\"sk-container-id-2\" class=\"sk-top-container\"><div class=\"sk-text-repr-fallback\"><pre>RandomizedSearchCV(cv=5, estimator=LGBMClassifier(verbosity=-1),\n                   param_distributions={&#x27;boosting_type&#x27;: [&#x27;gbdt&#x27;, &#x27;dart&#x27;,\n                                                          &#x27;goss&#x27;],\n                                        &#x27;feature_fraction&#x27;: [0.6, 0.8, 1],\n                                        &#x27;learning_rate&#x27;: [0.1, 0.2, 0.25],\n                                        &#x27;max_depth&#x27;: [-1, 10, 20, 30],\n                                        &#x27;n_estimators&#x27;: [50, 100, 200],\n                                        &#x27;num_leaves&#x27;: [31, 50, 70],\n                                        &#x27;subsample&#x27;: [0.6, 0.7, 0.8, 0.9]},\n                   random_state=30)</pre><b>In a Jupyter environment, please rerun this cell to show the HTML representation or trust the notebook. <br />On GitHub, the HTML representation is unable to render, please try loading this page with nbviewer.org.</b></div><div class=\"sk-container\" hidden><div class=\"sk-item sk-dashed-wrapped\"><div class=\"sk-label-container\"><div class=\"sk-label sk-toggleable\"><input class=\"sk-toggleable__control sk-hidden--visually\" id=\"sk-estimator-id-4\" type=\"checkbox\" ><label for=\"sk-estimator-id-4\" class=\"sk-toggleable__label sk-toggleable__label-arrow\">RandomizedSearchCV</label><div class=\"sk-toggleable__content\"><pre>RandomizedSearchCV(cv=5, estimator=LGBMClassifier(verbosity=-1),\n                   param_distributions={&#x27;boosting_type&#x27;: [&#x27;gbdt&#x27;, &#x27;dart&#x27;,\n                                                          &#x27;goss&#x27;],\n                                        &#x27;feature_fraction&#x27;: [0.6, 0.8, 1],\n                                        &#x27;learning_rate&#x27;: [0.1, 0.2, 0.25],\n                                        &#x27;max_depth&#x27;: [-1, 10, 20, 30],\n                                        &#x27;n_estimators&#x27;: [50, 100, 200],\n                                        &#x27;num_leaves&#x27;: [31, 50, 70],\n                                        &#x27;subsample&#x27;: [0.6, 0.7, 0.8, 0.9]},\n                   random_state=30)</pre></div></div></div><div class=\"sk-parallel\"><div class=\"sk-parallel-item\"><div class=\"sk-item\"><div class=\"sk-label-container\"><div class=\"sk-label sk-toggleable\"><input class=\"sk-toggleable__control sk-hidden--visually\" id=\"sk-estimator-id-5\" type=\"checkbox\" ><label for=\"sk-estimator-id-5\" class=\"sk-toggleable__label sk-toggleable__label-arrow\">estimator: LGBMClassifier</label><div class=\"sk-toggleable__content\"><pre>LGBMClassifier(verbosity=-1)</pre></div></div></div><div class=\"sk-serial\"><div class=\"sk-item\"><div class=\"sk-estimator sk-toggleable\"><input class=\"sk-toggleable__control sk-hidden--visually\" id=\"sk-estimator-id-6\" type=\"checkbox\" ><label for=\"sk-estimator-id-6\" class=\"sk-toggleable__label sk-toggleable__label-arrow\">LGBMClassifier</label><div class=\"sk-toggleable__content\"><pre>LGBMClassifier(verbosity=-1)</pre></div></div></div></div></div></div></div></div></div></div>"
          },
          "metadata": {}
        }
      ]
    },
    {
      "cell_type": "code",
      "source": [
        "# rs.best_params_"
      ],
      "metadata": {
        "execution": {
          "iopub.status.busy": "2024-07-30T20:13:36.176058Z",
          "iopub.execute_input": "2024-07-30T20:13:36.176501Z",
          "iopub.status.idle": "2024-07-30T20:13:36.190174Z",
          "shell.execute_reply.started": "2024-07-30T20:13:36.176467Z",
          "shell.execute_reply": "2024-07-30T20:13:36.188465Z"
        },
        "trusted": true,
        "id": "UxFlkrv2caRH",
        "outputId": "507d649c-a5a4-4cd5-e907-0de5d24815be"
      },
      "execution_count": null,
      "outputs": [
        {
          "execution_count": 71,
          "output_type": "execute_result",
          "data": {
            "text/plain": "{'subsample': 0.8,\n 'num_leaves': 70,\n 'n_estimators': 200,\n 'max_depth': -1,\n 'learning_rate': 0.1,\n 'feature_fraction': 1,\n 'boosting_type': 'gbdt'}"
          },
          "metadata": {}
        }
      ]
    },
    {
      "cell_type": "code",
      "source": [
        "# model=rs.best_estimator_\n",
        "# model.score(test_x,test_y)"
      ],
      "metadata": {
        "execution": {
          "iopub.status.busy": "2024-07-30T20:14:26.736013Z",
          "iopub.execute_input": "2024-07-30T20:14:26.737251Z",
          "iopub.status.idle": "2024-07-30T20:14:27.644784Z",
          "shell.execute_reply.started": "2024-07-30T20:14:26.737175Z",
          "shell.execute_reply": "2024-07-30T20:14:27.643386Z"
        },
        "trusted": true,
        "id": "sjEdminfcaRH",
        "outputId": "faa009ef-71d2-42e9-93a9-59fd26d4b3cb"
      },
      "execution_count": null,
      "outputs": [
        {
          "execution_count": 72,
          "output_type": "execute_result",
          "data": {
            "text/plain": "0.9514"
          },
          "metadata": {}
        }
      ]
    },
    {
      "cell_type": "markdown",
      "source": [
        "#### As we can see this approach did not give better results, so we shall finally make our submission based on the original datasets."
      ],
      "metadata": {
        "id": "LeNL-s0fcaRI"
      }
    },
    {
      "cell_type": "code",
      "source": [
        "predictions = lg2.predict(testdf)\n",
        "\n",
        "# Create a DataFrame for the submission\n",
        "submission_df = pd.DataFrame({\n",
        "    'ID': range(1, len(predictions) + 1),  # Using index as ID\n",
        "    'Crime_Category': predictions\n",
        "})\n",
        "\n",
        "# Save the submission DataFrame to a CSV file\n",
        "submission_df.to_csv('submission.csv', index=False)"
      ],
      "metadata": {
        "execution": {
          "iopub.status.busy": "2024-07-30T20:35:36.326781Z",
          "iopub.execute_input": "2024-07-30T20:35:36.328337Z",
          "iopub.status.idle": "2024-07-30T20:35:37.040148Z",
          "shell.execute_reply.started": "2024-07-30T20:35:36.328288Z",
          "shell.execute_reply": "2024-07-30T20:35:37.038558Z"
        },
        "trusted": true,
        "id": "FiUcRxl8caRI"
      },
      "execution_count": null,
      "outputs": []
    },
    {
      "cell_type": "code",
      "source": [],
      "metadata": {
        "id": "nNnzq490caRI"
      },
      "execution_count": null,
      "outputs": []
    },
    {
      "cell_type": "code",
      "source": [],
      "metadata": {
        "id": "2nG4Ina1caRI"
      },
      "execution_count": null,
      "outputs": []
    },
    {
      "cell_type": "code",
      "source": [],
      "metadata": {
        "id": "gqzwqHZOcaRJ"
      },
      "execution_count": null,
      "outputs": []
    },
    {
      "cell_type": "code",
      "source": [],
      "metadata": {
        "id": "FWJMM393caRJ"
      },
      "execution_count": null,
      "outputs": []
    },
    {
      "cell_type": "code",
      "source": [],
      "metadata": {
        "id": "WNdrS76fcaRJ"
      },
      "execution_count": null,
      "outputs": []
    },
    {
      "cell_type": "code",
      "source": [],
      "metadata": {
        "id": "jr2wRWL2caRJ"
      },
      "execution_count": null,
      "outputs": []
    },
    {
      "cell_type": "code",
      "source": [],
      "metadata": {
        "id": "TVKRr_eacaRJ"
      },
      "execution_count": null,
      "outputs": []
    }
  ]
}